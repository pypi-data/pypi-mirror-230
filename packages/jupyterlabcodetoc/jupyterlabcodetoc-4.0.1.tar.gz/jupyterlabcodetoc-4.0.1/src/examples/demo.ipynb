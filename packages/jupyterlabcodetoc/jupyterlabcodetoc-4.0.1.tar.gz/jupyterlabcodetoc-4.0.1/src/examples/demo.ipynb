{
 "cells": [
  {
   "cell_type": "markdown",
   "metadata": {
    "editable": true,
    "slideshow": {
     "slide_type": ""
    },
    "tags": []
   },
   "source": [
    "# Notebook Title"
   ]
  },
  {
   "cell_type": "markdown",
   "metadata": {},
   "source": [
    "Lorem ipsum dolor sit amet, consectetur adipiscing elit, sed do eiusmod tempor incididunt ut labore et dolore magna aliqua. Ut enim ad minim veniam, quis nostrud exercitation ullamco laboris nisi ut aliquip ex ea commodo consequat. Duis aute irure dolor in reprehenderit in voluptate velit esse cillum dolore eu fugiat nulla pariatur. Excepteur sint occaecat cupidatat non proident, sunt in culpa qui officia deserunt mollit anim id est laborum."
   ]
  },
  {
   "cell_type": "code",
   "execution_count": 1,
   "metadata": {
    "execution": {
     "iopub.execute_input": "2023-09-12T10:20:59.448042Z",
     "iopub.status.busy": "2023-09-12T10:20:59.448042Z",
     "iopub.status.idle": "2023-09-12T10:20:59.461325Z",
     "shell.execute_reply": "2023-09-12T10:20:59.459919Z",
     "shell.execute_reply.started": "2023-09-12T10:20:59.448042Z"
    },
    "tags": [
     "time",
     "import"
    ]
   },
   "outputs": [],
   "source": [
    "import time\n",
    "def function():\n",
    "    x = 2\n",
    "    y = 3 \n",
    "    return x + y"
   ]
  },
  {
   "cell_type": "code",
   "execution_count": 2,
   "metadata": {
    "execution": {
     "iopub.execute_input": "2023-09-12T09:44:34.713660Z",
     "iopub.status.busy": "2023-09-12T09:44:34.713136Z",
     "iopub.status.idle": "2023-09-12T09:44:35.722108Z",
     "shell.execute_reply": "2023-09-12T09:44:35.722108Z",
     "shell.execute_reply.started": "2023-09-12T09:44:34.713660Z"
    },
    "tags": [
     "time"
    ]
   },
   "outputs": [],
   "source": [
    "time.sleep(1)"
   ]
  },
  {
   "cell_type": "markdown",
   "metadata": {},
   "source": [
    "## First Section"
   ]
  },
  {
   "cell_type": "markdown",
   "metadata": {},
   "source": [
    "Lorem ipsum dolor sit amet, consectetur adipiscing elit, sed do eiusmod tempor incididunt ut labore et dolore magna aliqua. Ut enim ad minim veniam, quis nostrud exercitation ullamco laboris nisi ut aliquip ex ea commodo consequat. Duis aute irure dolor in reprehenderit in voluptate velit esse cillum dolore eu fugiat nulla pariatur. Excepteur sint occaecat cupidatat non proident, sunt in culpa qui officia deserunt mollit anim id est laborum."
   ]
  },
  {
   "cell_type": "code",
   "execution_count": 3,
   "metadata": {
    "execution": {
     "iopub.execute_input": "2023-09-12T10:21:30.367705Z",
     "iopub.status.busy": "2023-09-12T10:21:30.367705Z",
     "iopub.status.idle": "2023-09-12T10:21:30.371984Z",
     "shell.execute_reply": "2023-09-12T10:21:30.371984Z",
     "shell.execute_reply.started": "2023-09-12T10:21:30.367705Z"
    },
    "tags": [
     "import"
    ]
   },
   "outputs": [],
   "source": [
    "import random"
   ]
  },
  {
   "cell_type": "markdown",
   "metadata": {},
   "source": [
    "Lorem ipsum dolor sit amet, consectetur adipiscing elit, sed do eiusmod tempor incididunt ut labore et dolore magna aliqua. Ut enim ad minim veniam, quis nostrud exercitation ullamco laboris nisi ut aliquip ex ea commodo consequat. Duis aute irure dolor in reprehenderit in voluptate velit esse cillum dolore eu fugiat nulla pariatur. Excepteur sint occaecat cupidatat non proident, sunt in culpa qui officia deserunt mollit anim id est laborum."
   ]
  },
  {
   "cell_type": "markdown",
   "metadata": {},
   "source": [
    "## Second Section"
   ]
  },
  {
   "cell_type": "markdown",
   "metadata": {},
   "source": [
    "Lorem ipsum dolor sit amet, consectetur adipiscing elit, sed do eiusmod tempor incididunt ut labore et dolore magna aliqua. Ut enim ad minim veniam, quis nostrud exercitation ullamco laboris nisi ut aliquip ex ea commodo consequat. Duis aute irure dolor in reprehenderit in voluptate velit esse cillum dolore eu fugiat nulla pariatur. Excepteur sint occaecat cupidatat non proident, sunt in culpa qui officia deserunt mollit anim id est laborum."
   ]
  },
  {
   "cell_type": "code",
   "execution_count": 4,
   "metadata": {
    "execution": {
     "iopub.execute_input": "2023-09-12T10:21:31.919043Z",
     "iopub.status.busy": "2023-09-12T10:21:31.918006Z",
     "iopub.status.idle": "2023-09-12T10:21:31.928868Z",
     "shell.execute_reply": "2023-09-12T10:21:31.927828Z",
     "shell.execute_reply.started": "2023-09-12T10:21:31.919043Z"
    }
   },
   "outputs": [
    {
     "data": {
      "text/plain": [
       "2"
      ]
     },
     "execution_count": 4,
     "metadata": {},
     "output_type": "execute_result"
    }
   ],
   "source": [
    "random.randint(1,2)"
   ]
  },
  {
   "cell_type": "markdown",
   "metadata": {},
   "source": [
    "### Subsection"
   ]
  },
  {
   "cell_type": "markdown",
   "metadata": {},
   "source": [
    "Lorem ipsum dolor sit amet, consectetur adipiscing elit, sed do eiusmod tempor incididunt ut labore et dolore magna aliqua. Ut enim ad minim veniam, quis nostrud exercitation ullamco laboris nisi ut aliquip ex ea commodo consequat. Duis aute irure dolor in reprehenderit in voluptate velit esse cillum dolore eu fugiat nulla pariatur. Excepteur sint occaecat cupidatat non proident, sunt in culpa qui officia deserunt mollit anim id est laborum."
   ]
  },
  {
   "cell_type": "code",
   "execution_count": 6,
   "metadata": {
    "execution": {
     "iopub.execute_input": "2023-09-12T10:21:51.998905Z",
     "iopub.status.busy": "2023-09-12T10:21:51.998905Z",
     "iopub.status.idle": "2023-09-12T10:21:52.007576Z",
     "shell.execute_reply": "2023-09-12T10:21:52.006058Z",
     "shell.execute_reply.started": "2023-09-12T10:21:51.998905Z"
    }
   },
   "outputs": [
    {
     "name": "stdout",
     "output_type": "stream",
     "text": [
      "Here another function\n"
     ]
    }
   ],
   "source": [
    "def f2():\n",
    "    print('Here another function')\n",
    "f2()"
   ]
  },
  {
   "cell_type": "markdown",
   "metadata": {},
   "source": [
    "## Third Section"
   ]
  },
  {
   "cell_type": "markdown",
   "metadata": {},
   "source": [
    "Lorem ipsum dolor sit amet, consectetur adipiscing elit, sed do eiusmod tempor incididunt ut labore et dolore magna aliqua. Ut enim ad minim veniam, quis nostrud exercitation ullamco laboris nisi ut aliquip ex ea commodo consequat. Duis aute irure dolor in reprehenderit in voluptate velit esse cillum dolore eu fugiat nulla pariatur. Excepteur sint occaecat cupidatat non proident, sunt in culpa qui officia deserunt mollit anim id est laborum."
   ]
  },
  {
   "cell_type": "code",
   "execution_count": 7,
   "metadata": {
    "execution": {
     "iopub.execute_input": "2023-09-12T10:22:49.893751Z",
     "iopub.status.busy": "2023-09-12T10:22:49.893751Z",
     "iopub.status.idle": "2023-09-12T10:22:49.900346Z",
     "shell.execute_reply": "2023-09-12T10:22:49.899337Z",
     "shell.execute_reply.started": "2023-09-12T10:22:49.893751Z"
    }
   },
   "outputs": [],
   "source": [
    "if 'blabla' in ['bla','bla'] :\n",
    "    print('blabla')"
   ]
  },
  {
   "cell_type": "markdown",
   "metadata": {},
   "source": [
    "### Subsection"
   ]
  },
  {
   "cell_type": "markdown",
   "metadata": {},
   "source": [
    "Lorem ipsum dolor sit amet, consectetur adipiscing elit, sed do eiusmod tempor incididunt ut labore et dolore magna aliqua. Ut enim ad minim veniam, quis nostrud exercitation ullamco laboris nisi ut aliquip ex ea commodo consequat. Duis aute irure dolor in reprehenderit in voluptate velit esse cillum dolore eu fugiat nulla pariatur. Excepteur sint occaecat cupidatat non proident, sunt in culpa qui officia deserunt mollit anim id est laborum."
   ]
  },
  {
   "cell_type": "code",
   "execution_count": 9,
   "metadata": {},
   "outputs": [
    {
     "data": {
      "text/plain": [
       "2"
      ]
     },
     "execution_count": 9,
     "metadata": {},
     "output_type": "execute_result"
    }
   ],
   "source": [
    "1+1"
   ]
  },
  {
   "cell_type": "markdown",
   "metadata": {},
   "source": [
    "#### Subsubsection"
   ]
  },
  {
   "cell_type": "markdown",
   "metadata": {},
   "source": [
    "Lorem ipsum dolor sit amet, consectetur adipiscing elit, sed do eiusmod tempor incididunt ut labore et dolore magna aliqua. Ut enim ad minim veniam, quis nostrud exercitation ullamco laboris nisi ut aliquip ex ea commodo consequat. Duis aute irure dolor in reprehenderit in voluptate velit esse cillum dolore eu fugiat nulla pariatur. Excepteur sint occaecat cupidatat non proident, sunt in culpa qui officia deserunt mollit anim id est laborum."
   ]
  },
  {
   "cell_type": "code",
   "execution_count": 8,
   "metadata": {
    "execution": {
     "iopub.execute_input": "2023-09-12T10:23:22.430579Z",
     "iopub.status.busy": "2023-09-12T10:23:22.430579Z",
     "iopub.status.idle": "2023-09-12T10:23:22.437635Z",
     "shell.execute_reply": "2023-09-12T10:23:22.437099Z",
     "shell.execute_reply.started": "2023-09-12T10:23:22.430579Z"
    }
   },
   "outputs": [
    {
     "name": "stdout",
     "output_type": "stream",
     "text": [
      "0\n",
      "1\n",
      "2\n"
     ]
    }
   ],
   "source": [
    "# comment\n",
    "for i in range(3):\n",
    "    print(i)"
   ]
  },
  {
   "cell_type": "markdown",
   "metadata": {},
   "source": [
    "#### Subsubsubsection 2"
   ]
  },
  {
   "cell_type": "markdown",
   "metadata": {},
   "source": [
    "Lorem ipsum dolor sit amet, consectetur adipiscing elit, sed do eiusmod tempor incididunt ut labore et dolore magna aliqua. Ut enim ad minim veniam, quis nostrud exercitation ullamco laboris nisi ut aliquip ex ea commodo consequat. Duis aute irure dolor in reprehenderit in voluptate velit esse cillum dolore eu fugiat nulla pariatur. Excepteur sint occaecat cupidatat non proident, sunt in culpa qui officia deserunt mollit anim id est laborum."
   ]
  },
  {
   "cell_type": "code",
   "execution_count": 11,
   "metadata": {},
   "outputs": [
    {
     "data": {
      "text/plain": [
       "2"
      ]
     },
     "execution_count": 11,
     "metadata": {},
     "output_type": "execute_result"
    }
   ],
   "source": [
    "1+1"
   ]
  },
  {
   "cell_type": "markdown",
   "metadata": {},
   "source": [
    "#### Subsubsection 3"
   ]
  },
  {
   "cell_type": "markdown",
   "metadata": {},
   "source": [
    "Lorem ipsum dolor sit amet, consectetur adipiscing elit, sed do eiusmod tempor incididunt ut labore et dolore magna aliqua. Ut enim ad minim veniam, quis nostrud exercitation ullamco laboris nisi ut aliquip ex ea commodo consequat. Duis aute irure dolor in reprehenderit in voluptate velit esse cillum dolore eu fugiat nulla pariatur. Excepteur sint occaecat cupidatat non proident, sunt in culpa qui officia deserunt mollit anim id est laborum."
   ]
  },
  {
   "cell_type": "code",
   "execution_count": 12,
   "metadata": {},
   "outputs": [
    {
     "data": {
      "text/plain": [
       "2"
      ]
     },
     "execution_count": 12,
     "metadata": {},
     "output_type": "execute_result"
    }
   ],
   "source": [
    "1+1"
   ]
  },
  {
   "cell_type": "markdown",
   "metadata": {
    "editable": true,
    "slideshow": {
     "slide_type": ""
    },
    "tags": []
   },
   "source": [
    "Markdown list:\n",
    "\n",
    "-   Item 1\n",
    "-   Item 2\n",
    "-   Item 3"
   ]
  },
  {
   "cell_type": "markdown",
   "metadata": {
    "editable": true,
    "slideshow": {
     "slide_type": ""
    },
    "tags": []
   },
   "source": [
    "Code block:\n",
    "\n",
    "```javascript\n",
    "var x = 3.14\n",
    "```"
   ]
  },
  {
   "cell_type": "markdown",
   "metadata": {},
   "source": [
    "Blockquote:\n",
    "\n",
    "> This is a quote."
   ]
  },
  {
   "cell_type": "code",
   "execution_count": 13,
   "metadata": {},
   "outputs": [
    {
     "data": {
      "text/plain": [
       "4"
      ]
     },
     "execution_count": 13,
     "metadata": {},
     "output_type": "execute_result"
    }
   ],
   "source": [
    "2+2"
   ]
  },
  {
   "cell_type": "markdown",
   "metadata": {},
   "source": [
    "## Programmatic Output"
   ]
  },
  {
   "cell_type": "markdown",
   "metadata": {},
   "source": [
    "The ToC extension also finds Markdown sections which are programmatically generated; however, users are **strongly** encouraged **not** to generate section headings (see **notes** below)..."
   ]
  },
  {
   "cell_type": "code",
   "execution_count": 14,
   "metadata": {
    "jupyter": {
     "source_hidden": true
    }
   },
   "outputs": [
    {
     "data": {
      "text/markdown": [
       "\n",
       "### Subsection\n",
       "\n",
       "Lorem ipsum dolor sit amet, consectetur adipiscing elit, sed do eiusmod tempor incididunt ut labore et dolore magna aliqua. Ut enim ad minim veniam, quis nostrud exercitation ullamco laboris nisi ut aliquip ex ea commodo consequat. Duis aute irure dolor in reprehenderit in voluptate velit esse cillum dolore eu fugiat nulla pariatur. Excepteur sint occaecat cupidatat non proident, sunt in culpa qui officia deserunt mollit anim id est laborum.\n",
       "\n"
      ],
      "text/plain": [
       "<IPython.core.display.Markdown object>"
      ]
     },
     "metadata": {},
     "output_type": "display_data"
    }
   ],
   "source": [
    "from IPython.display import Markdown, display\n",
    "\n",
    "display(Markdown(\"\"\"\n",
    "### Subsection\n",
    "\n",
    "Lorem ipsum dolor sit amet, consectetur adipiscing elit, sed do eiusmod tempor incididunt ut labore et dolore magna aliqua. Ut enim ad minim veniam, quis nostrud exercitation ullamco laboris nisi ut aliquip ex ea commodo consequat. Duis aute irure dolor in reprehenderit in voluptate velit esse cillum dolore eu fugiat nulla pariatur. Excepteur sint occaecat cupidatat non proident, sunt in culpa qui officia deserunt mollit anim id est laborum.\n",
    "\n",
    "\"\"\"))"
   ]
  },
  {
   "cell_type": "code",
   "execution_count": 15,
   "metadata": {
    "jupyter": {
     "source_hidden": true
    }
   },
   "outputs": [
    {
     "data": {
      "text/markdown": [
       "\n",
       "#### Subsubsection\n",
       "\n",
       "Lorem ipsum dolor sit amet, consectetur adipiscing elit, sed do eiusmod tempor incididunt ut labore et dolore magna aliqua. Ut enim ad minim veniam, quis nostrud exercitation ullamco laboris nisi ut aliquip ex ea commodo consequat. Duis aute irure dolor in reprehenderit in voluptate velit esse cillum dolore eu fugiat nulla pariatur. Excepteur sint occaecat cupidatat non proident, sunt in culpa qui officia deserunt mollit anim id est laborum.\n",
       "\n"
      ],
      "text/plain": [
       "<IPython.core.display.Markdown object>"
      ]
     },
     "metadata": {},
     "output_type": "display_data"
    }
   ],
   "source": [
    "from IPython.display import Markdown, display\n",
    "\n",
    "display(Markdown(\"\"\"\n",
    "#### Subsubsection\n",
    "\n",
    "Lorem ipsum dolor sit amet, consectetur adipiscing elit, sed do eiusmod tempor incididunt ut labore et dolore magna aliqua. Ut enim ad minim veniam, quis nostrud exercitation ullamco laboris nisi ut aliquip ex ea commodo consequat. Duis aute irure dolor in reprehenderit in voluptate velit esse cillum dolore eu fugiat nulla pariatur. Excepteur sint occaecat cupidatat non proident, sunt in culpa qui officia deserunt mollit anim id est laborum.\n",
    "\n",
    "\"\"\"))"
   ]
  },
  {
   "cell_type": "code",
   "execution_count": 16,
   "metadata": {
    "jupyter": {
     "source_hidden": true
    }
   },
   "outputs": [
    {
     "data": {
      "text/markdown": [
       "\n",
       "##### Subsubsubsection\n",
       "\n",
       "Lorem ipsum dolor sit amet, consectetur adipiscing elit, sed do eiusmod tempor incididunt ut labore et dolore magna aliqua. Ut enim ad minim veniam, quis nostrud exercitation ullamco laboris nisi ut aliquip ex ea commodo consequat. Duis aute irure dolor in reprehenderit in voluptate velit esse cillum dolore eu fugiat nulla pariatur. Excepteur sint occaecat cupidatat non proident, sunt in culpa qui officia deserunt mollit anim id est laborum.\n",
       "\n"
      ],
      "text/plain": [
       "<IPython.core.display.Markdown object>"
      ]
     },
     "metadata": {},
     "output_type": "display_data"
    },
    {
     "data": {
      "text/markdown": [
       "\n",
       "## Programmatic Output (mixed precedence)\n",
       "\n",
       "Lorem ipsum dolor sit amet, consectetur adipiscing elit, sed do eiusmod tempor incididunt ut labore et dolore magna aliqua. Ut enim ad minim veniam, quis nostrud exercitation ullamco laboris nisi ut aliquip ex ea commodo consequat. Duis aute irure dolor in reprehenderit in voluptate velit esse cillum dolore eu fugiat nulla pariatur. Excepteur sint occaecat cupidatat non proident, sunt in culpa qui officia deserunt mollit anim id est laborum.\n",
       "\n"
      ],
      "text/plain": [
       "<IPython.core.display.Markdown object>"
      ]
     },
     "metadata": {},
     "output_type": "display_data"
    }
   ],
   "source": [
    "from IPython.display import Markdown, display\n",
    "\n",
    "display(Markdown(\"\"\"\n",
    "##### Subsubsubsection\n",
    "\n",
    "Lorem ipsum dolor sit amet, consectetur adipiscing elit, sed do eiusmod tempor incididunt ut labore et dolore magna aliqua. Ut enim ad minim veniam, quis nostrud exercitation ullamco laboris nisi ut aliquip ex ea commodo consequat. Duis aute irure dolor in reprehenderit in voluptate velit esse cillum dolore eu fugiat nulla pariatur. Excepteur sint occaecat cupidatat non proident, sunt in culpa qui officia deserunt mollit anim id est laborum.\n",
    "\n",
    "\"\"\"))\n",
    "\n",
    "display(Markdown(\"\"\"\n",
    "## Programmatic Output (mixed precedence)\n",
    "\n",
    "Lorem ipsum dolor sit amet, consectetur adipiscing elit, sed do eiusmod tempor incididunt ut labore et dolore magna aliqua. Ut enim ad minim veniam, quis nostrud exercitation ullamco laboris nisi ut aliquip ex ea commodo consequat. Duis aute irure dolor in reprehenderit in voluptate velit esse cillum dolore eu fugiat nulla pariatur. Excepteur sint occaecat cupidatat non proident, sunt in culpa qui officia deserunt mollit anim id est laborum.\n",
    "\n",
    "\"\"\"))"
   ]
  },
  {
   "cell_type": "code",
   "execution_count": 17,
   "metadata": {
    "jupyter": {
     "source_hidden": true
    }
   },
   "outputs": [
    {
     "data": {
      "text/markdown": [
       "\n",
       "#### Subsubsection\n",
       "\n",
       "Lorem ipsum dolor sit amet, consectetur adipiscing elit, sed do eiusmod tempor incididunt ut labore et dolore magna aliqua. Ut enim ad minim veniam, quis nostrud exercitation ullamco laboris nisi ut aliquip ex ea commodo consequat. Duis aute irure dolor in reprehenderit in voluptate velit esse cillum dolore eu fugiat nulla pariatur. Excepteur sint occaecat cupidatat non proident, sunt in culpa qui officia deserunt mollit anim id est laborum.\n",
       "\n"
      ],
      "text/plain": [
       "<IPython.core.display.Markdown object>"
      ]
     },
     "metadata": {},
     "output_type": "display_data"
    },
    {
     "data": {
      "text/markdown": [
       "\n",
       "### Subsection\n",
       "\n",
       "Lorem ipsum dolor sit amet, consectetur adipiscing elit, sed do eiusmod tempor incididunt ut labore et dolore magna aliqua. Ut enim ad minim veniam, quis nostrud exercitation ullamco laboris nisi ut aliquip ex ea commodo consequat. Duis aute irure dolor in reprehenderit in voluptate velit esse cillum dolore eu fugiat nulla pariatur. Excepteur sint occaecat cupidatat non proident, sunt in culpa qui officia deserunt mollit anim id est laborum.\n",
       "\n"
      ],
      "text/plain": [
       "<IPython.core.display.Markdown object>"
      ]
     },
     "metadata": {},
     "output_type": "display_data"
    }
   ],
   "source": [
    "from IPython.display import Markdown, display\n",
    "\n",
    "display(Markdown(\"\"\"\n",
    "#### Subsubsection\n",
    "\n",
    "Lorem ipsum dolor sit amet, consectetur adipiscing elit, sed do eiusmod tempor incididunt ut labore et dolore magna aliqua. Ut enim ad minim veniam, quis nostrud exercitation ullamco laboris nisi ut aliquip ex ea commodo consequat. Duis aute irure dolor in reprehenderit in voluptate velit esse cillum dolore eu fugiat nulla pariatur. Excepteur sint occaecat cupidatat non proident, sunt in culpa qui officia deserunt mollit anim id est laborum.\n",
    "\n",
    "\"\"\"))\n",
    "\n",
    "display(Markdown(\"\"\"\n",
    "### Subsection\n",
    "\n",
    "Lorem ipsum dolor sit amet, consectetur adipiscing elit, sed do eiusmod tempor incididunt ut labore et dolore magna aliqua. Ut enim ad minim veniam, quis nostrud exercitation ullamco laboris nisi ut aliquip ex ea commodo consequat. Duis aute irure dolor in reprehenderit in voluptate velit esse cillum dolore eu fugiat nulla pariatur. Excepteur sint occaecat cupidatat non proident, sunt in culpa qui officia deserunt mollit anim id est laborum.\n",
    "\n",
    "\"\"\"))"
   ]
  },
  {
   "cell_type": "markdown",
   "metadata": {},
   "source": [
    "## Programmatic Output (no Markdown)"
   ]
  },
  {
   "cell_type": "code",
   "execution_count": 18,
   "metadata": {},
   "outputs": [
    {
     "data": {
      "application/vnd.code.notebook.error": {
       "message": "o.endsWith is not a function",
       "name": "TypeError",
       "stack": "TypeError: o.endsWith is not a function\n\tat i (c:\\Users\\Raphael\\AppData\\Local\\Programs\\Microsoft VS Code\\resources\\app\\extensions\\ipynb\\dist\\ipynbMain.js:1:142405)\n\tat c (c:\\Users\\Raphael\\AppData\\Local\\Programs\\Microsoft VS Code\\resources\\app\\extensions\\ipynb\\dist\\ipynbMain.js:1:143044)\n\tat f (c:\\Users\\Raphael\\AppData\\Local\\Programs\\Microsoft VS Code\\resources\\app\\extensions\\ipynb\\dist\\ipynbMain.js:1:143852)\n\tat h (c:\\Users\\Raphael\\AppData\\Local\\Programs\\Microsoft VS Code\\resources\\app\\extensions\\ipynb\\dist\\ipynbMain.js:1:144591)\n\tat Array.map (<anonymous>)\n\tat c:\\Users\\Raphael\\AppData\\Local\\Programs\\Microsoft VS Code\\resources\\app\\extensions\\ipynb\\dist\\ipynbMain.js:1:145700\n\tat c:\\Users\\Raphael\\AppData\\Local\\Programs\\Microsoft VS Code\\resources\\app\\extensions\\ipynb\\dist\\ipynbMain.js:1:146017\n\tat c:\\Users\\Raphael\\AppData\\Local\\Programs\\Microsoft VS Code\\resources\\app\\extensions\\ipynb\\dist\\ipynbMain.js:1:146024\n\tat Array.map (<anonymous>)\n\tat e.$d (c:\\Users\\Raphael\\AppData\\Local\\Programs\\Microsoft VS Code\\resources\\app\\extensions\\ipynb\\dist\\ipynbMain.js:1:145276)\n\tat e.$m.deserializeNotebook (c:\\Users\\Raphael\\AppData\\Local\\Programs\\Microsoft VS Code\\resources\\app\\extensions\\ipynb\\dist\\ipynbMain.js:1:156884)\n\tat t.$dataToNotebook (c:\\Users\\Raphael\\AppData\\Local\\Programs\\Microsoft VS Code\\resources\\app\\out\\vs\\workbench\\api\\node\\extensionHostProcess.js:109:91559)\n\tat i.N (c:\\Users\\Raphael\\AppData\\Local\\Programs\\Microsoft VS Code\\resources\\app\\out\\vs\\workbench\\api\\node\\extensionHostProcess.js:116:10813)\n\tat i.M (c:\\Users\\Raphael\\AppData\\Local\\Programs\\Microsoft VS Code\\resources\\app\\out\\vs\\workbench\\api\\node\\extensionHostProcess.js:116:10579)\n\tat i.H (c:\\Users\\Raphael\\AppData\\Local\\Programs\\Microsoft VS Code\\resources\\app\\out\\vs\\workbench\\api\\node\\extensionHostProcess.js:116:9621)\n\tat i.G (c:\\Users\\Raphael\\AppData\\Local\\Programs\\Microsoft VS Code\\resources\\app\\out\\vs\\workbench\\api\\node\\extensionHostProcess.js:116:8875)\n\tat n.value (c:\\Users\\Raphael\\AppData\\Local\\Programs\\Microsoft VS Code\\resources\\app\\out\\vs\\workbench\\api\\node\\extensionHostProcess.js:116:7566)\n\tat m.w (c:\\Users\\Raphael\\AppData\\Local\\Programs\\Microsoft VS Code\\resources\\app\\out\\vs\\workbench\\api\\node\\extensionHostProcess.js:63:1902)\n\tat m.fire (c:\\Users\\Raphael\\AppData\\Local\\Programs\\Microsoft VS Code\\resources\\app\\out\\vs\\workbench\\api\\node\\extensionHostProcess.js:63:2119)\n\tat w.fire (c:\\Users\\Raphael\\AppData\\Local\\Programs\\Microsoft VS Code\\resources\\app\\out\\vs\\workbench\\api\\node\\extensionHostProcess.js:79:13940)\n\tat n.value (c:\\Users\\Raphael\\AppData\\Local\\Programs\\Microsoft VS Code\\resources\\app\\out\\vs\\workbench\\api\\node\\extensionHostProcess.js:135:7901)\n\tat m.w (c:\\Users\\Raphael\\AppData\\Local\\Programs\\Microsoft VS Code\\resources\\app\\out\\vs\\workbench\\api\\node\\extensionHostProcess.js:63:1902)\n\tat m.fire (c:\\Users\\Raphael\\AppData\\Local\\Programs\\Microsoft VS Code\\resources\\app\\out\\vs\\workbench\\api\\node\\extensionHostProcess.js:63:2119)\n\tat w.fire (c:\\Users\\Raphael\\AppData\\Local\\Programs\\Microsoft VS Code\\resources\\app\\out\\vs\\workbench\\api\\node\\extensionHostProcess.js:79:13940)\n\tat MessagePortMain.<anonymous> (c:\\Users\\Raphael\\AppData\\Local\\Programs\\Microsoft VS Code\\resources\\app\\out\\vs\\workbench\\api\\node\\extensionHostProcess.js:135:6181)\n\tat MessagePortMain.emit (node:events:513:28)\n\tat MessagePortMain.emit (node:domain:489:12)\n\tat MessagePortMain._internalPort.emit (node:electron/js2c/utility_init:2:367)"
      },
      "text/plain": [
       "<IPython.core.display.JSON object>"
      ]
     },
     "metadata": {
      "application/json": {
       "expanded": false,
       "root": "root"
      }
     },
     "output_type": "display_data"
    },
    {
     "data": {
      "application/vnd.code.notebook.error": {
       "message": "o.endsWith is not a function",
       "name": "TypeError",
       "stack": "TypeError: o.endsWith is not a function\n\tat i (c:\\Users\\Raphael\\AppData\\Local\\Programs\\Microsoft VS Code\\resources\\app\\extensions\\ipynb\\dist\\ipynbMain.js:1:142405)\n\tat c (c:\\Users\\Raphael\\AppData\\Local\\Programs\\Microsoft VS Code\\resources\\app\\extensions\\ipynb\\dist\\ipynbMain.js:1:143044)\n\tat f (c:\\Users\\Raphael\\AppData\\Local\\Programs\\Microsoft VS Code\\resources\\app\\extensions\\ipynb\\dist\\ipynbMain.js:1:143852)\n\tat h (c:\\Users\\Raphael\\AppData\\Local\\Programs\\Microsoft VS Code\\resources\\app\\extensions\\ipynb\\dist\\ipynbMain.js:1:144591)\n\tat Array.map (<anonymous>)\n\tat c:\\Users\\Raphael\\AppData\\Local\\Programs\\Microsoft VS Code\\resources\\app\\extensions\\ipynb\\dist\\ipynbMain.js:1:145700\n\tat c:\\Users\\Raphael\\AppData\\Local\\Programs\\Microsoft VS Code\\resources\\app\\extensions\\ipynb\\dist\\ipynbMain.js:1:146017\n\tat c:\\Users\\Raphael\\AppData\\Local\\Programs\\Microsoft VS Code\\resources\\app\\extensions\\ipynb\\dist\\ipynbMain.js:1:146024\n\tat Array.map (<anonymous>)\n\tat e.$d (c:\\Users\\Raphael\\AppData\\Local\\Programs\\Microsoft VS Code\\resources\\app\\extensions\\ipynb\\dist\\ipynbMain.js:1:145276)\n\tat e.$m.deserializeNotebook (c:\\Users\\Raphael\\AppData\\Local\\Programs\\Microsoft VS Code\\resources\\app\\extensions\\ipynb\\dist\\ipynbMain.js:1:156884)\n\tat t.$dataToNotebook (c:\\Users\\Raphael\\AppData\\Local\\Programs\\Microsoft VS Code\\resources\\app\\out\\vs\\workbench\\api\\node\\extensionHostProcess.js:109:91559)\n\tat i.N (c:\\Users\\Raphael\\AppData\\Local\\Programs\\Microsoft VS Code\\resources\\app\\out\\vs\\workbench\\api\\node\\extensionHostProcess.js:116:10813)\n\tat i.M (c:\\Users\\Raphael\\AppData\\Local\\Programs\\Microsoft VS Code\\resources\\app\\out\\vs\\workbench\\api\\node\\extensionHostProcess.js:116:10579)\n\tat i.H (c:\\Users\\Raphael\\AppData\\Local\\Programs\\Microsoft VS Code\\resources\\app\\out\\vs\\workbench\\api\\node\\extensionHostProcess.js:116:9621)\n\tat i.G (c:\\Users\\Raphael\\AppData\\Local\\Programs\\Microsoft VS Code\\resources\\app\\out\\vs\\workbench\\api\\node\\extensionHostProcess.js:116:8875)\n\tat n.value (c:\\Users\\Raphael\\AppData\\Local\\Programs\\Microsoft VS Code\\resources\\app\\out\\vs\\workbench\\api\\node\\extensionHostProcess.js:116:7566)\n\tat m.w (c:\\Users\\Raphael\\AppData\\Local\\Programs\\Microsoft VS Code\\resources\\app\\out\\vs\\workbench\\api\\node\\extensionHostProcess.js:63:1902)\n\tat m.fire (c:\\Users\\Raphael\\AppData\\Local\\Programs\\Microsoft VS Code\\resources\\app\\out\\vs\\workbench\\api\\node\\extensionHostProcess.js:63:2119)\n\tat w.fire (c:\\Users\\Raphael\\AppData\\Local\\Programs\\Microsoft VS Code\\resources\\app\\out\\vs\\workbench\\api\\node\\extensionHostProcess.js:79:13940)\n\tat n.value (c:\\Users\\Raphael\\AppData\\Local\\Programs\\Microsoft VS Code\\resources\\app\\out\\vs\\workbench\\api\\node\\extensionHostProcess.js:135:7901)\n\tat m.w (c:\\Users\\Raphael\\AppData\\Local\\Programs\\Microsoft VS Code\\resources\\app\\out\\vs\\workbench\\api\\node\\extensionHostProcess.js:63:1902)\n\tat m.fire (c:\\Users\\Raphael\\AppData\\Local\\Programs\\Microsoft VS Code\\resources\\app\\out\\vs\\workbench\\api\\node\\extensionHostProcess.js:63:2119)\n\tat w.fire (c:\\Users\\Raphael\\AppData\\Local\\Programs\\Microsoft VS Code\\resources\\app\\out\\vs\\workbench\\api\\node\\extensionHostProcess.js:79:13940)\n\tat MessagePortMain.<anonymous> (c:\\Users\\Raphael\\AppData\\Local\\Programs\\Microsoft VS Code\\resources\\app\\out\\vs\\workbench\\api\\node\\extensionHostProcess.js:135:6181)\n\tat MessagePortMain.emit (node:events:513:28)\n\tat MessagePortMain.emit (node:domain:489:12)\n\tat MessagePortMain._internalPort.emit (node:electron/js2c/utility_init:2:367)"
      },
      "text/plain": [
       "<IPython.core.display.JSON object>"
      ]
     },
     "metadata": {
      "application/json": {
       "expanded": false,
       "root": "root"
      }
     },
     "output_type": "display_data"
    }
   ],
   "source": [
    "from IPython.display import JSON, display\n",
    "\n",
    "display(JSON([1,2,3]))\n",
    "display(JSON([4,5,6]))"
   ]
  },
  {
   "cell_type": "markdown",
   "metadata": {},
   "source": [
    "### Subsection"
   ]
  },
  {
   "cell_type": "code",
   "execution_count": 19,
   "metadata": {},
   "outputs": [
    {
     "data": {
      "application/vnd.code.notebook.error": {
       "message": "o.endsWith is not a function",
       "name": "TypeError",
       "stack": "TypeError: o.endsWith is not a function\n\tat i (c:\\Users\\Raphael\\AppData\\Local\\Programs\\Microsoft VS Code\\resources\\app\\extensions\\ipynb\\dist\\ipynbMain.js:1:142405)\n\tat c (c:\\Users\\Raphael\\AppData\\Local\\Programs\\Microsoft VS Code\\resources\\app\\extensions\\ipynb\\dist\\ipynbMain.js:1:143044)\n\tat f (c:\\Users\\Raphael\\AppData\\Local\\Programs\\Microsoft VS Code\\resources\\app\\extensions\\ipynb\\dist\\ipynbMain.js:1:143852)\n\tat h (c:\\Users\\Raphael\\AppData\\Local\\Programs\\Microsoft VS Code\\resources\\app\\extensions\\ipynb\\dist\\ipynbMain.js:1:144591)\n\tat Array.map (<anonymous>)\n\tat c:\\Users\\Raphael\\AppData\\Local\\Programs\\Microsoft VS Code\\resources\\app\\extensions\\ipynb\\dist\\ipynbMain.js:1:145700\n\tat c:\\Users\\Raphael\\AppData\\Local\\Programs\\Microsoft VS Code\\resources\\app\\extensions\\ipynb\\dist\\ipynbMain.js:1:146017\n\tat c:\\Users\\Raphael\\AppData\\Local\\Programs\\Microsoft VS Code\\resources\\app\\extensions\\ipynb\\dist\\ipynbMain.js:1:146024\n\tat Array.map (<anonymous>)\n\tat e.$d (c:\\Users\\Raphael\\AppData\\Local\\Programs\\Microsoft VS Code\\resources\\app\\extensions\\ipynb\\dist\\ipynbMain.js:1:145276)\n\tat e.$m.deserializeNotebook (c:\\Users\\Raphael\\AppData\\Local\\Programs\\Microsoft VS Code\\resources\\app\\extensions\\ipynb\\dist\\ipynbMain.js:1:156884)\n\tat t.$dataToNotebook (c:\\Users\\Raphael\\AppData\\Local\\Programs\\Microsoft VS Code\\resources\\app\\out\\vs\\workbench\\api\\node\\extensionHostProcess.js:109:91559)\n\tat i.N (c:\\Users\\Raphael\\AppData\\Local\\Programs\\Microsoft VS Code\\resources\\app\\out\\vs\\workbench\\api\\node\\extensionHostProcess.js:116:10813)\n\tat i.M (c:\\Users\\Raphael\\AppData\\Local\\Programs\\Microsoft VS Code\\resources\\app\\out\\vs\\workbench\\api\\node\\extensionHostProcess.js:116:10579)\n\tat i.H (c:\\Users\\Raphael\\AppData\\Local\\Programs\\Microsoft VS Code\\resources\\app\\out\\vs\\workbench\\api\\node\\extensionHostProcess.js:116:9621)\n\tat i.G (c:\\Users\\Raphael\\AppData\\Local\\Programs\\Microsoft VS Code\\resources\\app\\out\\vs\\workbench\\api\\node\\extensionHostProcess.js:116:8875)\n\tat n.value (c:\\Users\\Raphael\\AppData\\Local\\Programs\\Microsoft VS Code\\resources\\app\\out\\vs\\workbench\\api\\node\\extensionHostProcess.js:116:7566)\n\tat m.w (c:\\Users\\Raphael\\AppData\\Local\\Programs\\Microsoft VS Code\\resources\\app\\out\\vs\\workbench\\api\\node\\extensionHostProcess.js:63:1902)\n\tat m.fire (c:\\Users\\Raphael\\AppData\\Local\\Programs\\Microsoft VS Code\\resources\\app\\out\\vs\\workbench\\api\\node\\extensionHostProcess.js:63:2119)\n\tat w.fire (c:\\Users\\Raphael\\AppData\\Local\\Programs\\Microsoft VS Code\\resources\\app\\out\\vs\\workbench\\api\\node\\extensionHostProcess.js:79:13940)\n\tat n.value (c:\\Users\\Raphael\\AppData\\Local\\Programs\\Microsoft VS Code\\resources\\app\\out\\vs\\workbench\\api\\node\\extensionHostProcess.js:135:7901)\n\tat m.w (c:\\Users\\Raphael\\AppData\\Local\\Programs\\Microsoft VS Code\\resources\\app\\out\\vs\\workbench\\api\\node\\extensionHostProcess.js:63:1902)\n\tat m.fire (c:\\Users\\Raphael\\AppData\\Local\\Programs\\Microsoft VS Code\\resources\\app\\out\\vs\\workbench\\api\\node\\extensionHostProcess.js:63:2119)\n\tat w.fire (c:\\Users\\Raphael\\AppData\\Local\\Programs\\Microsoft VS Code\\resources\\app\\out\\vs\\workbench\\api\\node\\extensionHostProcess.js:79:13940)\n\tat MessagePortMain.<anonymous> (c:\\Users\\Raphael\\AppData\\Local\\Programs\\Microsoft VS Code\\resources\\app\\out\\vs\\workbench\\api\\node\\extensionHostProcess.js:135:6181)\n\tat MessagePortMain.emit (node:events:513:28)\n\tat MessagePortMain.emit (node:domain:489:12)\n\tat MessagePortMain._internalPort.emit (node:electron/js2c/utility_init:2:367)"
      },
      "text/plain": [
       "<IPython.core.display.JSON object>"
      ]
     },
     "metadata": {
      "application/json": {
       "expanded": false,
       "root": "root"
      }
     },
     "output_type": "display_data"
    },
    {
     "data": {
      "application/vnd.code.notebook.error": {
       "message": "o.endsWith is not a function",
       "name": "TypeError",
       "stack": "TypeError: o.endsWith is not a function\n\tat i (c:\\Users\\Raphael\\AppData\\Local\\Programs\\Microsoft VS Code\\resources\\app\\extensions\\ipynb\\dist\\ipynbMain.js:1:142405)\n\tat c (c:\\Users\\Raphael\\AppData\\Local\\Programs\\Microsoft VS Code\\resources\\app\\extensions\\ipynb\\dist\\ipynbMain.js:1:143044)\n\tat f (c:\\Users\\Raphael\\AppData\\Local\\Programs\\Microsoft VS Code\\resources\\app\\extensions\\ipynb\\dist\\ipynbMain.js:1:143852)\n\tat h (c:\\Users\\Raphael\\AppData\\Local\\Programs\\Microsoft VS Code\\resources\\app\\extensions\\ipynb\\dist\\ipynbMain.js:1:144591)\n\tat Array.map (<anonymous>)\n\tat c:\\Users\\Raphael\\AppData\\Local\\Programs\\Microsoft VS Code\\resources\\app\\extensions\\ipynb\\dist\\ipynbMain.js:1:145700\n\tat c:\\Users\\Raphael\\AppData\\Local\\Programs\\Microsoft VS Code\\resources\\app\\extensions\\ipynb\\dist\\ipynbMain.js:1:146017\n\tat c:\\Users\\Raphael\\AppData\\Local\\Programs\\Microsoft VS Code\\resources\\app\\extensions\\ipynb\\dist\\ipynbMain.js:1:146024\n\tat Array.map (<anonymous>)\n\tat e.$d (c:\\Users\\Raphael\\AppData\\Local\\Programs\\Microsoft VS Code\\resources\\app\\extensions\\ipynb\\dist\\ipynbMain.js:1:145276)\n\tat e.$m.deserializeNotebook (c:\\Users\\Raphael\\AppData\\Local\\Programs\\Microsoft VS Code\\resources\\app\\extensions\\ipynb\\dist\\ipynbMain.js:1:156884)\n\tat t.$dataToNotebook (c:\\Users\\Raphael\\AppData\\Local\\Programs\\Microsoft VS Code\\resources\\app\\out\\vs\\workbench\\api\\node\\extensionHostProcess.js:109:91559)\n\tat i.N (c:\\Users\\Raphael\\AppData\\Local\\Programs\\Microsoft VS Code\\resources\\app\\out\\vs\\workbench\\api\\node\\extensionHostProcess.js:116:10813)\n\tat i.M (c:\\Users\\Raphael\\AppData\\Local\\Programs\\Microsoft VS Code\\resources\\app\\out\\vs\\workbench\\api\\node\\extensionHostProcess.js:116:10579)\n\tat i.H (c:\\Users\\Raphael\\AppData\\Local\\Programs\\Microsoft VS Code\\resources\\app\\out\\vs\\workbench\\api\\node\\extensionHostProcess.js:116:9621)\n\tat i.G (c:\\Users\\Raphael\\AppData\\Local\\Programs\\Microsoft VS Code\\resources\\app\\out\\vs\\workbench\\api\\node\\extensionHostProcess.js:116:8875)\n\tat n.value (c:\\Users\\Raphael\\AppData\\Local\\Programs\\Microsoft VS Code\\resources\\app\\out\\vs\\workbench\\api\\node\\extensionHostProcess.js:116:7566)\n\tat m.w (c:\\Users\\Raphael\\AppData\\Local\\Programs\\Microsoft VS Code\\resources\\app\\out\\vs\\workbench\\api\\node\\extensionHostProcess.js:63:1902)\n\tat m.fire (c:\\Users\\Raphael\\AppData\\Local\\Programs\\Microsoft VS Code\\resources\\app\\out\\vs\\workbench\\api\\node\\extensionHostProcess.js:63:2119)\n\tat w.fire (c:\\Users\\Raphael\\AppData\\Local\\Programs\\Microsoft VS Code\\resources\\app\\out\\vs\\workbench\\api\\node\\extensionHostProcess.js:79:13940)\n\tat n.value (c:\\Users\\Raphael\\AppData\\Local\\Programs\\Microsoft VS Code\\resources\\app\\out\\vs\\workbench\\api\\node\\extensionHostProcess.js:135:7901)\n\tat m.w (c:\\Users\\Raphael\\AppData\\Local\\Programs\\Microsoft VS Code\\resources\\app\\out\\vs\\workbench\\api\\node\\extensionHostProcess.js:63:1902)\n\tat m.fire (c:\\Users\\Raphael\\AppData\\Local\\Programs\\Microsoft VS Code\\resources\\app\\out\\vs\\workbench\\api\\node\\extensionHostProcess.js:63:2119)\n\tat w.fire (c:\\Users\\Raphael\\AppData\\Local\\Programs\\Microsoft VS Code\\resources\\app\\out\\vs\\workbench\\api\\node\\extensionHostProcess.js:79:13940)\n\tat MessagePortMain.<anonymous> (c:\\Users\\Raphael\\AppData\\Local\\Programs\\Microsoft VS Code\\resources\\app\\out\\vs\\workbench\\api\\node\\extensionHostProcess.js:135:6181)\n\tat MessagePortMain.emit (node:events:513:28)\n\tat MessagePortMain.emit (node:domain:489:12)\n\tat MessagePortMain._internalPort.emit (node:electron/js2c/utility_init:2:367)"
      },
      "text/plain": [
       "<IPython.core.display.JSON object>"
      ]
     },
     "metadata": {
      "application/json": {
       "expanded": false,
       "root": "root"
      }
     },
     "output_type": "display_data"
    }
   ],
   "source": [
    "from IPython.display import JSON, display\n",
    "\n",
    "display(JSON([1,2,3]))\n",
    "display(JSON([4,5,6]))"
   ]
  },
  {
   "cell_type": "markdown",
   "metadata": {},
   "source": [
    "## Programmatic Output (recommended)"
   ]
  },
  {
   "cell_type": "markdown",
   "metadata": {},
   "source": [
    "When programmatically generating Markdown (e.g., for variable interpolation), the following approach is recommended. Hardcode section headings..."
   ]
  },
  {
   "cell_type": "markdown",
   "metadata": {},
   "source": [
    "### Subsection"
   ]
  },
  {
   "cell_type": "markdown",
   "metadata": {},
   "source": [
    "...and then generate section content..."
   ]
  },
  {
   "cell_type": "code",
   "execution_count": 20,
   "metadata": {
    "jupyter": {
     "source_hidden": true
    }
   },
   "outputs": [
    {
     "data": {
      "text/markdown": [
       "\n",
       "Lorem ipsum dolor sit amet **3.14**, consectetur adipiscing elit **6.28**, sed do eiusmod tempor incididunt ut labore et dolore magna aliqua. Ut enim ad minim veniam, quis nostrud exercitation ullamco laboris nisi ut aliquip ex ea commodo consequat. Duis aute irure dolor in reprehenderit in voluptate velit esse cillum dolore eu fugiat nulla pariatur. Excepteur sint occaecat cupidatat non proident, sunt in culpa qui officia deserunt mollit anim id est laborum.\n"
      ],
      "text/plain": [
       "<IPython.core.display.Markdown object>"
      ]
     },
     "metadata": {},
     "output_type": "display_data"
    }
   ],
   "source": [
    "from IPython.display import Markdown, display\n",
    "\n",
    "display(Markdown(\"\"\"\n",
    "Lorem ipsum dolor sit amet **{}**, consectetur adipiscing elit **{}**, sed do eiusmod tempor incididunt ut labore et dolore magna aliqua. Ut enim ad minim veniam, quis nostrud exercitation ullamco laboris nisi ut aliquip ex ea commodo consequat. Duis aute irure dolor in reprehenderit in voluptate velit esse cillum dolore eu fugiat nulla pariatur. Excepteur sint occaecat cupidatat non proident, sunt in culpa qui officia deserunt mollit anim id est laborum.\n",
    "\"\"\".format(3.14, 6.28)))"
   ]
  },
  {
   "cell_type": "markdown",
   "metadata": {},
   "source": [
    "#### Subsubsection"
   ]
  },
  {
   "cell_type": "code",
   "execution_count": 21,
   "metadata": {
    "jupyter": {
     "source_hidden": true
    }
   },
   "outputs": [
    {
     "data": {
      "text/markdown": [
       "\n",
       "Lorem ipsum dolor sit amet **3.14**, consectetur adipiscing elit **6.28**, sed do eiusmod tempor incididunt ut labore et dolore magna aliqua. Ut enim ad minim veniam, quis nostrud exercitation ullamco laboris nisi ut aliquip ex ea commodo consequat. Duis aute irure dolor in reprehenderit in voluptate velit esse cillum dolore eu fugiat nulla pariatur. Excepteur sint occaecat cupidatat non proident, sunt in culpa qui officia deserunt mollit anim id est laborum.\n"
      ],
      "text/plain": [
       "<IPython.core.display.Markdown object>"
      ]
     },
     "metadata": {},
     "output_type": "display_data"
    }
   ],
   "source": [
    "from IPython.display import Markdown, display\n",
    "\n",
    "display(Markdown(\"\"\"\n",
    "Lorem ipsum dolor sit amet **{}**, consectetur adipiscing elit **{}**, sed do eiusmod tempor incididunt ut labore et dolore magna aliqua. Ut enim ad minim veniam, quis nostrud exercitation ullamco laboris nisi ut aliquip ex ea commodo consequat. Duis aute irure dolor in reprehenderit in voluptate velit esse cillum dolore eu fugiat nulla pariatur. Excepteur sint occaecat cupidatat non proident, sunt in culpa qui officia deserunt mollit anim id est laborum.\n",
    "\"\"\".format(3.14, 6.28)))"
   ]
  },
  {
   "cell_type": "markdown",
   "metadata": {},
   "source": [
    "### Subsection"
   ]
  },
  {
   "cell_type": "code",
   "execution_count": 22,
   "metadata": {
    "jupyter": {
     "source_hidden": true
    }
   },
   "outputs": [
    {
     "data": {
      "text/markdown": [
       "\n",
       "Lorem ipsum dolor sit amet **3.14**, consectetur adipiscing elit **6.28**, sed do eiusmod tempor incididunt ut labore et dolore magna aliqua. Ut enim ad minim veniam, quis nostrud exercitation ullamco laboris nisi ut aliquip ex ea commodo consequat. Duis aute irure dolor in reprehenderit in voluptate velit esse cillum dolore eu fugiat nulla pariatur. Excepteur sint occaecat cupidatat non proident, sunt in culpa qui officia deserunt mollit anim id est laborum.\n"
      ],
      "text/plain": [
       "<IPython.core.display.Markdown object>"
      ]
     },
     "metadata": {},
     "output_type": "display_data"
    }
   ],
   "source": [
    "from IPython.display import Markdown, display\n",
    "\n",
    "display(Markdown(\"\"\"\n",
    "Lorem ipsum dolor sit amet **{}**, consectetur adipiscing elit **{}**, sed do eiusmod tempor incididunt ut labore et dolore magna aliqua. Ut enim ad minim veniam, quis nostrud exercitation ullamco laboris nisi ut aliquip ex ea commodo consequat. Duis aute irure dolor in reprehenderit in voluptate velit esse cillum dolore eu fugiat nulla pariatur. Excepteur sint occaecat cupidatat non proident, sunt in culpa qui officia deserunt mollit anim id est laborum.\n",
    "\"\"\".format(3.14, 6.28)))"
   ]
  },
  {
   "cell_type": "markdown",
   "metadata": {},
   "source": [
    "#### Subsubsection"
   ]
  },
  {
   "cell_type": "code",
   "execution_count": 23,
   "metadata": {
    "jupyter": {
     "source_hidden": true
    }
   },
   "outputs": [
    {
     "data": {
      "text/markdown": [
       "\n",
       "Lorem ipsum dolor sit amet **3.14**, consectetur adipiscing elit **6.28**, sed do eiusmod tempor incididunt ut labore et dolore magna aliqua. Ut enim ad minim veniam, quis nostrud exercitation ullamco laboris nisi ut aliquip ex ea commodo consequat. Duis aute irure dolor in reprehenderit in voluptate velit esse cillum dolore eu fugiat nulla pariatur. Excepteur sint occaecat cupidatat non proident, sunt in culpa qui officia deserunt mollit anim id est laborum.\n"
      ],
      "text/plain": [
       "<IPython.core.display.Markdown object>"
      ]
     },
     "metadata": {},
     "output_type": "display_data"
    }
   ],
   "source": [
    "from IPython.display import Markdown, display\n",
    "\n",
    "display(Markdown(\"\"\"\n",
    "Lorem ipsum dolor sit amet **{}**, consectetur adipiscing elit **{}**, sed do eiusmod tempor incididunt ut labore et dolore magna aliqua. Ut enim ad minim veniam, quis nostrud exercitation ullamco laboris nisi ut aliquip ex ea commodo consequat. Duis aute irure dolor in reprehenderit in voluptate velit esse cillum dolore eu fugiat nulla pariatur. Excepteur sint occaecat cupidatat non proident, sunt in culpa qui officia deserunt mollit anim id est laborum.\n",
    "\"\"\".format(3.14, 6.28)))"
   ]
  },
  {
   "cell_type": "markdown",
   "metadata": {},
   "source": [
    "## Notes\n",
    "\n",
    "-   Markdown cells containing multiple \"sections\" only show as the first section in the ToC. Accordingly, users should add a **new** Markdown cell for **each** section.\n",
    "-   The ToC extension **does** detect multiple \"sections\" when those sections are generated by code cells. However, users are likely to run into unexpected ToC behavior when doing so, including side effects such as collapsing one generated section collapsing another generated section. Users are strongly encouraged to **avoid** using code cells to generate section headings.\n",
    "\n",
    "    Instead, users should hardcode each section heading and only generate Markdown output for content **requiring** variable interpolation."
   ]
  },
  {
   "cell_type": "code",
   "execution_count": null,
   "metadata": {},
   "outputs": [],
   "source": []
  }
 ],
 "metadata": {
  "jpcodetoc-autonumbering": false,
  "jpcodetoc-showcode": true,
  "jpcodetoc-showmarkdowntxt": true,
  "jpcodetoc-showtags": false,
  "kernelspec": {
   "display_name": "Python 3 (ipykernel)",
   "language": "python",
   "name": "python3"
  },
  "language_info": {
   "codemirror_mode": {
    "name": "ipython",
    "version": 3
   },
   "file_extension": ".py",
   "mimetype": "text/x-python",
   "name": "python",
   "nbconvert_exporter": "python",
   "pygments_lexer": "ipython3",
   "version": "3.11.5"
  }
 },
 "nbformat": 4,
 "nbformat_minor": 4
}

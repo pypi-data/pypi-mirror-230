{
 "cells": [
  {
   "attachments": {},
   "cell_type": "markdown",
   "metadata": {},
   "source": [
    "# Tutorial 1 - No Model\n",
    "This first tutorial outlines the basics of creating Kernels, hyperparameters, priors and obtaining the GP log likelihood using the given parameters. It also goes over the basics of the plotting functions and shows how to plot the calculated GP."
   ]
  },
  {
   "cell_type": "code",
   "execution_count": null,
   "metadata": {},
   "outputs": [],
   "source": [
    "import numpy as np\n",
    "\n",
    "from magpy_rv.mcmc_aux import get_model as get_model\n",
    "import magpy_rv.parameters as par\n",
    "import magpy_rv.models as mod\n",
    "import magpy_rv.kernels as ker\n",
    "import magpy_rv.gp_likelihood as gp\n",
    "from magpy_rv.mcmc import run_MCMC as run\n",
    "import magpy_rv.plotting as plot\n",
    "from magpy_rv.saving import save as save\n",
    "import magpy_rv.auxiliary as aux"
   ]
  },
  {
   "attachments": {},
   "cell_type": "markdown",
   "metadata": {},
   "source": [
    "## Creating fake data to work with\n",
    "A cosine with a small jitter term is created as a fake set of data, this will act as the activity to model our kernel from"
   ]
  },
  {
   "cell_type": "code",
   "execution_count": null,
   "metadata": {},
   "outputs": [],
   "source": [
    "# time array with 20 values\n",
    "time = np.arange(0,20,1)\n",
    "# set up the amplitude and period of the cosine\n",
    "A = 10.\n",
    "P = 5.\n",
    "err = []\n",
    "# set up a random jitter to add to the data\n",
    "for i in time:\n",
    "    err.append(np.random.uniform(-3,3))\n",
    "# generate the rvs and errors\n",
    "rv = A*np.cos(time*((2*np.pi)/P))+err\n",
    "rv_err = np.ones_like(rv)*3"
   ]
  },
  {
   "attachments": {},
   "cell_type": "markdown",
   "metadata": {},
   "source": [
    "data_plot function will take the time, rv data, and rv errors and plot a scatter graph of the data. Axis labels, legend, and saving can all be controlled from the function inputs."
   ]
  },
  {
   "cell_type": "code",
   "execution_count": null,
   "metadata": {},
   "outputs": [],
   "source": [
    "plot.data_plot(time = time, rv = rv, y_err = rv_err)"
   ]
  },
  {
   "attachments": {},
   "cell_type": "markdown",
   "metadata": {},
   "source": [
    "## Creating the kernel\n",
    "A kernel must be created using the par_create function, this will take only the name of the kernel and return an empty dictionary of hyperparameters to be filled out. This dictionary can be printed to view the hyperparamer names.\n",
    "\n",
    "Currently available kernels along with their hyperparameter names can be viewed by running PrintKernelList:"
   ]
  },
  {
   "cell_type": "code",
   "execution_count": null,
   "metadata": {},
   "outputs": [],
   "source": [
    "ker.PrintKernelList()"
   ]
  },
  {
   "cell_type": "code",
   "execution_count": null,
   "metadata": {},
   "outputs": [],
   "source": [
    "# create the kernel\n",
    "hparam = par.par_create(\"Cosine\")\n",
    "# print the hyperparameter dictionary\n",
    "print(hparam)"
   ]
  },
  {
   "attachments": {},
   "cell_type": "markdown",
   "metadata": {},
   "source": [
    "Hyperparameters must then be assigend to each dictionary key using the parameter function. This function will also take errors and vary as inputs which will be used for the mcmc."
   ]
  },
  {
   "cell_type": "code",
   "execution_count": null,
   "metadata": {},
   "outputs": [],
   "source": [
    "# assign values to the dictionary\n",
    "hparam[\"gp_amp\"] = par.parameter(value = 10.)\n",
    "hparam[\"gp_per\"] = par.parameter(value = 5.)\n",
    "# printing now prints the filled dictionary\n",
    "print(hparam)"
   ]
  },
  {
   "attachments": {},
   "cell_type": "markdown",
   "metadata": {},
   "source": [
    "Priors should then be created by assigning the pri_create function to each prior and appeding it to a list of priors. The pri_create function takes the parameter name, the prior name, and the prior parameters as inputs which must be inputted in the correct form, this form can be viewed by running the PRINTPRIORDER function."
   ]
  },
  {
   "cell_type": "code",
   "execution_count": null,
   "metadata": {},
   "outputs": [],
   "source": [
    "# view the correct form of prior parameter inputs\n",
    "par.PRINTPRIORDER()"
   ]
  },
  {
   "cell_type": "code",
   "execution_count": null,
   "metadata": {},
   "outputs": [],
   "source": [
    "# create empty prior list\n",
    "prior_list = []\n",
    "# uniform parameters used here so prior parameters inputted as [minval, maxval], as the above function states\n",
    "pri_amp = par.pri_create(\"gp_amp\", \"Uniform\", [5.,15.])\n",
    "# then append the prior to the list\n",
    "prior_list.append(pri_amp)\n",
    "pri_per = par.pri_create(\"gp_per\", \"Uniform\", [0.,10.])\n",
    "prior_list.append(pri_per)\n",
    "# print the list of all the priors\n",
    "print(prior_list)"
   ]
  },
  {
   "attachments": {},
   "cell_type": "markdown",
   "metadata": {},
   "source": [
    "## Obtaining LogL and GP values\n",
    "The GPLikelihood class should be defined and run with the time data, the rv data, the rv errors, the hyperparameters, and the kernel name. This allows the GPLikelihood.LogL function to be run with the prior_list which returns the initial log likelihood of the GP model.\n",
    "\n",
    "In order to return the y values and errors of the GP model, a predicted x array must first be defined which should be smoother and longer than the initial time array, in this case it begins at -1 and ends at 21 with intervals of 0.1 which is around 10 times more data points than the initial time array. This must be then inputted into the GPLikelihood.predict function to return the y values and the errors of the GP."
   ]
  },
  {
   "cell_type": "code",
   "execution_count": null,
   "metadata": {},
   "outputs": [],
   "source": [
    "# GPLikelihood class called as loglik, run with the current inputs\n",
    "loglik = gp.GPLikelihood(time, rv, rv_err, hparam, \"Cosine\")\n",
    "# LogL obtained by running loglik.LogL with the prior_list as the only input\n",
    "logL = loglik.LogL(prior_list)\n",
    "# xpred is smoother and longer than time\n",
    "xpred = np.arange(min(time)-1, max(time)+1, 0.1)\n",
    "# GP_y and GP_err are arrays of the GP y values and errors of the same length as the xpred array\n",
    "GP_y, GP_err = loglik.predict(xpred)\n",
    "print('Initial Log Likelihood =', logL)"
   ]
  },
  {
   "attachments": {},
   "cell_type": "markdown",
   "metadata": {},
   "source": [
    "## Plotting the GP\n",
    "The GP y values could be manually plotted against xpred once obtained in the previous step however the GP_plot function allows for an alternative faster way of plotting. This function takes the time array, the rv data, the hyperparameters, the kernel name, and the rv errors and returns a plot of the data with the GP model plotted over it. Xpred, axis labels, residuals, legend, and saving can all be controlled by the function inputs."
   ]
  },
  {
   "cell_type": "code",
   "execution_count": null,
   "metadata": {},
   "outputs": [],
   "source": [
    "# GP_plot will plot the GP and the data along with residuals if enabled and the GP uncertainty in grey\n",
    "plot.GP_plot(time, rv, hparam, \"Cosine\", rv_err = rv_err, residuals = True)"
   ]
  },
  {
   "cell_type": "code",
   "execution_count": null,
   "metadata": {},
   "outputs": [],
   "source": []
  }
 ],
 "metadata": {
  "kernelspec": {
   "display_name": "MAGPy",
   "language": "python",
   "name": "python3"
  },
  "language_info": {
   "codemirror_mode": {
    "name": "ipython",
    "version": 3
   },
   "file_extension": ".py",
   "mimetype": "text/x-python",
   "name": "python",
   "nbconvert_exporter": "python",
   "pygments_lexer": "ipython3",
   "version": "3.7.12"
  },
  "orig_nbformat": 4
 },
 "nbformat": 4,
 "nbformat_minor": 2
}

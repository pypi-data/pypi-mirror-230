{
 "cells": [
  {
   "cell_type": "code",
   "execution_count": 2,
   "id": "bffd718f-cee8-499a-99cc-9dcc180b1f07",
   "metadata": {},
   "outputs": [],
   "source": [
    "%use R"
   ]
  },
  {
   "cell_type": "code",
   "execution_count": null,
   "id": "5ac7ea7e-2fbe-4fcf-ba17-4ca9d5f05a7d",
   "metadata": {},
   "outputs": [],
   "source": []
  }
 ],
 "metadata": {
  "kernelspec": {
   "display_name": "SoS",
   "language": "sos",
   "name": "sos"
  },
  "language_info": {
   "codemirror_mode": "sos",
   "file_extension": ".sos",
   "mimetype": "text/x-sos",
   "name": "sos",
   "nbconvert_exporter": "sos_notebook.converter.SoS_Exporter",
   "pygments_lexer": "sos"
  },
  "sos": {
   "kernels": [],
   "version": ""
  }
 },
 "nbformat": 4,
 "nbformat_minor": 5
}

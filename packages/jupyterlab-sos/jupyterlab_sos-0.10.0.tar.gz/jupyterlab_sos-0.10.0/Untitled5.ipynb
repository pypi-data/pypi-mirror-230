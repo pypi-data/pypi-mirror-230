{
 "cells": [
  {
   "cell_type": "code",
   "execution_count": null,
   "id": "183d030f-f0f2-46fa-9ce3-769b54d4d72c",
   "metadata": {},
   "outputs": [],
   "source": [
    "1"
   ]
  },
  {
   "cell_type": "code",
   "execution_count": null,
   "id": "e164b79a-b6c6-4aaa-96f7-3fb6a3292733",
   "metadata": {},
   "outputs": [],
   "source": []
  }
 ],
 "metadata": {
  "kernelspec": {
   "display_name": "SoS",
   "language": "sos",
   "name": "sos"
  },
  "language_info": {
   "name": ""
  }
 },
 "nbformat": 4,
 "nbformat_minor": 5
}

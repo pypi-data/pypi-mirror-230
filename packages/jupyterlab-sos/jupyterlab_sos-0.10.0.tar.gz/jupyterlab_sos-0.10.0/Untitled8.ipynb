{
 "cells": [
  {
   "cell_type": "code",
   "execution_count": 1,
   "id": "4df6993b-b4ac-48da-809a-21423a4a693e",
   "metadata": {},
   "outputs": [
    {
     "data": {
      "text/html": [
       "<table>\n",
       "            <tr>\n",
       "                <th>Subkernel</th>\n",
       "                <th>Kernel Name</th>\n",
       "                <th>Language</th>\n",
       "                <th>Language Module</th>\n",
       "                <th  style=\"text-align:left\">Interpreter</th>\n",
       "            </tr>        <tr>\n",
       "        <td>Apache Toree - Scala</td>\n",
       "        <td><code>apache_toree_scala</code></td>\n",
       "        <td>scala</td>\n",
       "        <td><font style=\"color:red\">Unavailable</font></td>\n",
       "        <td style=\"text-align:left\"><code>/usr/local/share/jupyter/kernels/apache_toree_scala/bin/run.sh</code></td>\n",
       "        </tr>        <tr>\n",
       "        <td>JavaScript (Node.js)</td>\n",
       "        <td><code>javascript</code></td>\n",
       "        <td>javascript</td>\n",
       "        <td><font style=\"color:red\">Unavailable</font></td>\n",
       "        <td style=\"text-align:left\"><code>ijskernel</code></td>\n",
       "        </tr>        <tr>\n",
       "        <td>Markdown</td>\n",
       "        <td><code>markdown</code></td>\n",
       "        <td>markdown</td>\n",
       "        <td></td>\n",
       "        <td style=\"text-align:left\"><code>/Users/bpeng/anaconda3/envs/ictr/bin/python</code></td>\n",
       "        </tr>        <tr>\n",
       "        <td>Octave</td>\n",
       "        <td><code>octave</code></td>\n",
       "        <td>octave</td>\n",
       "        <td><font style=\"color:red\">Unavailable</font></td>\n",
       "        <td style=\"text-align:left\"><code>/Users/bpeng/anaconda3/envs/sos/bin/python</code></td>\n",
       "        </tr>        <tr>\n",
       "        <td>Python3</td>\n",
       "        <td><code>python3</code></td>\n",
       "        <td>python</td>\n",
       "        <td><code>sos_python</code></td>\n",
       "        <td style=\"text-align:left\"><code>/Users/bpeng/anaconda3/envs/vatlab/bin/python</code></td>\n",
       "        </tr>        <tr>\n",
       "        <td>R</td>\n",
       "        <td><code>ir</code></td>\n",
       "        <td>R</td>\n",
       "        <td><code>sos_r</code></td>\n",
       "        <td style=\"text-align:left\"><code>R</code></td>\n",
       "        </tr>        <tr>\n",
       "        <td>SoS</td>\n",
       "        <td><code>sos</code></td>\n",
       "        <td>sos</td>\n",
       "        <td></td>\n",
       "        <td style=\"text-align:left\"><code>/Users/bpeng/anaconda3/envs/vatlab/bin/python</code></td>\n",
       "        </tr></table>"
      ]
     },
     "metadata": {},
     "output_type": "display_data"
    }
   ],
   "source": [
    "%use"
   ]
  },
  {
   "cell_type": "code",
   "execution_count": 10,
   "id": "8f3b8085-82b9-4922-8539-800d175a92cf",
   "metadata": {},
   "outputs": [],
   "source": [
    "%use R\n",
    "a<-1"
   ]
  },
  {
   "cell_type": "code",
   "execution_count": 13,
   "id": "8eefea82-755f-4e6c-9a69-653d925676d4",
   "metadata": {},
   "outputs": [
    {
     "data": {
      "text/html": [
       "1"
      ],
      "text/latex": [
       "1"
      ],
      "text/markdown": [
       "1"
      ],
      "text/plain": [
       "[1] 1"
      ]
     },
     "metadata": {},
     "output_type": "display_data"
    }
   ],
   "source": [
    "%use R\n",
    "a"
   ]
  },
  {
   "cell_type": "code",
   "execution_count": 14,
   "id": "ef5765ee-7efd-443a-a099-cf975604c87f",
   "metadata": {},
   "outputs": [
    {
     "data": {
      "text/plain": [
       "1"
      ]
     },
     "execution_count": 14,
     "metadata": {},
     "output_type": "execute_result"
    }
   ],
   "source": [
    "1"
   ]
  },
  {
   "cell_type": "code",
   "execution_count": null,
   "id": "55c6e4b7-5046-4d61-a2c1-abcbd1f0ec8c",
   "metadata": {},
   "outputs": [],
   "source": []
  }
 ],
 "metadata": {
  "kernelspec": {
   "display_name": "SoS",
   "language": "sos",
   "name": "sos"
  },
  "language_info": {
   "codemirror_mode": "sos",
   "file_extension": ".sos",
   "mimetype": "text/x-sos",
   "name": "sos",
   "nbconvert_exporter": "sos_notebook.converter.SoS_Exporter",
   "pygments_lexer": "sos"
  }
 },
 "nbformat": 4,
 "nbformat_minor": 5
}

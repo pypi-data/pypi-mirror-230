{
 "cells": [
  {
   "cell_type": "code",
   "execution_count": 2,
   "id": "897178a7-d03f-43a5-90f7-3b8fe796225d",
   "metadata": {
    "kernel": "SoS"
   },
   "outputs": [
    {
     "ename": "ExecuteError",
     "evalue": "[0]: \n---------------------------------------------------------------------------\nNameError                                 Traceback (most recent call last)\nscript_7213638397041680155 in <module>\n----> a <-1\n      \n\nNameError: name 'a' is not defined",
     "execution_count": 2,
     "output_type": "error",
     "status": "error",
     "traceback": [
      "\u001b[91m[0]: \n---------------------------------------------------------------------------\nNameError                                 Traceback (most recent call last)\nscript_7213638397041680155 in <module>\n----> a <-1\n      \n\nNameError: name 'a' is not defined\u001b[0m"
     ]
    }
   ],
   "source": [
    "a <-1 "
   ]
  },
  {
   "cell_type": "code",
   "execution_count": null,
   "id": "1adce9c4-52ff-472a-b26f-34c1ec95913d",
   "metadata": {
    "kernel": "SoS"
   },
   "outputs": [],
   "source": []
  }
 ],
 "metadata": {
  "kernelspec": {
   "display_name": "SoS",
   "language": "sos",
   "name": "sos"
  },
  "language_info": {
   "codemirror_mode": "sos",
   "file_extension": ".sos",
   "mimetype": "text/x-sos",
   "name": "sos",
   "nbconvert_exporter": "sos_notebook.converter.SoS_Exporter",
   "pygments_lexer": "sos"
  },
  "sos": {
   "kernels": [
    [
     "SoS",
     "sos",
     "",
     "",
     "sos"
    ]
   ],
   "version": ""
  }
 },
 "nbformat": 4,
 "nbformat_minor": 5
}

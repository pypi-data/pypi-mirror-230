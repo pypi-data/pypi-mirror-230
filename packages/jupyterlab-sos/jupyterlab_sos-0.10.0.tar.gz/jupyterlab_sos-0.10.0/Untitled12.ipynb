{
 "cells": [
  {
   "cell_type": "code",
   "execution_count": 1,
   "id": "bc97801c-dbc9-4821-b576-67e8e829ff0d",
   "metadata": {},
   "outputs": [],
   "source": [
    "%use R"
   ]
  },
  {
   "cell_type": "code",
   "execution_count": 2,
   "id": "d49e31f7-e012-498c-a6e6-577939dde6f4",
   "metadata": {},
   "outputs": [
    {
     "data": {
      "text/plain": [
       "1"
      ]
     },
     "execution_count": 2,
     "metadata": {},
     "output_type": "execute_result"
    }
   ],
   "source": [
    "1"
   ]
  },
  {
   "cell_type": "code",
   "execution_count": null,
   "id": "dd67b367-7975-4b98-9dc5-cb6f7af2938d",
   "metadata": {},
   "outputs": [],
   "source": [
    "a"
   ]
  }
 ],
 "metadata": {
  "kernelspec": {
   "display_name": "SoS",
   "language": "sos",
   "name": "sos"
  },
  "language_info": {
   "codemirror_mode": "sos",
   "file_extension": ".sos",
   "mimetype": "text/x-sos",
   "name": "sos",
   "nbconvert_exporter": "sos_notebook.converter.SoS_Exporter",
   "pygments_lexer": "sos"
  }
 },
 "nbformat": 4,
 "nbformat_minor": 5
}

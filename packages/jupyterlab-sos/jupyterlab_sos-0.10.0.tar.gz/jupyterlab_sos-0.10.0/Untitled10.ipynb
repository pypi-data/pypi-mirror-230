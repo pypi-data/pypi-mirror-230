{
 "cells": [
  {
   "cell_type": "code",
   "execution_count": 1,
   "id": "6c8690b7-3c47-441e-abe4-960cfd7c33b7",
   "metadata": {},
   "outputs": [
    {
     "data": {
      "text/plain": [
       "1"
      ]
     },
     "execution_count": 1,
     "metadata": {},
     "output_type": "execute_result"
    }
   ],
   "source": [
    "1"
   ]
  },
  {
   "cell_type": "code",
   "execution_count": 5,
   "id": "bd602b6d-160b-4279-ad18-2b04f73ee59b",
   "metadata": {},
   "outputs": [],
   "source": [
    "%use R"
   ]
  },
  {
   "cell_type": "code",
   "execution_count": 6,
   "id": "30466b1a-c09d-4f84-b1d6-5d924ce3645c",
   "metadata": {},
   "outputs": [
    {
     "data": {
      "text/plain": [
       "1"
      ]
     },
     "execution_count": 6,
     "metadata": {},
     "output_type": "execute_result"
    }
   ],
   "source": [
    "1"
   ]
  },
  {
   "cell_type": "code",
   "execution_count": null,
   "id": "4418876c-d5a9-4313-b861-6cad34dd42e7",
   "metadata": {},
   "outputs": [],
   "source": []
  }
 ],
 "metadata": {
  "kernelspec": {
   "display_name": "SoS",
   "language": "sos",
   "name": "sos"
  },
  "language_info": {
   "codemirror_mode": "sos",
   "file_extension": ".sos",
   "mimetype": "text/x-sos",
   "name": "sos",
   "nbconvert_exporter": "sos_notebook.converter.SoS_Exporter",
   "pygments_lexer": "sos"
  }
 },
 "nbformat": 4,
 "nbformat_minor": 5
}

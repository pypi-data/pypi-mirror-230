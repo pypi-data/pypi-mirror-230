{
 "cells": [
  {
   "cell_type": "code",
   "execution_count": null,
   "id": "4b86f07c-9b1d-4fac-a531-deb23b6a0641",
   "metadata": {},
   "outputs": [],
   "source": [
    "1"
   ]
  },
  {
   "cell_type": "code",
   "execution_count": null,
   "id": "a844baf5-e0aa-4d22-8db1-931dbd510da6",
   "metadata": {},
   "outputs": [],
   "source": []
  }
 ],
 "metadata": {
  "kernelspec": {
   "display_name": "SoS",
   "language": "sos",
   "name": "sos"
  },
  "language_info": {
   "name": ""
  }
 },
 "nbformat": 4,
 "nbformat_minor": 5
}

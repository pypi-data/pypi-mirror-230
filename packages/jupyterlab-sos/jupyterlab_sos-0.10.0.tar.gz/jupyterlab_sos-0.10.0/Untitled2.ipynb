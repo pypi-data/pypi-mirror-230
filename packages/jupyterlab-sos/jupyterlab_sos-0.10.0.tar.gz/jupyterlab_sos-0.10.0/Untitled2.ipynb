{
 "cells": [
  {
   "cell_type": "code",
   "execution_count": null,
   "id": "4f31e102-5b25-43c6-a87b-74635b7c35c1",
   "metadata": {},
   "outputs": [],
   "source": [
    "1"
   ]
  },
  {
   "cell_type": "code",
   "execution_count": null,
   "id": "d8104be3-e5bc-4aa6-8b2b-ea38a625eb56",
   "metadata": {},
   "outputs": [],
   "source": []
  }
 ],
 "metadata": {
  "kernelspec": {
   "display_name": "SoS",
   "language": "sos",
   "name": "sos"
  },
  "language_info": {
   "name": ""
  }
 },
 "nbformat": 4,
 "nbformat_minor": 5
}

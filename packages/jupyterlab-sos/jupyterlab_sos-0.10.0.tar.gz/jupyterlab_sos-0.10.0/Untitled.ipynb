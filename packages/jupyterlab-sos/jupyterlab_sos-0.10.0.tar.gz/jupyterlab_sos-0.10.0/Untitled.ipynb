{
 "cells": [
  {
   "cell_type": "code",
   "execution_count": null,
   "id": "1772c601-75fb-44c3-80c8-72b4676e9be3",
   "metadata": {
    "kernel": "SoS",
    "tags": []
   },
   "outputs": [],
   "source": []
  },
  {
   "cell_type": "code",
   "execution_count": null,
   "id": "b4a7a5e1-5eda-456a-8f6d-d637eb3c2751",
   "metadata": {
    "kernel": "SoS"
   },
   "outputs": [],
   "source": [
    ".jp-CodeCell.sos_lan__octave .jp-InputPrompt,\n",
    "            .jp-CodeCell.sos_lan__octave .jp-OutputPrompt {\n",
    "              background: #dff8fb;\n",
    "            }\n",
    "          \n",
    ".jp-CodeCell.sos_lan__python3 .jp-InputPrompt,\n",
    "            .jp-CodeCell.sos_lan__python3 .jp-OutputPrompt {\n",
    "              background: #FFD91A;\n",
    "            }\n",
    "          \n",
    ".jp-CodeCell.sos_lan__r .jp-InputPrompt,\n",
    "            .jp-CodeCell.sos_lan__r .jp-OutputPrompt {\n",
    "              background: #DCDCDA;\n",
    "            }\n",
    "          "
   ]
  }
 ],
 "metadata": {
  "kernel": "Python3",
  "kernelspec": {
   "display_name": "SoS",
   "language": "sos",
   "name": "sos"
  },
  "language_info": {
   "codemirror_mode": "sos",
   "file_extension": ".sos",
   "mimetype": "text/x-sos",
   "name": "sos",
   "nbconvert_exporter": "sos_notebook.converter.SoS_Exporter",
   "pygments_lexer": "sos"
  },
  "sos": {
   "kernels": [
    [
     "SoS",
     "sos",
     "",
     ""
    ]
   ],
   "version": "0.23.4"
  }
 },
 "nbformat": 4,
 "nbformat_minor": 5
}

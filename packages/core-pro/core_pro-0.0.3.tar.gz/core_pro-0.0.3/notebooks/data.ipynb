{
 "cells": [
  {
   "cell_type": "code",
   "execution_count": 1,
   "id": "initial_id",
   "metadata": {
    "collapsed": true,
    "ExecuteTime": {
     "end_time": "2023-09-13T06:56:33.299780900Z",
     "start_time": "2023-09-13T06:56:33.030223400Z"
    }
   },
   "outputs": [
    {
     "ename": "ModuleNotFoundError",
     "evalue": "No module named 'config'",
     "output_type": "error",
     "traceback": [
      "\u001B[1;31m---------------------------------------------------------------------------\u001B[0m",
      "\u001B[1;31mModuleNotFoundError\u001B[0m                       Traceback (most recent call last)",
      "Cell \u001B[1;32mIn[1], line 1\u001B[0m\n\u001B[1;32m----> 1\u001B[0m \u001B[38;5;28;01mfrom\u001B[39;00m \u001B[38;5;21;01mcore_pro\u001B[39;00m \u001B[38;5;28;01mimport\u001B[39;00m DataPipeLine\n\u001B[0;32m      4\u001B[0m query \u001B[38;5;241m=\u001B[39m \u001B[38;5;124m\"\"\"\u001B[39m\n\u001B[0;32m      5\u001B[0m \u001B[38;5;124m    select grass_date\u001B[39m\n\u001B[0;32m      6\u001B[0m \u001B[38;5;124m    , count(distinct user_id) total_a1\u001B[39m\n\u001B[1;32m   (...)\u001B[0m\n\u001B[0;32m      9\u001B[0m \u001B[38;5;124m    group by 1\u001B[39m\n\u001B[0;32m     10\u001B[0m \u001B[38;5;124m\"\"\"\u001B[39m\n\u001B[0;32m     11\u001B[0m df \u001B[38;5;241m=\u001B[39m DataPipeLine(query)\u001B[38;5;241m.\u001B[39mrun_presto_to_df()\n",
      "File \u001B[1;32m~\\miniconda3\\envs\\test\\Lib\\site-packages\\core_pro\\__init__.py:1\u001B[0m\n\u001B[1;32m----> 1\u001B[0m \u001B[38;5;28;01mfrom\u001B[39;00m \u001B[38;5;21;01mconfig\u001B[39;00m \u001B[38;5;28;01mimport\u001B[39;00m GoogleAuthentication\n\u001B[0;32m      2\u001B[0m \u001B[38;5;28;01mfrom\u001B[39;00m \u001B[38;5;21;01mGSheet\u001B[39;00m \u001B[38;5;28;01mimport\u001B[39;00m Sheet\n\u001B[0;32m      3\u001B[0m \u001B[38;5;28;01mfrom\u001B[39;00m \u001B[38;5;21;01mGMail\u001B[39;00m \u001B[38;5;28;01mimport\u001B[39;00m Gmail\n",
      "\u001B[1;31mModuleNotFoundError\u001B[0m: No module named 'config'"
     ]
    }
   ],
   "source": [
    "from core_pro import DataPipeLine\n",
    "\n",
    "\n",
    "query = \"\"\"\n",
    "    select grass_date\n",
    "    , count(distinct user_id) total_a1\n",
    "    from mp_user.dws_user_login_1d__vn_s0_live\n",
    "    where grass_date >= date'2022-01-01'\n",
    "    group by 1\n",
    "\"\"\"\n",
    "df = DataPipeLine(query).run_presto_to_df()"
   ]
  },
  {
   "cell_type": "code",
   "execution_count": null,
   "outputs": [],
   "source": [],
   "metadata": {
    "collapsed": false
   },
   "id": "f1c8caf09238a66b"
  }
 ],
 "metadata": {
  "kernelspec": {
   "display_name": "Python 3",
   "language": "python",
   "name": "python3"
  },
  "language_info": {
   "codemirror_mode": {
    "name": "ipython",
    "version": 2
   },
   "file_extension": ".py",
   "mimetype": "text/x-python",
   "name": "python",
   "nbconvert_exporter": "python",
   "pygments_lexer": "ipython2",
   "version": "2.7.6"
  }
 },
 "nbformat": 4,
 "nbformat_minor": 5
}

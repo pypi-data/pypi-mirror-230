{
 "cells": [
  {
   "attachments": {},
   "cell_type": "markdown",
   "metadata": {},
   "source": [
    "This notebook is used for creating the plots in the paper."
   ]
  },
  {
   "cell_type": "code",
   "execution_count": null,
   "metadata": {},
   "outputs": [],
   "source": [
    "import matplotlib.pyplot as plt\n",
    "from matplotlib import colormaps\n",
    "from matplotlib.colors import LogNorm\n",
    "from matplotlib.ticker import (\n",
    "    FixedLocator,\n",
    "    FuncFormatter,\n",
    "    StrMethodFormatter,\n",
    ")\n",
    "import numpy as np\n",
    "\n",
    "from covvvr import CVIntegrator\n",
    "from covvvr.functions import *\n",
    "\n",
    "from scripts.constants import DATA_DIR\n"
   ]
  },
  {
   "attachments": {},
   "cell_type": "markdown",
   "metadata": {},
   "source": [
    "---"
   ]
  },
  {
   "attachments": {},
   "cell_type": "markdown",
   "metadata": {},
   "source": [
    "# Variance Percentage Reduction for 2 Control Variates "
   ]
  },
  {
   "attachments": {},
   "cell_type": "markdown",
   "metadata": {},
   "source": [
    "## Constants"
   ]
  },
  {
   "cell_type": "code",
   "execution_count": null,
   "metadata": {},
   "outputs": [],
   "source": [
    "func = \"2d_camel\"\n",
    "iters = 50\n",
    "evts = 5000\n",
    "N = 100\n",
    "\n",
    "file_path = DATA_DIR / f\"2cv_{func}_{iters}x{evts}_avg{N}.npz\"\n"
   ]
  },
  {
   "cell_type": "code",
   "execution_count": null,
   "metadata": {},
   "outputs": [],
   "source": [
    "# Ratio of main plot to the side plots\n",
    "ratio = [11, 2]\n",
    "# Fontsize of the labels\n",
    "label_fs = 15\n",
    "# Linewidth\n",
    "lw = 3\n",
    "# Colormap for the colorbar/heatmap\n",
    "cmap = \"OrRd\"\n",
    "# Colors to use for the variance and correlation coefficient lines\n",
    "line_cmap = \"magma\"\n",
    "colors = {\n",
    "    \"corrcoefs\": colormaps[line_cmap](0.3),\n",
    "    \"variances\": colormaps[line_cmap](0.7),\n",
    "}\n",
    "# Use a log colorbar?\n",
    "do_log = False\n",
    "# For side axes from 0 to 1\n",
    "major_intr = 0.5\n",
    "minor_intr = 0.25\n",
    "major_locator = np.arange(0, 1 + major_intr, major_intr)\n",
    "minor_locator = np.arange(0, 1 + minor_intr, minor_intr)\n",
    "# For side axes from 1 to iters - 1\n",
    "num_ticks = 5\n",
    "iters_major_locator = np.concatenate(\n",
    "    ([1], np.arange(0, iters, iters // num_ticks)[1:], [iters - 1])\n",
    ")\n"
   ]
  },
  {
   "attachments": {},
   "cell_type": "markdown",
   "metadata": {},
   "source": [
    "## Load in Data"
   ]
  },
  {
   "cell_type": "code",
   "execution_count": null,
   "metadata": {},
   "outputs": [],
   "source": [
    "data = np.load(file_path)\n",
    "variances = np.mean(data[\"variances\"], axis=0)\n",
    "vars_norm = variances / np.max(variances)\n",
    "corrcoefs = np.mean(data[\"corrcoefs\"], axis=0)\n",
    "perc_diff = 100 * np.mean(data[\"perc_diff\"], axis=0)\n"
   ]
  },
  {
   "attachments": {},
   "cell_type": "markdown",
   "metadata": {},
   "source": [
    "## Plot Heatmap"
   ]
  },
  {
   "cell_type": "code",
   "execution_count": null,
   "metadata": {},
   "outputs": [],
   "source": [
    "fig, ax = plt.subplots(\n",
    "    2,\n",
    "    2,\n",
    "    figsize=(10, 10),\n",
    "    gridspec_kw={\"height_ratios\": ratio, \"width_ratios\": ratio[::-1]},\n",
    ")\n",
    "\n",
    "# Plot the Variances\n",
    "ax[0, 0].plot(\n",
    "    vars_norm,\n",
    "    range(1, iters),\n",
    "    lw=lw,\n",
    "    c=colors[\"variances\"],\n",
    "    label=\"Normalized\\nVariance\",\n",
    ")\n",
    "# Plot the correlation coefficients\n",
    "ax[0, 0].plot(\n",
    "    corrcoefs,\n",
    "    range(1, iters),\n",
    "    lw=lw,\n",
    "    c=colors[\"corrcoefs\"],\n",
    "    label=\"Correlation\\nCoefficient\",\n",
    ")\n",
    "ax[0, 0].set_xlim(-0.05, 1.05)\n",
    "ax[0, 0].set_ylim(1, iters - 1)\n",
    "ax[0, 0].set_ylabel(\"Control Variate Iteration\", fontsize=label_fs)\n",
    "# Make sure all the ticks are looking good\n",
    "ax[0, 0].yaxis.set_major_locator(FixedLocator(iters_major_locator))\n",
    "ax[0, 0].xaxis.set_minor_locator(FixedLocator(minor_locator))\n",
    "ax[0, 0].xaxis.set_major_locator(FixedLocator(major_locator))\n",
    "# No decimal points for intergers\n",
    "ax[0, 0].xaxis.set_major_formatter(\n",
    "    FuncFormatter(lambda s, pos: f\"{s:.0f}\" if s == int(s) else f\"{s:.1f}\")\n",
    ")\n",
    "ax[0, 0].xaxis.set_minor_locator(FixedLocator(minor_locator))\n",
    "\n",
    "# Either use a log colorbar or start the colorbar at zero\n",
    "kwargs = {\"norm\": LogNorm()} if do_log else {\"vmin\": 0}\n",
    "h = ax[0, 1].imshow(perc_diff, cmap=cmap, **kwargs)\n",
    "ax[0, 1].invert_yaxis()\n",
    "ax[0, 1].tick_params(left=False, labelleft=False, bottom=False, labelbottom=False)\n",
    "\n",
    "ax[1, 0].set_visible(False)\n",
    "\n",
    "# Same as with ax[0, 0] but the axes are flipped\n",
    "ax[1, 1].plot(range(1, iters), vars_norm, lw=lw, c=colors[\"variances\"])\n",
    "ax[1, 1].plot(range(1, iters), corrcoefs, lw=lw, c=colors[\"corrcoefs\"])\n",
    "ax[1, 1].set_ylim(-0.05, 1.05)\n",
    "ax[1, 1].set_xlim(1, iters - 1)\n",
    "ax[1, 1].set_xlabel(\"Control Variate Iteration\", fontsize=label_fs)\n",
    "ax[1, 1].xaxis.set_major_locator(FixedLocator(iters_major_locator))\n",
    "ax[1, 1].yaxis.set_minor_locator(FixedLocator(minor_locator))\n",
    "ax[1, 1].yaxis.set_major_locator(FixedLocator(major_locator))\n",
    "# Remove the '1' on the axis because it overlaps with the 1 from ax[0, 0]\n",
    "ax[1, 1].yaxis.set_major_locator(FixedLocator(major_locator[:-1]))\n",
    "ax[1, 1].yaxis.set_major_formatter(\n",
    "    FuncFormatter(lambda s, pos: f\"{s:.0f}\" if s == int(s) else f\"{s:.1f}\")\n",
    ")\n",
    "ax[1, 1].yaxis.set_minor_locator(FixedLocator(minor_locator))\n",
    "\n",
    "# Colorbar\n",
    "cax = plt.axes([0.95, 0.1, 0.05, 0.78])\n",
    "cbar = plt.colorbar(h, cax=cax, format=StrMethodFormatter(\"{x:>5.2f}%\"))\n",
    "cbar.set_label(\"Variance Percentage Reduction\", labelpad=20, fontsize=label_fs)\n",
    "\n",
    "fig.legend(loc=(0.04, 0.07))\n",
    "\n",
    "# Squish 'em together\n",
    "plt.subplots_adjust(wspace=0, hspace=0)\n"
   ]
  },
  {
   "attachments": {},
   "cell_type": "markdown",
   "metadata": {},
   "source": [
    "---"
   ]
  },
  {
   "attachments": {},
   "cell_type": "markdown",
   "metadata": {},
   "source": [
    "# Correlation of $f/p$ and $g/p$ "
   ]
  },
  {
   "attachments": {},
   "cell_type": "markdown",
   "metadata": {},
   "source": [
    "## Constants"
   ]
  },
  {
   "cell_type": "code",
   "execution_count": null,
   "metadata": {},
   "outputs": [],
   "source": [
    "# Parameters for the heatmap\n",
    "label_fs = 17\n",
    "cmap = \"gist_yarg\"\n",
    "\n",
    "# Parameters for the lines\n",
    "lw = 2\n",
    "alpha = 0.4\n",
    "color = \"#2e282a\"\n"
   ]
  },
  {
   "attachments": {},
   "cell_type": "markdown",
   "metadata": {},
   "source": [
    "## Do Integral"
   ]
  },
  {
   "cell_type": "code",
   "execution_count": null,
   "metadata": {},
   "outputs": [],
   "source": [
    "# A 96D polynomial in this case\n",
    "func = NPolynomial(96)\n",
    "cvi = CVIntegrator(func, evals=10000, tot_iters=100, cv_iters=5, memory=\"large\")\n",
    "cvi.integrate()\n"
   ]
  },
  {
   "attachments": {},
   "cell_type": "markdown",
   "metadata": {},
   "source": [
    "## Plot it"
   ]
  },
  {
   "cell_type": "code",
   "execution_count": null,
   "metadata": {},
   "outputs": [],
   "source": [
    "fig, ax = plt.subplots(figsize=(8, 8))\n",
    "hist = ax.hist2d(x=cvi.weight_value, y=cvi.cv_values[0], bins=(100, 250), cmap=cmap)\n",
    "ax.set_ylabel(\"$g(x)/p(x)$\", fontsize=label_fs)\n",
    "ax.set_xlabel(\"$f(x)/p(x)$\", fontsize=label_fs)\n",
    "\n",
    "ax.tick_params(axis=\"both\", which=\"major\", labelsize=12)\n",
    "textbox = f\"$E[g/p]={np.mean(cvi.cv_values[0]):.5f}$\"\n",
    "textbox += (\n",
    "    f\"\\n$\\\\rho(f/p,g/p)={np.corrcoef(cvi.weight_value, cvi.cv_values[0])[0, 1]:.2f}$\"\n",
    ")\n",
    "bbox = dict(boxstyle=\"round, pad=1\", fc=\"wheat\", ec=\"black\", alpha=0.5)\n",
    "ax.annotate(\n",
    "    textbox,\n",
    "    xy=(0.6, 0.83),\n",
    "    xycoords=\"axes fraction\",\n",
    "    fontsize=15,\n",
    "    bbox=bbox,\n",
    ")\n",
    "\n",
    "# \"perfect\" values\n",
    "ax.axhline(1, c=color, alpha=alpha, lw=lw)\n",
    "ax.axvline(func.true_value, c=color, alpha=alpha, lw=lw)\n",
    "\n",
    "ax.set_title(func.name, pad=15, fontsize=18)\n"
   ]
  },
  {
   "cell_type": "code",
   "execution_count": null,
   "metadata": {},
   "outputs": [],
   "source": []
  }
 ],
 "metadata": {
  "kernelspec": {
   "display_name": "vscode",
   "language": "python",
   "name": "python3"
  },
  "language_info": {
   "codemirror_mode": {
    "name": "ipython",
    "version": 3
   },
   "file_extension": ".py",
   "mimetype": "text/x-python",
   "name": "python",
   "nbconvert_exporter": "python",
   "pygments_lexer": "ipython3",
   "version": "3.11.3"
  },
  "orig_nbformat": 4
 },
 "nbformat": 4,
 "nbformat_minor": 2
}

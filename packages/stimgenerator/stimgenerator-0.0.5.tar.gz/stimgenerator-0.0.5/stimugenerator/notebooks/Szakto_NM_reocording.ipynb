{
 "cells": [
  {
   "cell_type": "code",
   "execution_count": 47,
   "id": "great-probe",
   "metadata": {},
   "outputs": [],
   "source": [
    "import os"
   ]
  },
  {
   "cell_type": "code",
   "execution_count": 48,
   "id": "still-slope",
   "metadata": {},
   "outputs": [],
   "source": [
    "import glob"
   ]
  },
  {
   "cell_type": "markdown",
   "id": "advisory-taste",
   "metadata": {},
   "source": [
    "### chDir to where Szatko's recording folder"
   ]
  },
  {
   "cell_type": "code",
   "execution_count": 96,
   "id": "competitive-conducting",
   "metadata": {},
   "outputs": [
    {
     "name": "stdout",
     "output_type": "stream",
     "text": [
      "/gpfs01/euler/data/Data/Szatko\n"
     ]
    }
   ],
   "source": [
    "%cd /gpfs01/euler/data/Data/Szatko"
   ]
  },
  {
   "cell_type": "code",
   "execution_count": 97,
   "id": "demonstrated-depression",
   "metadata": {},
   "outputs": [],
   "source": [
    "allRecordingFolders =glob.glob('./*/') # all recording folders"
   ]
  },
  {
   "cell_type": "markdown",
   "id": "outside-worry",
   "metadata": {},
   "source": [
    "### find all natural movies recording folders"
   ]
  },
  {
   "cell_type": "code",
   "execution_count": 164,
   "id": "through-arrival",
   "metadata": {},
   "outputs": [],
   "source": [
    "NM_recordings = []\n",
    "for recordingDay in allRecordingFolders:\n",
    "    # left eye 1/\n",
    "    # right eye 2/\n",
    "    for i in range(1,3):\n",
    "        eye = str(i)+'/'\n",
    "        if os.path.exists(recordingDay+eye):\n",
    "            initF = glob.glob(recordingDay+eye+\"*.ini\")\n",
    "            if len(initF)>0:\n",
    "                f = open(initF[0],'r')\n",
    "                content = f.read()\n",
    "                f.close()\n",
    "                lines = content.split('\\n')\n",
    "                for line in lines:\n",
    "                    if re.search(\"Natural Movies\",line) is not None:\n",
    "                        NM_recordings.append(recordingDay+eye)"
   ]
  },
  {
   "cell_type": "code",
   "execution_count": 166,
   "id": "ignored-fighter",
   "metadata": {},
   "outputs": [
    {
     "data": {
      "text/plain": [
       "67"
      ]
     },
     "execution_count": 166,
     "metadata": {},
     "output_type": "execute_result"
    }
   ],
   "source": [
    "len(NM_recordings)"
   ]
  },
  {
   "cell_type": "code",
   "execution_count": 167,
   "id": "earned-publicity",
   "metadata": {},
   "outputs": [
    {
     "data": {
      "text/plain": [
       "['./20210908/2/',\n",
       " './20200529/1/',\n",
       " './20200610/2/',\n",
       " './20200212/1/',\n",
       " './20200212/2/',\n",
       " './20210708/1/',\n",
       " './20210708/2/',\n",
       " './20200707/1/',\n",
       " './20200707/2/',\n",
       " './20200211/1/',\n",
       " './20200211/2/',\n",
       " './20200701/1/',\n",
       " './20200701/2/',\n",
       " './20200429/1/',\n",
       " './20200429/2/',\n",
       " './20200302/2/',\n",
       " './20210701/1/',\n",
       " './20210701/2/',\n",
       " './20200515/1/',\n",
       " './20200515/2/',\n",
       " './20210910/1/',\n",
       " './20210910/2/',\n",
       " './20190725/2/',\n",
       " './20210930/1/',\n",
       " './20210930/2/',\n",
       " './20210929/1/',\n",
       " './20210929/2/',\n",
       " './20211206/1/',\n",
       " './20211206/2/',\n",
       " './20200501/1/',\n",
       " './20200501/2/',\n",
       " './20200904/1/',\n",
       " './20200904/2/',\n",
       " './20211130/1/',\n",
       " './20211130/2/',\n",
       " './20200903/1/',\n",
       " './20200903/2/',\n",
       " './20201016/2/',\n",
       " './20200528/1/',\n",
       " './20200528/2/',\n",
       " './20190726/2/',\n",
       " './20210727/1/',\n",
       " './20210727/2/',\n",
       " './20200219/1/',\n",
       " './20200219/2/',\n",
       " './20201030/1/',\n",
       " './20201030/2/',\n",
       " './20200513/1/',\n",
       " './20200513/2/',\n",
       " './20190802/2/',\n",
       " './20200708/1/',\n",
       " './20200303/1/',\n",
       " './20200303/2/',\n",
       " './20201022/2/',\n",
       " './20201021/1/',\n",
       " './20201021/2/',\n",
       " './20200626/2/',\n",
       " './20210921/1/',\n",
       " './20210921/2/',\n",
       " './20201117/1/',\n",
       " './20201117/2/',\n",
       " './20200226/1/',\n",
       " './20200226/2/',\n",
       " './20210717/1/',\n",
       " './20210717/2/',\n",
       " './20200225/1/',\n",
       " './20200225/2/']"
      ]
     },
     "execution_count": 167,
     "metadata": {},
     "output_type": "execute_result"
    }
   ],
   "source": [
    "NM_recordings"
   ]
  },
  {
   "cell_type": "code",
   "execution_count": null,
   "id": "wrapped-guinea",
   "metadata": {},
   "outputs": [],
   "source": []
  }
 ],
 "metadata": {
  "kernelspec": {
   "display_name": "Python 3",
   "language": "python",
   "name": "python3"
  },
  "language_info": {
   "codemirror_mode": {
    "name": "ipython",
    "version": 3
   },
   "file_extension": ".py",
   "mimetype": "text/x-python",
   "name": "python",
   "nbconvert_exporter": "python",
   "pygments_lexer": "ipython3",
   "version": "3.7.5"
  }
 },
 "nbformat": 4,
 "nbformat_minor": 5
}

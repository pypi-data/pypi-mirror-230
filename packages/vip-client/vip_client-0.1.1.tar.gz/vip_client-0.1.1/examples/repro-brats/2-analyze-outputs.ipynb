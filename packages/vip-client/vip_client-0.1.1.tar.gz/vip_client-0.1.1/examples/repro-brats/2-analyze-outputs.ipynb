{
 "cells": [
  {
   "attachments": {},
   "cell_type": "markdown",
   "metadata": {},
   "source": [
    "# MICCAI 2023 Tutorial - Part II:\n",
    "## Analyze computation outputs\n",
    "This part is designed to analyze the results from [Part I] and answer several reproducibility questions, such as:\n",
    "- Are the outputs of the BraTS pipeline repeatable from one execution to another ?\n",
    "- Are they reproducible between version 1.8.1 and version 1.9.0 ?\n",
    "- Can we reproduce the numerical results of the [published paper](https://hal.science/hal-04006057) ?\n",
    "\n",
    "**This Notebook will be run twice:**\n",
    "1. While computations of [Part I] are still running, download and analyse the results of the published paper (Author: `vip-team`).\n",
    "2. When most computations of [Part I] are finished, (see progressions on the [VIP Portal](vip-portal)) at the end of the tutorial, download and analyze the results of all participants (Author: `tutorial`).\n",
    "\n",
    "[Part I]: 1-launch-application.ipynb\n",
    "[vip-portal]: https://vip.creatis.insa-lyon.fr/ \"https://vip.creatis.insa-lyon.fr/\""
   ]
  },
  {
   "cell_type": "code",
   "execution_count": 27,
   "metadata": {},
   "outputs": [],
   "source": [
    "# Builtins\n",
    "import matplotlib.pyplot as plt\n",
    "from pathlib import *\n",
    "# Installed\n",
    "import nibabel as nib\n",
    "import numpy as np\n",
    "import pandas as pd\n",
    "from ipywidgets import interact\n",
    "from parse import parse\n",
    "from scipy.ndimage import gaussian_filter\n",
    "\n",
    "from vip_client.classes import VipLoader"
   ]
  },
  {
   "attachments": {},
   "cell_type": "markdown",
   "metadata": {},
   "source": [
    "## Understand the application's outputs"
   ]
  },
  {
   "attachments": {},
   "cell_type": "markdown",
   "metadata": {},
   "source": [
    "The next section will help you understand the outputs of the BraTS pipeline.\n",
    "These outputs will be downloaded first from the VIP servers and then visualized in 3 dimensions.\n",
    "\n",
    "<img src=\"imgs/BraTS-Pipeline.png\" alt=\"BraTS-Pipeline\" height=\"150\" title=\"Full Pipeline for Brain Tumor Segmentation\"/>"
   ]
  },
  {
   "attachments": {},
   "cell_type": "markdown",
   "metadata": {},
   "source": [
    "First, download the outputs from previous executions.\n",
    "- During the 1rst run, the following cell will download results from the `vip-team` (paper results).\n",
    "- During the 2nd run, the following cell will also download results from the `tutorial` team (including your results).\n",
    "\n",
    "_N.B.: You need to paste again your **VIP API key**_"
   ]
  },
  {
   "cell_type": "code",
   "execution_count": null,
   "metadata": {},
   "outputs": [],
   "source": [
    "# Paste your VIP API key here\n",
    "VipLoader.init(api_key=\"VIP_API_KEY\");\n",
    "# VIP and local directories\n",
    "vip_dir = PurePosixPath(\"/vip/EGI tutorial (group)/outputs\")\n",
    "res_dir = Path(\"data\")\n",
    "# Use the client to download the data\n",
    "VipLoader.download_dir(vip_dir, res_dir)"
   ]
  },
  {
   "attachments": {},
   "cell_type": "markdown",
   "metadata": {},
   "source": [
    "The following cell checks existence of the two BraTS outputs :\n",
    "- 1 MRI **brain scan** with skull strip\n",
    "- 1 **tumor mask** which indicates the location of the tumor in the brain scan"
   ]
  },
  {
   "cell_type": "code",
   "execution_count": null,
   "metadata": {},
   "outputs": [],
   "source": [
    "# Define a filename for each type of result\n",
    "filenames = {\n",
    "    \"tumor\": 'brainTumorMask_SRI.nii.gz',\n",
    "    \"brain\": 'T1_to_SRI_brain.nii.gz'\n",
    "}\n",
    "# Get 1 tumor file and 1 brain scan\n",
    "tumor_file = next(res_dir.rglob('brainTumorMask_SRI.nii.gz'))\n",
    "brain_file = next(res_dir.rglob('T1_to_SRI_brain.nii.gz'))\n",
    "# Display their path\n",
    "print(\"\\n\".join([str(tumor_file), str(brain_file)]))"
   ]
  },
  {
   "attachments": {},
   "cell_type": "markdown",
   "metadata": {},
   "source": [
    "Extract data from the brain & tumor files and display the brain volumes slice by slice "
   ]
  },
  {
   "cell_type": "code",
   "execution_count": null,
   "metadata": {},
   "outputs": [],
   "source": [
    "# Extract brain & tumor data from the previous files\n",
    "brain = nib.load(brain_file).get_fdata()\n",
    "tumor = nib.load(tumor_file).get_fdata()\n",
    "tumor[tumor==0] = np.nan\n",
    "\n",
    "# Interactive method to display the 3D images slice by slice\n",
    "@interact\n",
    "def show_slices(z=(0,150)) -> None:\n",
    "    # Axes\n",
    "    _, (ax_brain, ax_tumor) = plt.subplots(1, 2, figsize=(10,5))\n",
    "    # Display the brain\n",
    "    ax_brain.set_title(\"Brain Scan\")\n",
    "    ax_brain.imshow(brain[:,:,z], cmap='bone', origin=\"lower\")\n",
    "    ax_brain.axis('off')\n",
    "    # Display the brain with tumor\n",
    "    ax_tumor.set_title(\"With Tumor Detection\")\n",
    "    ax_tumor.imshow(brain[:,:,z], cmap='bone', origin=\"lower\")\n",
    "    ax_tumor.imshow(tumor[:,:,z], origin=\"lower\")\n",
    "    ax_tumor.axis('off')\n",
    "    plt.show()"
   ]
  },
  {
   "attachments": {},
   "cell_type": "markdown",
   "metadata": {},
   "source": [
    "## Compare Execution Results\n",
    "The next section will help you compare BraTS outputs:\n",
    "- Across pipeline executions (*exec_1*, *exec_2*, ...)\n",
    "- Across pipeline versions (*1.8.1*, *1.9.0*)"
   ]
  },
  {
   "attachments": {},
   "cell_type": "markdown",
   "metadata": {},
   "source": [
    "### Get all output files with metadata"
   ]
  },
  {
   "attachments": {},
   "cell_type": "markdown",
   "metadata": {},
   "source": [
    "List the result files"
   ]
  },
  {
   "cell_type": "code",
   "execution_count": null,
   "metadata": {},
   "outputs": [],
   "source": [
    "all_files = [str(path) for path in res_dir.rglob(filenames[\"tumor\"])] \\\n",
    "          + [str(path) for path in res_dir.rglob(filenames[\"brain\"])]\n",
    "all_files[0]"
   ]
  },
  {
   "attachments": {},
   "cell_type": "markdown",
   "metadata": {},
   "source": [
    "Build a [Dataframe](https://www.tutorialspoint.com/python_pandas/python_pandas_dataframe.htm) (*i.e.* a table) containing all files with relative metadata"
   ]
  },
  {
   "cell_type": "code",
   "execution_count": null,
   "metadata": {},
   "outputs": [],
   "source": [
    "# The file paths contain useful metadata\n",
    "metadata_format = \"{Author}/{Version}/{Execution}/{_}/{Subject}/{Filename}\"\n",
    "path_format = str(res_dir / metadata_format)\n",
    "metadata_keys = metadata_format.replace(\"{\",\"\").replace(\"}\",\"\").split(\"/\")\n",
    "metadata_keys.remove('_')\n",
    "\n",
    "# Function to get the metadata from 1 path \n",
    "def get_metadata_from_path(path: str) -> dict:\n",
    "    metadata = parse(path_format, path)\n",
    "    if metadata is None: \n",
    "        return {}\n",
    "    result = metadata.named\n",
    "    result.update({\"Path\": path}) \n",
    "    return result\n",
    "\n",
    "# Build the dataframe\n",
    "data = pd.DataFrame([get_metadata_from_path(file) for file in all_files])\n",
    "# Drop incomplete examples\n",
    "data.dropna(axis=0, inplace=True)\n",
    "# Display\n",
    "data.head()"
   ]
  },
  {
   "attachments": {},
   "cell_type": "markdown",
   "metadata": {},
   "source": [
    "*You should see a table with file paths, names, subjects, executions, versions & author.*\n",
    "\n",
    "Change the execution names to simplify the dataframe (*this will be useful for the 2nd analysis*)"
   ]
  },
  {
   "cell_type": "code",
   "execution_count": null,
   "metadata": {},
   "outputs": [],
   "source": [
    "# Function to rename executions for each group defined below \n",
    "def map_names(group: pd.Series):\n",
    "    executions = group.unique()\n",
    "    execution_map = { \n",
    "        executions[i]: \"exec_%d\" %(i+1) for i in range(len(executions))\n",
    "    }\n",
    "    return group.map(execution_map)\n",
    "# Dataframe samples are grouped by Author, Version, & Subject ; then the mapping function is applied to \"Execution\"\n",
    "data[\"Execution\"] = data.groupby([\"Author\", \"Version\", \"Subject\"], group_keys=False)[\"Execution\"].apply(map_names)\n",
    "data.head()"
   ]
  },
  {
   "attachments": {},
   "cell_type": "markdown",
   "metadata": {},
   "source": [
    "### Checksums\n",
    "The following cell computes and displays the checksums of all output files."
   ]
  },
  {
   "cell_type": "code",
   "execution_count": null,
   "metadata": {},
   "outputs": [],
   "source": [
    "from hashlib import md5\n",
    "# Method to compute the md5sum of a file using its path\n",
    "def md5sum(file: str) -> str:\n",
    "    \"\"\"Computes the md5sum of `file`\"\"\"\n",
    "    with open(file, \"rb\") as fid:\n",
    "        return md5(fid.read()).hexdigest()\n",
    "# Create a Checksum dataframe from the file paths\n",
    "checksums = data.copy()\n",
    "checksums[\"md5sum\"] = checksums[\"Path\"].apply(md5sum)\n",
    "# Compare executions and versions\n",
    "checksums.drop(columns=\"Path\", inplace=True)\n",
    "checksums.set_index(metadata_keys).unstack([\"Author\", \"Execution\"])"
   ]
  },
  {
   "attachments": {},
   "cell_type": "markdown",
   "metadata": {},
   "source": [
    "*This table can help you answer the reproducibility questions raised in the introduction.*"
   ]
  },
  {
   "attachments": {},
   "cell_type": "markdown",
   "metadata": {},
   "source": [
    "### Image Analysis\n",
    "This session will go deeper in the cross-version differences oberved for the BraTS pipeline, by displaying the outputs side to side.\n",
    "\n",
    "First, load the images from a single execution"
   ]
  },
  {
   "cell_type": "code",
   "execution_count": null,
   "metadata": {},
   "outputs": [],
   "source": [
    "# Select 1 execution\n",
    "execution = \"exec_1\"\n",
    "author = \"vip-team\"\n",
    "images = data.query(\"Execution==@execution & Author==@author\").reset_index(drop=True)\n",
    "# Pre-load all files from subject and execution\n",
    "def load(file: str) -> str:\n",
    "    \"\"\"Loads \"\"\"\n",
    "    with open(file, \"rb\") as fid:\n",
    "        return nib.load(file)\n",
    "images[\"Img\"] = images[\"Path\"].apply(load)\n",
    "images.drop(columns=[\"Execution\", \"Path\"], inplace=True)\n",
    "images.head()"
   ]
  },
  {
   "attachments": {},
   "cell_type": "markdown",
   "metadata": {},
   "source": [
    "Simplify the dataframe"
   ]
  },
  {
   "cell_type": "code",
   "execution_count": null,
   "metadata": {},
   "outputs": [],
   "source": [
    "# To make the images type more understandable, we map each filename to its type\n",
    "filetypes = {\n",
    "    'brainTumorMask_SRI.nii.gz': \"tumor\",\n",
    "    'T1_to_SRI_brain.nii.gz': \"brain\",\n",
    "}\n",
    "images[\"Result\"] = images.pop(\"Filename\").map(filetypes)\n",
    "# Sort the dataframe\n",
    "subjects = images[\"Subject\"].unique()\n",
    "images.set_index([\"Result\", \"Version\", \"Subject\"], inplace=True)\n",
    "images"
   ]
  },
  {
   "attachments": {},
   "cell_type": "markdown",
   "metadata": {},
   "source": [
    "Finally, show the differences in the segmented tumors between the two pipeline versions.\n",
    "\n",
    "*Use parameter `sigma` to enhance the differences*"
   ]
  },
  {
   "cell_type": "code",
   "execution_count": null,
   "metadata": {},
   "outputs": [],
   "source": [
    "def show_tumor(tumor: np.ndarray, brain: np.ndarray, ax: plt.Axes=plt):\n",
    "    if brain is not None:\n",
    "        ax.imshow(brain, cmap='bone', origin=\"lower\")\n",
    "    tumor[tumor==0] = np.nan\n",
    "    ax.imshow(tumor, origin=\"lower\")\n",
    "    ax.axis('off')\n",
    "\n",
    "def make_diff(tumor_a, tumor_b):\n",
    "    values = np.unique(tumor_a)\n",
    "    diff = np.zeros(np.shape(tumor_a))\n",
    "    for val in values:\n",
    "        diff[(tumor_a == val) ^ (tumor_b == val)] = val\n",
    "    return diff\n",
    "\n",
    "@interact\n",
    "def show_diff(z=(0,150), sigma=(0, 1, 0.1), subject=subjects):\n",
    "\n",
    "    brain = images[\"Img\"][\"brain\", \"v181\", subject].get_fdata()[:,:,z]\n",
    "    _, (ax_181, ax_diff, ax_190) = plt.subplots(1, 3, figsize=(15,5))\n",
    "\n",
    "    tumor_181 = images[\"Img\"][\"tumor\", \"v181\", subject].get_fdata()[:,:,z]\n",
    "    show_tumor(tumor_181, brain, ax_181)\n",
    "    ax_181.set_title(\"Version 1.8.1\")\n",
    "    \n",
    "    tumor_190 = images[\"Img\"][\"tumor\", \"v190\", subject].get_fdata()[:,:,z]\n",
    "    show_tumor(tumor_190, brain, ax_190)\n",
    "    ax_190.set_title(\"Version 1.9.0\")\n",
    "\n",
    "    tumor_diff = make_diff(tumor_181, tumor_190)\n",
    "    tumor_diff = gaussian_filter(tumor_diff, sigma=sigma)\n",
    "    show_tumor(tumor_diff, brain, ax_diff)\n",
    "    ax_diff.set_title(\"Difference\")\n",
    "\n",
    "    plt.show()"
   ]
  },
  {
   "attachments": {},
   "cell_type": "markdown",
   "metadata": {},
   "source": [
    "If some new tutorial executions are over, you may now **relaunch this Notebok** to download and analyze their outputs."
   ]
  }
 ],
 "metadata": {
  "kernelspec": {
   "display_name": "Python 3",
   "language": "python",
   "name": "python3"
  },
  "language_info": {
   "codemirror_mode": {
    "name": "ipython",
    "version": 3
   },
   "file_extension": ".py",
   "mimetype": "text/x-python",
   "name": "python",
   "nbconvert_exporter": "python",
   "pygments_lexer": "ipython3",
   "version": "3.10.8"
  },
  "orig_nbformat": 4,
  "vscode": {
   "interpreter": {
    "hash": "e7370f93d1d0cde622a1f8e1c04877d8463912d04d973331ad4851f04de6915a"
   }
  }
 },
 "nbformat": 4,
 "nbformat_minor": 2
}

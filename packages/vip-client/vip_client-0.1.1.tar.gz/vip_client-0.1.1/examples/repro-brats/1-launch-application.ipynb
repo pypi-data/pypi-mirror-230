{
 "cells": [
  {
   "attachments": {},
   "cell_type": "markdown",
   "metadata": {},
   "source": [
    "# MICCAI 2023 Tutorial - Part I:\n",
    "## Launch a containerized medical imaging application\n",
    "This Notebook is designed to reproduce the computational experiments of a [published scientific paper](https://hal.science/hal-04006057) on deep learning for **Bra**in **T**umor **S**egmentation (**BraTS**).\n",
    "\n",
    "<img src=\"imgs/BraTS-Results.png\" alt=\"BraTS-Results\" height=\"250\" title=\"Results from Brain Tumor Segmentation\"/>\n",
    "\n",
    "It uses methods from the [VIP client for Python](https://github.com/virtual-imaging-platform/VIP-python-client).\n",
    "\n",
    "*N.B.: Due to short-term technical issues, participants will be asked to launch only 1 version of the pipeline with only 1 subject. Please ask for speaker's instructions when required by the italic-style cell comments.*"
   ]
  },
  {
   "cell_type": "code",
   "execution_count": null,
   "metadata": {},
   "outputs": [],
   "source": [
    "# Import the libraries\n",
    "import json\n",
    "from pathlib import *\n",
    "from vip_client.classes import VipLauncher\n",
    "from vip_client.classes import VipLoader"
   ]
  },
  {
   "attachments": {},
   "cell_type": "markdown",
   "metadata": {},
   "source": [
    "## Prepare your executions"
   ]
  },
  {
   "attachments": {},
   "cell_type": "markdown",
   "metadata": {},
   "source": [
    "Handshake with VIP using your **VIP API key** (get it from the [VIP portal](https://vip.creatis.insa-lyon.fr/))"
   ]
  },
  {
   "cell_type": "code",
   "execution_count": null,
   "metadata": {},
   "outputs": [],
   "source": [
    "VipLauncher.init(api_key=\"VIP_API_KEY\"); # Paste your VIP API key here"
   ]
  },
  {
   "attachments": {},
   "cell_type": "markdown",
   "metadata": {},
   "source": [
    "Show the applications that will be used in this tutorial "
   ]
  },
  {
   "cell_type": "code",
   "execution_count": null,
   "metadata": {},
   "outputs": [],
   "source": [
    "VipLauncher.show_pipeline(\"BraTS\")"
   ]
  },
  {
   "attachments": {},
   "cell_type": "markdown",
   "metadata": {},
   "source": [
    "Application `BraTSPipeline` is declined in two different versions"
   ]
  },
  {
   "cell_type": "code",
   "execution_count": null,
   "metadata": {},
   "outputs": [],
   "source": [
    "pipelines = {\n",
    "    \"v181\": \"BraTSPipeline/1.8.1_cvmfs\", \n",
    "    \"v190\": \"BraTSPipeline/1.9.0_cvmfs\"\n",
    "}"
   ]
  },
  {
   "attachments": {},
   "cell_type": "markdown",
   "metadata": {},
   "source": [
    "Show the inputs requiered by such application"
   ]
  },
  {
   "cell_type": "code",
   "execution_count": null,
   "metadata": {},
   "outputs": [],
   "source": [
    "VipLauncher.show_pipeline(list(pipelines.values())[0])"
   ]
  },
  {
   "attachments": {},
   "cell_type": "markdown",
   "metadata": {},
   "source": [
    "Explore the dataset"
   ]
  },
  {
   "cell_type": "code",
   "execution_count": null,
   "metadata": {},
   "outputs": [],
   "source": [
    "# The data you need is stored in a folder on Vip Servers \n",
    "input_dir = PurePosixPath(\"/vip/EGI tutorial (group)/inputs\")\n",
    "# This folder contains data from several subjects\n",
    "print(\"\\n\".join(VipLoader.list_dir(input_dir)))"
   ]
  },
  {
   "attachments": {},
   "cell_type": "markdown",
   "metadata": {},
   "source": [
    "*Uncomment the line(s) associated to __your subject(s)__ according to speakers' instructions*"
   ]
  },
  {
   "cell_type": "code",
   "execution_count": null,
   "metadata": {},
   "outputs": [],
   "source": [
    "subjects = [\n",
    "# UNCOMMENT YOUR SUBJECT(S)\n",
    "#    \"UPENN-GBM-00019\",\n",
    "#    \"UPENN-GBM-00239\"\n",
    "]"
   ]
  },
  {
   "attachments": {},
   "cell_type": "markdown",
   "metadata": {},
   "source": [
    "Build and print your settings"
   ]
  },
  {
   "cell_type": "code",
   "execution_count": null,
   "metadata": {},
   "outputs": [],
   "source": [
    "# Each subject contains 4 inputs files to the BraTS pipeline\n",
    "input_settings = {\n",
    "    \"t1Image\": [(input_dir / subject / \"T1.nii.gz\") for subject in subjects],\n",
    "    \"t1ceImage\": [(input_dir / subject / \"T1GD.nii.gz\") for subject in subjects],\n",
    "    \"t2Image\": [(input_dir / subject / \"T2.nii.gz\") for subject in subjects],\n",
    "    \"flImage\": [(input_dir / subject / \"T2-FLAIR.nii.gz\") for subject in subjects],\n",
    "    \"appliOutputDir\": subjects,\n",
    "    \"brainTumor\": \"1\",\n",
    "    \"skullStrip\": \"1\",\n",
    "}\n",
    "# Print your inputs\n",
    "print(\"input_settings =\",\n",
    "    json.dumps(indent=2, \n",
    "               obj={ key: [str(v) for v in value] if isinstance(value, list) else str(value) for key, value in input_settings.items() } )\n",
    ")"
   ]
  },
  {
   "attachments": {},
   "cell_type": "markdown",
   "metadata": {},
   "source": [
    "## Launch your own execution"
   ]
  },
  {
   "attachments": {},
   "cell_type": "markdown",
   "metadata": {},
   "source": [
    "*Uncomment the line associated to **your version** (following speakers' instructions)*"
   ]
  },
  {
   "cell_type": "code",
   "execution_count": null,
   "metadata": {},
   "outputs": [],
   "source": [
    "# UNCOMMENT YOUR VERSION\n",
    "my_version = None\n",
    "# my_version = \"v181\"\n",
    "# my_version = \"v190\""
   ]
  },
  {
   "attachments": {},
   "cell_type": "markdown",
   "metadata": {},
   "source": [
    "Launch the application with your version & subject(s)"
   ]
  },
  {
   "cell_type": "code",
   "execution_count": null,
   "metadata": {},
   "outputs": [],
   "source": [
    "# Please __do not__ execute the following cell __more than once__ to avoid overloading analyses of Part II\n",
    "VipLauncher(\n",
    "    output_dir = input_dir.parent / \"outputs/tutorial\" / my_version,\n",
    "    pipeline_id = pipelines[my_version],\n",
    "    input_settings = input_settings\n",
    ").run_session()"
   ]
  },
  {
   "attachments": {},
   "cell_type": "markdown",
   "metadata": {},
   "source": [
    "You can now proceed to **[Part II](2-analyze-outputs.ipynb)**."
   ]
  }
 ],
 "metadata": {
  "kernelspec": {
   "display_name": "Python 3",
   "language": "python",
   "name": "python3"
  },
  "language_info": {
   "codemirror_mode": {
    "name": "ipython",
    "version": 3
   },
   "file_extension": ".py",
   "mimetype": "text/x-python",
   "name": "python",
   "nbconvert_exporter": "python",
   "pygments_lexer": "ipython3",
   "version": "3.10.8"
  },
  "orig_nbformat": 4,
  "vscode": {
   "interpreter": {
    "hash": "e7370f93d1d0cde622a1f8e1c04877d8463912d04d973331ad4851f04de6915a"
   }
  }
 },
 "nbformat": 4,
 "nbformat_minor": 2
}

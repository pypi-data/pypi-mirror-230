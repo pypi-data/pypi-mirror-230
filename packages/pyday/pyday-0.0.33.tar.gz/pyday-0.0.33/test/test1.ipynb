{
 "cells": [
  {
   "cell_type": "code",
   "execution_count": 1,
   "metadata": {},
   "outputs": [],
   "source": [
    "from selenium import webdriver\n",
    "from selenium.webdriver.chrome.options import Options"
   ]
  },
  {
   "cell_type": "code",
   "execution_count": 7,
   "metadata": {},
   "outputs": [],
   "source": [
    "# 初始化瀏覽器並設置屏幕大小\n",
    "browser = webdriver.Chrome()\n",
    "browser.set_window_size(1920, 1080)"
   ]
  },
  {
   "cell_type": "code",
   "execution_count": 9,
   "metadata": {},
   "outputs": [],
   "source": [
    "# 打開網頁並擷取屏幕截圖\n",
    "browser.get('http://atomt.top')\n",
    "# browser.execute_script('document.getElementsByTagName(\"body\")[0].style.display=\"none\";document.getElementsByTagName(\"body\")[0].style.display=\"block\";')\n",
    "browser.save_screenshot('screenshot.png')\n",
    "import pyautogui\n",
    "\n",
    "# 獲取整個螢幕的截圖\n",
    "screenshot = pyautogui.screenshot()\n",
    "\n",
    "# 儲存截圖\n",
    "# screenshot.save(\"screenshot.png\")"
   ]
  },
  {
   "cell_type": "code",
   "execution_count": null,
   "metadata": {},
   "outputs": [],
   "source": [
    "# 獲取第二個顯示器的大小和位置\n",
    "monitor_size = pyautogui.size()\n",
    "monitor_position = pyautogui.position()\n",
    "\n",
    "# 使用 pyautogui 截取第二個顯示器的截圖\n",
    "screenshot = pyautogui.screenshot()\n",
    "\n",
    "# 儲存截圖\n",
    "screenshot.save('screenshot.png')"
   ]
  },
  {
   "cell_type": "code",
   "execution_count": null,
   "metadata": {},
   "outputs": [],
   "source": [
    "# 在屏幕截圖上標記每個連結的位置\n",
    "from PIL import Image\n",
    "im = Image.open('./screenshot.png')\n",
    "im.show()\n",
    "\n",
    "# 關閉瀏覽器\n",
    "browser.quit()"
   ]
  },
  {
   "cell_type": "code",
   "execution_count": null,
   "metadata": {},
   "outputs": [],
   "source": [
    "import pyautogui\n",
    "\n",
    "while True:\n",
    "\tx, y = pyautogui.position()\n",
    "\t# print(pyautogui.screenshot().getpixel((x,y)))"
   ]
  },
  {
   "cell_type": "code",
   "execution_count": 3,
   "metadata": {},
   "outputs": [
    {
     "name": "stdout",
     "output_type": "stream",
     "text": [
      "sct-mon0_-1080x-236_2788x1980.png\n"
     ]
    }
   ],
   "source": [
    "import mss\n",
    "import mss.tools\n",
    "\n",
    "\n",
    "with mss.mss() as sct:\n",
    "    # Get information of monitor 2\n",
    "    monitor_number = 0\n",
    "    mon = sct.monitors[monitor_number]\n",
    "\n",
    "    # The screen part to capture\n",
    "    monitor = {\n",
    "        \"top\": mon[\"top\"],\n",
    "        \"left\": mon[\"left\"],\n",
    "        \"width\": mon[\"width\"],\n",
    "        \"height\": mon[\"height\"],\n",
    "        \"mon\": monitor_number,\n",
    "    }\n",
    "    output = \"sct-mon{mon}_{top}x{left}_{width}x{height}.png\".format(**monitor)\n",
    "\n",
    "    # Grab the data\n",
    "    sct_img = sct.grab(monitor)\n",
    "\n",
    "    # Save to the picture file\n",
    "    mss.tools.to_png(sct_img.rgb, sct_img.size, output=output)\n",
    "    print(output)"
   ]
  },
  {
   "cell_type": "code",
   "execution_count": null,
   "metadata": {},
   "outputs": [
    {
     "name": "stdout",
     "output_type": "stream",
     "text": [
      "[{'left': 0, 'top': 0, 'width': 1440, 'height': 900}, {'left': 0, 'top': 0, 'width': 1440, 'height': 900}]\n"
     ]
    }
   ],
   "source": [
    "with mss.mss() as sct:\n",
    "    # Get information of monitor 2\n",
    "    # monitor_number = 2\n",
    "    mon = sct.monitors\n",
    "    print(mon)"
   ]
  },
  {
   "cell_type": "code",
   "execution_count": null,
   "metadata": {},
   "outputs": [],
   "source": [
    "if \"ipykernel\" in sys.modules:\n",
    "    print(\"正在使用 Jupyter 環境\")\n",
    "else:\n",
    "    print(\"未在 Jupyter 環境中\")"
   ]
  }
 ],
 "metadata": {
  "kernelspec": {
   "display_name": "Python 3",
   "language": "python",
   "name": "python3"
  },
  "language_info": {
   "codemirror_mode": {
    "name": "ipython",
    "version": 3
   },
   "file_extension": ".py",
   "mimetype": "text/x-python",
   "name": "python",
   "nbconvert_exporter": "python",
   "pygments_lexer": "ipython3",
   "version": "3.11.0"
  },
  "orig_nbformat": 4
 },
 "nbformat": 4,
 "nbformat_minor": 2
}

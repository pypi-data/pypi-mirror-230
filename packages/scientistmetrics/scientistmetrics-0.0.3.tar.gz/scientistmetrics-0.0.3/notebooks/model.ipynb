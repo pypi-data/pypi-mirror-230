{
 "cells": [
  {
   "cell_type": "markdown",
   "metadata": {},
   "source": [
    "# Powerset model\n",
    "\n",
    "[linear regression dataset](https://www.telusinternational.com/insights/ai-data/article/10-open-datasets-for-linear-regression)\n",
    "\n",
    "[logistic regression dataset](https://sushtend.com/machine-learning/datasets-for-practicing-logistic-regression/)\n",
    "\n",
    "[Machine learning with R datasets](https://github.com/stedy/Machine-Learning-with-R-datasets)\n",
    "\n",
    "## Linear regression"
   ]
  },
  {
   "cell_type": "code",
   "execution_count": 1,
   "metadata": {},
   "outputs": [],
   "source": [
    "# Set repository\n",
    "import os\n",
    "os.chdir(\"D:/Bureau/PythonProject/packages/scientistmetrics/data/\")"
   ]
  },
  {
   "cell_type": "code",
   "execution_count": 2,
   "metadata": {},
   "outputs": [],
   "source": [
    "# warnings message\n",
    "import warnings\n",
    "warnings.filterwarnings(\"ignore\")"
   ]
  },
  {
   "cell_type": "code",
   "execution_count": 3,
   "metadata": {},
   "outputs": [
    {
     "data": {
      "text/html": [
       "<div>\n",
       "<style scoped>\n",
       "    .dataframe tbody tr th:only-of-type {\n",
       "        vertical-align: middle;\n",
       "    }\n",
       "\n",
       "    .dataframe tbody tr th {\n",
       "        vertical-align: top;\n",
       "    }\n",
       "\n",
       "    .dataframe thead th {\n",
       "        text-align: right;\n",
       "    }\n",
       "</style>\n",
       "<table border=\"1\" class=\"dataframe\">\n",
       "  <thead>\n",
       "    <tr style=\"text-align: right;\">\n",
       "      <th></th>\n",
       "      <th>age</th>\n",
       "      <th>sex</th>\n",
       "      <th>bmi</th>\n",
       "      <th>children</th>\n",
       "      <th>smoker</th>\n",
       "      <th>region</th>\n",
       "      <th>charges</th>\n",
       "    </tr>\n",
       "  </thead>\n",
       "  <tbody>\n",
       "    <tr>\n",
       "      <th>0</th>\n",
       "      <td>19</td>\n",
       "      <td>female</td>\n",
       "      <td>27.900</td>\n",
       "      <td>0</td>\n",
       "      <td>yes</td>\n",
       "      <td>southwest</td>\n",
       "      <td>16884.92400</td>\n",
       "    </tr>\n",
       "    <tr>\n",
       "      <th>1</th>\n",
       "      <td>18</td>\n",
       "      <td>male</td>\n",
       "      <td>33.770</td>\n",
       "      <td>1</td>\n",
       "      <td>no</td>\n",
       "      <td>southeast</td>\n",
       "      <td>1725.55230</td>\n",
       "    </tr>\n",
       "    <tr>\n",
       "      <th>2</th>\n",
       "      <td>28</td>\n",
       "      <td>male</td>\n",
       "      <td>33.000</td>\n",
       "      <td>3</td>\n",
       "      <td>no</td>\n",
       "      <td>southeast</td>\n",
       "      <td>4449.46200</td>\n",
       "    </tr>\n",
       "    <tr>\n",
       "      <th>3</th>\n",
       "      <td>33</td>\n",
       "      <td>male</td>\n",
       "      <td>22.705</td>\n",
       "      <td>0</td>\n",
       "      <td>no</td>\n",
       "      <td>northwest</td>\n",
       "      <td>21984.47061</td>\n",
       "    </tr>\n",
       "    <tr>\n",
       "      <th>4</th>\n",
       "      <td>32</td>\n",
       "      <td>male</td>\n",
       "      <td>28.880</td>\n",
       "      <td>0</td>\n",
       "      <td>no</td>\n",
       "      <td>northwest</td>\n",
       "      <td>3866.85520</td>\n",
       "    </tr>\n",
       "  </tbody>\n",
       "</table>\n",
       "</div>"
      ],
      "text/plain": [
       "   age     sex     bmi  children smoker     region      charges\n",
       "0   19  female  27.900         0    yes  southwest  16884.92400\n",
       "1   18    male  33.770         1     no  southeast   1725.55230\n",
       "2   28    male  33.000         3     no  southeast   4449.46200\n",
       "3   33    male  22.705         0     no  northwest  21984.47061\n",
       "4   32    male  28.880         0     no  northwest   3866.85520"
      ]
     },
     "execution_count": 3,
     "metadata": {},
     "output_type": "execute_result"
    }
   ],
   "source": [
    "# Load dataset\n",
    "import pandas as pd\n",
    "import numpy as np \n",
    "\n",
    "insurance = pd.read_csv(\"insurance.csv\",sep=\",\")\n",
    "insurance.head()"
   ]
  },
  {
   "cell_type": "code",
   "execution_count": 4,
   "metadata": {},
   "outputs": [
    {
     "name": "stdout",
     "output_type": "stream",
     "text": [
      "<class 'pandas.core.frame.DataFrame'>\n",
      "RangeIndex: 1338 entries, 0 to 1337\n",
      "Data columns (total 7 columns):\n",
      " #   Column    Non-Null Count  Dtype  \n",
      "---  ------    --------------  -----  \n",
      " 0   age       1338 non-null   int64  \n",
      " 1   sex       1338 non-null   object \n",
      " 2   bmi       1338 non-null   float64\n",
      " 3   children  1338 non-null   int64  \n",
      " 4   smoker    1338 non-null   object \n",
      " 5   region    1338 non-null   object \n",
      " 6   charges   1338 non-null   float64\n",
      "dtypes: float64(2), int64(2), object(3)\n",
      "memory usage: 73.3+ KB\n"
     ]
    }
   ],
   "source": [
    "insurance.info()"
   ]
  },
  {
   "cell_type": "code",
   "execution_count": 5,
   "metadata": {},
   "outputs": [],
   "source": [
    "# Powerset\n",
    "from scientistmetrics import powersetmodel"
   ]
  },
  {
   "cell_type": "markdown",
   "metadata": {},
   "source": [
    "## [Insurance dataset](https://www.kaggle.com/datasets/mirichoi0218/insurance)"
   ]
  },
  {
   "cell_type": "code",
   "execution_count": null,
   "metadata": {},
   "outputs": [],
   "source": [
    "powersetmodel( )"
   ]
  },
  {
   "cell_type": "code",
   "execution_count": 6,
   "metadata": {},
   "outputs": [],
   "source": [
    "# Powerset model\n",
    "ols_res = powersetmodel(DTrain=insurance,target=\"charges\")\n",
    "ols_model = ols_res[0]"
   ]
  },
  {
   "cell_type": "code",
   "execution_count": 7,
   "metadata": {},
   "outputs": [
    {
     "name": "stdout",
     "output_type": "stream",
     "text": [
      "                             predictor  count           aic           bic  \\\n",
      "0                                  age      1  20165.691448  20175.374679   \n",
      "1                                  sex      1  20254.342034  20264.025265   \n",
      "2                                  bmi      1  20218.207703  20227.890934   \n",
      "3                             children      1  20253.687895  20263.371126   \n",
      "4                               smoker      1  19361.465798  19371.149028   \n",
      "..                                 ...    ...           ...           ...   \n",
      "58           sex+smoker+age+region+bmi      5  18956.398599  18995.131523   \n",
      "59      sex+children+smoker+age+region      5  19060.708924  19099.441848   \n",
      "60      children+smoker+age+region+bmi      5  18948.093466  18986.826390   \n",
      "61      sex+children+smoker+region+bmi      5  19245.006750  19283.739674   \n",
      "62  sex+children+smoker+age+region+bmi      6  18950.001771  18993.576310   \n",
      "\n",
      "    rsquared  adj. rsquared  expl. var. score     max error  mean abs. error  \\\n",
      "0   0.092951       0.091980          0.080826  47441.580644      9168.424250   \n",
      "1   0.002843       0.001775          0.004197  45877.276541      9306.430742   \n",
      "2   0.040605       0.039578          0.036301  42192.255083      9429.268187   \n",
      "3   0.003540       0.002473          0.007042  45260.452040      9340.598349   \n",
      "4   0.615870       0.615459          0.628326  28111.608817      5656.730452   \n",
      "..       ...            ...               ...           ...              ...   \n",
      "58  0.753984       0.752128          0.735545  25352.699836      4309.384386   \n",
      "59  0.724981       0.722907          0.723397  28979.084771      3998.380328   \n",
      "60  0.756157       0.754318          0.737695  25404.540528      4318.042515   \n",
      "61  0.665131       0.662606          0.657970  28816.103678      5401.899702   \n",
      "62  0.756181       0.754077          0.737722  25328.174109      4321.661861   \n",
      "\n",
      "    mean sq. error  median abs. error  r2 score  mean abs. percentage error  \\\n",
      "0     1.355551e+08        6605.181153  0.080813                    1.176197   \n",
      "1     1.469159e+08        7974.827889  0.003777                    1.583882   \n",
      "2     1.421947e+08        7745.732362  0.035791                    1.551790   \n",
      "3     1.465385e+08        8525.185106  0.006336                    1.554674   \n",
      "4     5.481998e+07        4508.504443  0.628271                    0.880813   \n",
      "..             ...                ...       ...                         ...   \n",
      "58    3.910992e+07        2636.387630  0.734799                    0.462572   \n",
      "59    4.086615e+07        1697.414453  0.722890                    0.312082   \n",
      "60    3.876490e+07        2713.458369  0.737139                    0.459219   \n",
      "61    5.044275e+07        4314.958856  0.657952                    0.804127   \n",
      "62    3.875988e+07        2723.954000  0.737173                    0.459775   \n",
      "\n",
      "    likelihood test ratio  \n",
      "0             1229.689677  \n",
      "1             1318.340264  \n",
      "2             1282.205932  \n",
      "3             1317.686125  \n",
      "4              425.464027  \n",
      "..                    ...  \n",
      "58               8.396828  \n",
      "59             112.707153  \n",
      "60               0.091696  \n",
      "61             297.004980  \n",
      "62               0.000000  \n",
      "\n",
      "[63 rows x 14 columns]\n"
     ]
    }
   ],
   "source": [
    "ols_metrics = ols_res[1]\n",
    "print(ols_metrics)"
   ]
  },
  {
   "cell_type": "markdown",
   "metadata": {},
   "source": [
    "## Logistic regression"
   ]
  },
  {
   "cell_type": "markdown",
   "metadata": {},
   "source": [
    "## [Diabetes]()"
   ]
  },
  {
   "cell_type": "code",
   "execution_count": 8,
   "metadata": {},
   "outputs": [
    {
     "name": "stdout",
     "output_type": "stream",
     "text": [
      "<class 'pandas.core.frame.DataFrame'>\n",
      "RangeIndex: 768 entries, 0 to 767\n",
      "Data columns (total 9 columns):\n",
      " #   Column                    Non-Null Count  Dtype  \n",
      "---  ------                    --------------  -----  \n",
      " 0   Pregnancies               768 non-null    int64  \n",
      " 1   Glucose                   768 non-null    int64  \n",
      " 2   BloodPressure             768 non-null    int64  \n",
      " 3   SkinThickness             768 non-null    int64  \n",
      " 4   Insulin                   768 non-null    int64  \n",
      " 5   BMI                       768 non-null    float64\n",
      " 6   DiabetesPedigreeFunction  768 non-null    float64\n",
      " 7   Age                       768 non-null    int64  \n",
      " 8   Outcome                   768 non-null    int64  \n",
      "dtypes: float64(2), int64(7)\n",
      "memory usage: 54.1 KB\n"
     ]
    }
   ],
   "source": [
    "# Load datasets\n",
    "diabetes = pd.read_csv(\"diabetes.csv\",sep=\",\")\n",
    "diabetes.info()"
   ]
  },
  {
   "cell_type": "code",
   "execution_count": 9,
   "metadata": {},
   "outputs": [],
   "source": [
    "glm_res = powersetmodel(DTrain=diabetes,split_data=False,target=\"Outcome\",model_type = \"logistic\",num_from=2,num_to=3)\n",
    "glm_model = glm_res[0]"
   ]
  },
  {
   "cell_type": "code",
   "execution_count": 10,
   "metadata": {},
   "outputs": [
    {
     "name": "stdout",
     "output_type": "stream",
     "text": [
      "                                     predictor  count         aic         bic  \\\n",
      "0                          Pregnancies+Glucose      2  790.949984  804.881354   \n",
      "1                    BloodPressure+Pregnancies      2  961.255314  975.186683   \n",
      "2                    SkinThickness+Pregnancies      2  955.362685  969.294054   \n",
      "3                          Pregnancies+Insulin      2  945.340140  959.271509   \n",
      "4                              BMI+Pregnancies      2  887.143848  901.075217   \n",
      "..                                         ...    ...         ...         ...   \n",
      "79  SkinThickness+DiabetesPedigreeFunction+Age      3  932.701545  951.276704   \n",
      "80        BMI+DiabetesPedigreeFunction+Insulin      3  912.372026  930.947185   \n",
      "81                             BMI+Age+Insulin      3  877.795909  896.371068   \n",
      "82        Age+DiabetesPedigreeFunction+Insulin      3  926.850265  945.425424   \n",
      "83            BMI+DiabetesPedigreeFunction+Age      3  870.006943  888.582102   \n",
      "\n",
      "    r2 mcfadden  r2 cox - snell  r2 nagelkerke  null deviance  resid deviance  \\\n",
      "0      0.209902        0.237786       0.327657      993.48391      784.949984   \n",
      "1      0.038479        0.048558       0.066911      993.48391      955.255314   \n",
      "2      0.044411        0.055830       0.076931      993.48391      949.362685   \n",
      "3      0.054499        0.068072       0.093799      993.48391      939.340140   \n",
      "4      0.113077        0.136081       0.187512      993.48391      881.143848   \n",
      "..          ...             ...            ...            ...             ...   \n",
      "79     0.069233        0.085667       0.118044      993.48391      924.701545   \n",
      "80     0.089696        0.109552       0.150957      993.48391      904.372026   \n",
      "81     0.124499        0.148752       0.204973      993.48391      869.795909   \n",
      "82     0.075123        0.092607       0.127607      993.48391      918.850265   \n",
      "83     0.132339        0.157342       0.216809      993.48391      862.006943   \n",
      "\n",
      "    diff deviance  ...  recall score  f1 score       auc  sensibility  \\\n",
      "0      208.533926  ...      0.503731  0.580645  0.689866     0.503731   \n",
      "1       38.228596  ...      0.182836  0.277620  0.555418     0.182836   \n",
      "2       44.121225  ...      0.208955  0.312849  0.570478     0.208955   \n",
      "3       54.143770  ...      0.235075  0.331579  0.568537     0.235075   \n",
      "4      112.340063  ...      0.332090  0.425837  0.605045     0.332090   \n",
      "..            ...  ...           ...       ...       ...          ...   \n",
      "79      68.782365  ...      0.253731  0.342569  0.565866     0.253731   \n",
      "80      89.111884  ...      0.283582  0.380952  0.586791     0.283582   \n",
      "81     123.688001  ...      0.358209  0.445476  0.612104     0.358209   \n",
      "82      74.633645  ...      0.235075  0.324742  0.560537     0.235075   \n",
      "83     131.476967  ...      0.380597  0.463636  0.620299     0.380597   \n",
      "\n",
      "    precision  specificity  False Pos. rate  younden index  likelihood ratio  \\\n",
      "0    0.685279        0.876            0.124       0.379731          4.062350   \n",
      "1    0.576471        0.928            0.072       0.110836          2.539386   \n",
      "2    0.622222        0.932            0.068       0.140955          3.072871   \n",
      "3    0.562500        0.902            0.098       0.137075          2.398721   \n",
      "4    0.593333        0.878            0.122       0.210090          2.722046   \n",
      "..        ...          ...              ...            ...               ...   \n",
      "79   0.527132        0.878            0.122       0.131731          2.079765   \n",
      "80   0.580153        0.890            0.110       0.173582          2.578019   \n",
      "81   0.588957        0.866            0.134       0.224209          2.673201   \n",
      "82   0.525000        0.886            0.114       0.121075          2.062058   \n",
      "83   0.593023        0.860            0.140       0.240597          2.718550   \n",
      "\n",
      "    likelihood test ratio  \n",
      "0              -77.056958  \n",
      "1               93.248371  \n",
      "2               87.355742  \n",
      "3               77.333197  \n",
      "4               19.136905  \n",
      "..                    ...  \n",
      "79              62.694603  \n",
      "80              42.365083  \n",
      "81               7.788966  \n",
      "82              56.843322  \n",
      "83               0.000000  \n",
      "\n",
      "[84 rows x 22 columns]\n"
     ]
    }
   ],
   "source": [
    "glm_metrics = glm_res[1]\n",
    "print(glm_metrics)"
   ]
  }
 ],
 "metadata": {
  "kernelspec": {
   "display_name": "Python 3",
   "language": "python",
   "name": "python3"
  },
  "language_info": {
   "codemirror_mode": {
    "name": "ipython",
    "version": 3
   },
   "file_extension": ".py",
   "mimetype": "text/x-python",
   "name": "python",
   "nbconvert_exporter": "python",
   "pygments_lexer": "ipython3",
   "version": "3.10.5"
  },
  "orig_nbformat": 4
 },
 "nbformat": 4,
 "nbformat_minor": 2
}

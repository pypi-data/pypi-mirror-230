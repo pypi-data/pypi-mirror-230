{
 "cells": [
  {
   "cell_type": "code",
   "execution_count": 1,
   "metadata": {},
   "outputs": [],
   "source": [
    "from datetime import date, datetime\n",
    "import numpy as np\n",
    "import pandas as pd\n",
    "import perspective\n",
    "from zeta_py.exchange import Exchange\n",
    "from solana.rpc import commitment\n",
    "from zeta_py.utils import cluster_endpoint\n",
    "from zeta_py.types import LoadExchangeConfig\n",
    "from solana.rpc.async_api import AsyncClient\n",
    "from zeta_py.types import Asset, Side"
   ]
  },
  {
   "cell_type": "code",
   "execution_count": 2,
   "metadata": {},
   "outputs": [
    {
     "name": "stdout",
     "output_type": "stream",
     "text": [
      "Loaded account: State\n",
      "Loaded account: Pricing\n",
      "Loading Market: SOL\n",
      "Loaded account: PerpSyncQueue\n",
      "Subscribed to SOL:bid\n",
      "Subscribed to SOL:ask\n",
      "Loaded account: Clock\n",
      "Subscribed to Clock\n",
      "Subscribed to Pricing\n"
     ]
    }
   ],
   "source": [
    "network = \"mainnet_beta\"\n",
    "opts = {\n",
    "    \"skip_preflight\": False,\n",
    "    \"preflight_commitment\": commitment.Confirmed,\n",
    "}\n",
    "endpoint = cluster_endpoint(network)\n",
    "config = LoadExchangeConfig(\n",
    "    **{\n",
    "        \"network\": network,\n",
    "        \"connection\": AsyncClient(endpoint, commitment=opts.get(\"preflight_commitment\")),\n",
    "        \"assets\": [Asset.SOL],\n",
    "        \"opts\": opts,\n",
    "        \"throttle_ms\": 0,\n",
    "        \"load_from_store\": False,\n",
    "    }\n",
    ")\n",
    "\n",
    "zeta = Exchange(config)\n",
    "await zeta.load(config, subscribe=True)"
   ]
  },
  {
   "cell_type": "code",
   "execution_count": 11,
   "metadata": {},
   "outputs": [],
   "source": [
    "# data = {\n",
    "#     'price': [zeta.accounts.pricing.account.mark_prices[0]],\n",
    "#     'time': [zeta.clock.account.unix_timestamp]\n",
    "# }\n",
    "\n",
    "bid = zeta.markets[Asset.SOL].get_l2(Side.BID, depth=None)\n",
    "ask = zeta.markets[Asset.SOL].get_l2(Side.ASK, depth=None)\n",
    "data = {\n",
    "    'price': [float(l.price) for l in bid+ask],\n",
    "    'size': [float(l.size) for l in bid+ask],\n",
    "    'side': ['bid']*len(bid)+['ask']*len(ask),\n",
    "    'time': [datetime.fromtimestamp(zeta.clock.account.unix_timestamp)]*len(bid+ask)\n",
    "}\n",
    "\n",
    "# data\n",
    "table = perspective.Table(data)"
   ]
  },
  {
   "cell_type": "code",
   "execution_count": 12,
   "metadata": {},
   "outputs": [
    {
     "data": {
      "text/plain": [
       "float"
      ]
     },
     "execution_count": 12,
     "metadata": {},
     "output_type": "execute_result"
    }
   ],
   "source": [
    "type(data['size'][0])"
   ]
  },
  {
   "cell_type": "code",
   "execution_count": 13,
   "metadata": {
    "scrolled": true
   },
   "outputs": [],
   "source": [
    "import time\n",
    "import asyncio\n",
    "\n",
    "async def _update():\n",
    "    while True:\n",
    "        bid = zeta.markets[Asset.SOL].get_l2(Side.BID, depth=None)\n",
    "        ask = zeta.markets[Asset.SOL].get_l2(Side.ASK, depth=None)\n",
    "        data = {\n",
    "            'price': [float(l.price) for l in bid+ask],\n",
    "            'size': [float(l.size) for l in bid+ask],\n",
    "            'side': ['bid']*len(bid)+['ask']*len(ask),\n",
    "            'time': [datetime.fromtimestamp(zeta.clock.account.unix_timestamp)]*len(bid+ask)\n",
    "        }\n",
    "        # print(data)\n",
    "        table.update(data)\n",
    "        await asyncio.sleep(1)\n",
    "\n",
    "def update_table():\n",
    "    loop = asyncio.new_event_loop()\n",
    "    task = loop.create_task(_update())\n",
    "    # loop.call_later(60, task.cancel())\n",
    "\n",
    "    try:\n",
    "        loop.run_until_complete(task)\n",
    "    except asyncio.CancelledError:\n",
    "        print(\"Stopped streaming\")"
   ]
  },
  {
   "cell_type": "code",
   "execution_count": 14,
   "metadata": {},
   "outputs": [
    {
     "data": {
      "text/plain": [
       "58"
      ]
     },
     "execution_count": 14,
     "metadata": {},
     "output_type": "execute_result"
    }
   ],
   "source": [
    "table.num_rows()"
   ]
  },
  {
   "cell_type": "code",
   "execution_count": 15,
   "metadata": {},
   "outputs": [],
   "source": [
    "from perspective import Aggregate, Sort, Plugin\n",
    "w = perspective.PerspectiveWidget(\n",
    "    table,\n",
    "    plugin=Plugin.YLINE,\n",
    "    # aggregates={\"price\": Aggregate.SUM},\n",
    "    # group_by=[\"time\"],\n",
    "    # sort=[[\"time\", Sort.ASC]],\n",
    "    # server=True,\n",
    "    # limit=10\n",
    ")"
   ]
  },
  {
   "cell_type": "code",
   "execution_count": 16,
   "metadata": {},
   "outputs": [
    {
     "data": {
      "application/vnd.jupyter.widget-view+json": {
       "model_id": "503c5b15817c4ef4bfba2e22f3522bed",
       "version_major": 2,
       "version_minor": 0
      },
      "text/plain": [
       "PerspectiveWidget(columns=['price', 'size', 'side', 'time'], plugin='Y Line', theme=None)"
      ]
     },
     "execution_count": 16,
     "metadata": {},
     "output_type": "execute_result"
    }
   ],
   "source": [
    "w"
   ]
  },
  {
   "cell_type": "code",
   "execution_count": 17,
   "metadata": {},
   "outputs": [],
   "source": [
    "import threading\n",
    "\n",
    "thread = threading.Thread(target=update_table)\n",
    "thread.start()"
   ]
  },
  {
   "cell_type": "code",
   "execution_count": null,
   "metadata": {},
   "outputs": [],
   "source": []
  }
 ],
 "metadata": {
  "kernelspec": {
   "display_name": "Python 3 (ipykernel)",
   "language": "python",
   "name": "python3"
  },
  "language_info": {
   "codemirror_mode": {
    "name": "ipython",
    "version": 3
   },
   "file_extension": ".py",
   "mimetype": "text/x-python",
   "name": "python",
   "nbconvert_exporter": "python",
   "pygments_lexer": "ipython3",
   "version": "3.11.4"
  }
 },
 "nbformat": 4,
 "nbformat_minor": 4
}

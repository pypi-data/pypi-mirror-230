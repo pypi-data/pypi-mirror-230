{
 "cells": [
  {
   "cell_type": "code",
   "execution_count": 1,
   "metadata": {},
   "outputs": [],
   "source": [
    "%load_ext dotenv\n",
    "%dotenv"
   ]
  },
  {
   "cell_type": "code",
   "execution_count": 1,
   "metadata": {},
   "outputs": [
    {
     "name": "stdout",
     "output_type": "stream",
     "text": [
      "https://api.mainnet-beta.solana\n"
     ]
    }
   ],
   "source": [
    "import logging\n",
    "import os\n",
    "from zeta_py.types import Asset, Side, OrderOptions, OrderType\n",
    "from zeta_py import utils\n",
    "from zeta_py.client import Client\n",
    "import anchorpy\n",
    "from datetime import datetime, timedelta\n",
    "from solana.rpc.commitment import Confirmed\n",
    "\n",
    "logger = logging.getLogger(\"zeta_py\")\n",
    "logging.basicConfig(level=logging.DEBUG)\n",
    "\n",
    "endpoint = os.getenv(\"ENDPOINT\", \"https://api.mainnet-beta.solana.com\")\n",
    "print(endpoint.split(\".com\")[0])\n",
    "\n",
    "wallet = anchorpy.Wallet.local()  # get local filesystem keypair wallet\n",
    "# print(wallet.public_key)"
   ]
  },
  {
   "cell_type": "code",
   "execution_count": 2,
   "metadata": {},
   "outputs": [],
   "source": [
    "asset = Asset.SOL\n",
    "client = await Client.load(endpoint=endpoint, commitment=Confirmed, wallet=wallet, assets=[asset])"
   ]
  },
  {
   "cell_type": "markdown",
   "metadata": {},
   "source": [
    "### Balances, Positions and Open Orders"
   ]
  },
  {
   "cell_type": "code",
   "execution_count": 3,
   "metadata": {},
   "outputs": [
    {
     "name": "stdout",
     "output_type": "stream",
     "text": [
      "Balance: 0.489279\n",
      "Position: Position(size=0.004, cost_of_trades=0.076306)\n",
      "Open orders: []\n"
     ]
    }
   ],
   "source": [
    "balance = await client.fetch_balance()\n",
    "position = await client.fetch_position(asset)\n",
    "open_orders = await client.fetch_open_orders(asset)\n",
    "\n",
    "print(f\"Balance: {balance}\")\n",
    "print(f\"Position: {position}\")\n",
    "print(f\"Open orders: {open_orders}\")"
   ]
  },
  {
   "cell_type": "markdown",
   "metadata": {},
   "source": [
    "### Deposit\n",
    "Deposit USDC into your Zeta margin account"
   ]
  },
  {
   "cell_type": "code",
   "execution_count": 5,
   "metadata": {},
   "outputs": [
    {
     "name": "stderr",
     "output_type": "stream",
     "text": [
      "INFO:zeta_py.client.Client:Depositing 0.1 USDC to margin account\n"
     ]
    },
    {
     "data": {
      "text/plain": [
       "Signature(\n",
       "    2Sf2dMvGEiM82u6cGo9PYKPfqSMDwgnZaKkAjAaXk8HzRFP3xCk2wJw7pyS4xejKkpu7tYnTFsiCZTtC9W5iUmwN,\n",
       ")"
      ]
     },
     "execution_count": 5,
     "metadata": {},
     "output_type": "execute_result"
    }
   ],
   "source": [
    "await client.deposit(0.1)"
   ]
  },
  {
   "cell_type": "markdown",
   "metadata": {},
   "source": [
    "### Place Order"
   ]
  },
  {
   "cell_type": "code",
   "execution_count": 4,
   "metadata": {},
   "outputs": [
    {
     "name": "stderr",
     "output_type": "stream",
     "text": [
      "INFO:zeta_py.client.Client:Placed 0.001x SOL-PERP Ask @ $0.1\n",
      "INFO:solanaweb3.rpc.httprpc.HTTPClient:Transaction sent to https://api.mainnet-beta.solana.com. Signature YEUYDVjLguXn1zqtHMbuhnwbQQ3s8F7McA9bPD4rpcqxAQS4KMBbvrKPDicPQFkozfu8nHDFaVqAjZgSWDpwG2R: \n"
     ]
    },
    {
     "data": {
      "text/plain": [
       "Signature(\n",
       "    YEUYDVjLguXn1zqtHMbuhnwbQQ3s8F7McA9bPD4rpcqxAQS4KMBbvrKPDicPQFkozfu8nHDFaVqAjZgSWDpwG2R,\n",
       ")"
      ]
     },
     "execution_count": 4,
     "metadata": {},
     "output_type": "execute_result"
    }
   ],
   "source": [
    "await client.place_order(asset=Asset.SOL, price=0.1, size=0.001, side=Side.Bid)"
   ]
  },
  {
   "cell_type": "markdown",
   "metadata": {},
   "source": [
    "### Cancel Order"
   ]
  },
  {
   "cell_type": "code",
   "execution_count": 7,
   "metadata": {},
   "outputs": [
    {
     "name": "stdout",
     "output_type": "stream",
     "text": [
      "Open Orders:\n",
      "Bid 0.001x $0.1\n"
     ]
    }
   ],
   "source": [
    "open_orders = await client.fetch_open_orders(Asset.SOL)\n",
    "print(\"Open Orders:\")\n",
    "for order in open_orders:\n",
    "    print(f\"{order.side.name} {order.info.size}x ${order.info.price}\")"
   ]
  },
  {
   "cell_type": "code",
   "execution_count": 10,
   "metadata": {},
   "outputs": [
    {
     "name": "stderr",
     "output_type": "stream",
     "text": [
      "INFO:zeta_py.client.Client:Cancelling order 1844692854115028755624221 for SOL\n"
     ]
    },
    {
     "data": {
      "text/plain": [
       "Signature(\n",
       "    RSyeLPuE4y5UhKWsH88iyEQDQWRexW64Mk2ay3ByPfQanRh4W2mcNkV4syoEnKQpdN1MPD56wCLF8G8zT2fHNRf,\n",
       ")"
      ]
     },
     "execution_count": 10,
     "metadata": {},
     "output_type": "execute_result"
    }
   ],
   "source": [
    "oid = open_orders[0].order_id\n",
    "await client.cancel_order(Asset.SOL, order_id=oid, side=Side.Bid)"
   ]
  },
  {
   "cell_type": "markdown",
   "metadata": {},
   "source": [
    "### Quoting\n",
    "Use this code to atomically cancel and replace a set of quotes on Zeta.\n",
    "\n",
    "*For this example we quote 0.001 SOL-PERP contracts at 20bps spread*"
   ]
  },
  {
   "cell_type": "code",
   "execution_count": 12,
   "metadata": {},
   "outputs": [
    {
     "name": "stderr",
     "output_type": "stream",
     "text": [
      "INFO:zeta_py.client.Client:Replacing SOL orders: 0.001x Bid @ $17.973859149, 0.001x Ask @ $18.009842851\n"
     ]
    },
    {
     "data": {
      "text/plain": [
       "Signature(\n",
       "    4JJqnar2gQMZszwJjhK4A19xPLdJ1DX1LQNViueHTCVFky8nRT8qreYRkKtgV5MfPFVBPFjouPrUroUZAW2i3f7T,\n",
       ")"
      ]
     },
     "execution_count": 12,
     "metadata": {},
     "output_type": "execute_result"
    }
   ],
   "source": [
    "# Quoting parameters\n",
    "asset = Asset.SOL  # SOL-PERP market\n",
    "quote_size = 0.001  # min size\n",
    "quote_bps = 10  # basis points from midpoint\n",
    "time_in_force = 10  # expire the quote after 10 seconds\n",
    "\n",
    "# Get the latest mark price and calculate bid/ask prices\n",
    "price_fixed = client.exchange.pricing.mark_prices[asset.to_index()]\n",
    "bid_price = utils.convert_fixed_int_to_decimal(price_fixed * (1 - quote_bps / 10000))\n",
    "ask_price = utils.convert_fixed_int_to_decimal(price_fixed * (1 + quote_bps / 10000))\n",
    "\n",
    "# Set order options\n",
    "expiry_ts = int((datetime.now() + timedelta(seconds=time_in_force)).timestamp())\n",
    "order_opts = OrderOptions(expiry_ts=expiry_ts, order_type=OrderType.Limit, client_order_id=69)\n",
    "\n",
    "# Execute quote!\n",
    "await client.replace_quote(Asset.SOL, bid_price, quote_size, ask_price, quote_size, order_opts)"
   ]
  },
  {
   "cell_type": "markdown",
   "metadata": {},
   "source": [
    "### Transaction Events"
   ]
  },
  {
   "cell_type": "code",
   "execution_count": 3,
   "metadata": {},
   "outputs": [
    {
     "name": "stdout",
     "output_type": "stream",
     "text": [
      "Trade: Event(name='TradeEventV3', data=TradeEventV3(margin_account=Pubkey(\n",
      "    Hu2yXbPESXyamLdvDemeASCFd3rHnpN2xBDUJpnuG5UX,\n",
      "), index=137, size=1, cost_of_trades=18498, is_bid=True, client_order_id=0, order_id=347924058420979926623339914, asset=Asset.SOL(), user=Pubkey(\n",
      "    4mYxEXiFwe3ePEmoj7CYCbiW7wGTojUQCmdPqGaoVaUh,\n",
      "), is_taker=True, sequence_number=174933582, fee=18))\n"
     ]
    },
    {
     "ename": "CancelledError",
     "evalue": "",
     "output_type": "error",
     "traceback": [
      "\u001b[0;31m---------------------------------------------------------------------------\u001b[0m",
      "\u001b[0;31mCancelledError\u001b[0m                            Traceback (most recent call last)",
      "Cell \u001b[0;32mIn[3], line 13\u001b[0m\n\u001b[1;32m     10\u001b[0m \u001b[39masync\u001b[39;00m \u001b[39mdef\u001b[39;00m \u001b[39mliquidation_callback\u001b[39m(event: LiquidationEvent):\n\u001b[1;32m     11\u001b[0m   \u001b[39mprint\u001b[39m(\u001b[39mf\u001b[39m\u001b[39m\"\u001b[39m\u001b[39mLiquidation: \u001b[39m\u001b[39m{\u001b[39;00mevent\u001b[39m}\u001b[39;00m\u001b[39m\"\u001b[39m)\n\u001b[0;32m---> 13\u001b[0m \u001b[39mawait\u001b[39;00m client\u001b[39m.\u001b[39msubscribe_transaction(order_complete_callback, trade_callback, liquidation_callback)\n",
      "File \u001b[0;32m~/Documents/zeta/zeta-py/zeta_py/client.py:271\u001b[0m, in \u001b[0;36msubscribe_transaction\u001b[0;34m(self, order_complete_callback, trade_callback, liquidation_callback)\u001b[0m\n\u001b[1;32m    266\u001b[0m \u001b[39mawait\u001b[39;00m ws\u001b[39m.\u001b[39mlogs_subscribe(\n\u001b[1;32m    267\u001b[0m     commitment\u001b[39m=\u001b[39m\u001b[39mself\u001b[39m\u001b[39m.\u001b[39mconnection\u001b[39m.\u001b[39mcommitment,\n\u001b[1;32m    268\u001b[0m     filter_\u001b[39m=\u001b[39mRpcTransactionLogsFilterMentions(\u001b[39mself\u001b[39m\u001b[39m.\u001b[39mexchange\u001b[39m.\u001b[39mprogram_id),\n\u001b[1;32m    269\u001b[0m )\n\u001b[1;32m    270\u001b[0m first_resp \u001b[39m=\u001b[39m \u001b[39mawait\u001b[39;00m ws\u001b[39m.\u001b[39mrecv()\n\u001b[0;32m--> 271\u001b[0m subscription_id \u001b[39m=\u001b[39m first_resp[\u001b[39m0\u001b[39m]\u001b[39m.\u001b[39mresult\n\u001b[1;32m    272\u001b[0m \u001b[39masync\u001b[39;00m \u001b[39mfor\u001b[39;00m msg \u001b[39min\u001b[39;00m ws:\n\u001b[1;32m    273\u001b[0m     logs \u001b[39m=\u001b[39m msg[\u001b[39m0\u001b[39m]\u001b[39m.\u001b[39mresult\u001b[39m.\u001b[39mvalue\u001b[39m.\u001b[39mlogs\n",
      "File \u001b[0;32m~/Documents/zeta/zeta-py/.venv/lib/python3.9/site-packages/websockets/legacy/protocol.py:497\u001b[0m, in \u001b[0;36mWebSocketCommonProtocol.__aiter__\u001b[0;34m(self)\u001b[0m\n\u001b[1;32m    495\u001b[0m \u001b[39mtry\u001b[39;00m:\n\u001b[1;32m    496\u001b[0m     \u001b[39mwhile\u001b[39;00m \u001b[39mTrue\u001b[39;00m:\n\u001b[0;32m--> 497\u001b[0m         \u001b[39myield\u001b[39;00m \u001b[39mawait\u001b[39;00m \u001b[39mself\u001b[39m\u001b[39m.\u001b[39mrecv()\n\u001b[1;32m    498\u001b[0m \u001b[39mexcept\u001b[39;00m ConnectionClosedOK:\n\u001b[1;32m    499\u001b[0m     \u001b[39mreturn\u001b[39;00m\n",
      "File \u001b[0;32m~/Documents/zeta/zeta-py/.venv/lib/python3.9/site-packages/solana/rpc/websocket_api.py:107\u001b[0m, in \u001b[0;36mSolanaWsClientProtocol.recv\u001b[0;34m(self)\u001b[0m\n\u001b[1;32m    100\u001b[0m \u001b[39masync\u001b[39;00m \u001b[39mdef\u001b[39;00m \u001b[39mrecv\u001b[39m(  \u001b[39m# type: ignore\u001b[39;00m\n\u001b[1;32m    101\u001b[0m     \u001b[39mself\u001b[39m,\n\u001b[1;32m    102\u001b[0m ) \u001b[39m-\u001b[39m\u001b[39m>\u001b[39m List[Union[Notification, SubscriptionResult]]:\n\u001b[1;32m    103\u001b[0m \u001b[39m    \u001b[39m\u001b[39m\"\"\"Receive the next message.\u001b[39;00m\n\u001b[1;32m    104\u001b[0m \n\u001b[1;32m    105\u001b[0m \u001b[39m    Basically `.recv` from `websockets` with extra parsing.\u001b[39;00m\n\u001b[1;32m    106\u001b[0m \u001b[39m    \"\"\"\u001b[39;00m\n\u001b[0;32m--> 107\u001b[0m     data \u001b[39m=\u001b[39m \u001b[39mawait\u001b[39;00m \u001b[39msuper\u001b[39m()\u001b[39m.\u001b[39mrecv()\n\u001b[1;32m    108\u001b[0m     \u001b[39mreturn\u001b[39;00m \u001b[39mself\u001b[39m\u001b[39m.\u001b[39m_process_rpc_response(cast(\u001b[39mstr\u001b[39m, data))\n",
      "File \u001b[0;32m~/Documents/zeta/zeta-py/.venv/lib/python3.9/site-packages/websockets/legacy/protocol.py:551\u001b[0m, in \u001b[0;36mWebSocketCommonProtocol.recv\u001b[0;34m(self)\u001b[0m\n\u001b[1;32m    547\u001b[0m \u001b[39mself\u001b[39m\u001b[39m.\u001b[39m_pop_message_waiter \u001b[39m=\u001b[39m pop_message_waiter\n\u001b[1;32m    548\u001b[0m \u001b[39mtry\u001b[39;00m:\n\u001b[1;32m    549\u001b[0m     \u001b[39m# If asyncio.wait() is canceled, it doesn't cancel\u001b[39;00m\n\u001b[1;32m    550\u001b[0m     \u001b[39m# pop_message_waiter and self.transfer_data_task.\u001b[39;00m\n\u001b[0;32m--> 551\u001b[0m     \u001b[39mawait\u001b[39;00m asyncio\u001b[39m.\u001b[39mwait(\n\u001b[1;32m    552\u001b[0m         [pop_message_waiter, \u001b[39mself\u001b[39m\u001b[39m.\u001b[39mtransfer_data_task],\n\u001b[1;32m    553\u001b[0m         return_when\u001b[39m=\u001b[39masyncio\u001b[39m.\u001b[39mFIRST_COMPLETED,\n\u001b[1;32m    554\u001b[0m         \u001b[39m*\u001b[39m\u001b[39m*\u001b[39mloop_if_py_lt_38(\u001b[39mself\u001b[39m\u001b[39m.\u001b[39mloop),\n\u001b[1;32m    555\u001b[0m     )\n\u001b[1;32m    556\u001b[0m \u001b[39mfinally\u001b[39;00m:\n\u001b[1;32m    557\u001b[0m     \u001b[39mself\u001b[39m\u001b[39m.\u001b[39m_pop_message_waiter \u001b[39m=\u001b[39m \u001b[39mNone\u001b[39;00m\n",
      "File \u001b[0;32m~/miniconda3/envs/zeta-omm/lib/python3.9/asyncio/tasks.py:413\u001b[0m, in \u001b[0;36mwait\u001b[0;34m(fs, loop, timeout, return_when)\u001b[0m\n\u001b[1;32m    406\u001b[0m     warnings\u001b[39m.\u001b[39mwarn(\u001b[39m\"\u001b[39m\u001b[39mThe explicit passing of coroutine objects to \u001b[39m\u001b[39m\"\u001b[39m\n\u001b[1;32m    407\u001b[0m                   \u001b[39m\"\u001b[39m\u001b[39masyncio.wait() is deprecated since Python 3.8, and \u001b[39m\u001b[39m\"\u001b[39m\n\u001b[1;32m    408\u001b[0m                   \u001b[39m\"\u001b[39m\u001b[39mscheduled for removal in Python 3.11.\u001b[39m\u001b[39m\"\u001b[39m,\n\u001b[1;32m    409\u001b[0m                   \u001b[39mDeprecationWarning\u001b[39;00m, stacklevel\u001b[39m=\u001b[39m\u001b[39m2\u001b[39m)\n\u001b[1;32m    411\u001b[0m fs \u001b[39m=\u001b[39m {ensure_future(f, loop\u001b[39m=\u001b[39mloop) \u001b[39mfor\u001b[39;00m f \u001b[39min\u001b[39;00m fs}\n\u001b[0;32m--> 413\u001b[0m \u001b[39mreturn\u001b[39;00m \u001b[39mawait\u001b[39;00m _wait(fs, timeout, return_when, loop)\n",
      "File \u001b[0;32m~/miniconda3/envs/zeta-omm/lib/python3.9/asyncio/tasks.py:529\u001b[0m, in \u001b[0;36m_wait\u001b[0;34m(fs, timeout, return_when, loop)\u001b[0m\n\u001b[1;32m    526\u001b[0m     f\u001b[39m.\u001b[39madd_done_callback(_on_completion)\n\u001b[1;32m    528\u001b[0m \u001b[39mtry\u001b[39;00m:\n\u001b[0;32m--> 529\u001b[0m     \u001b[39mawait\u001b[39;00m waiter\n\u001b[1;32m    530\u001b[0m \u001b[39mfinally\u001b[39;00m:\n\u001b[1;32m    531\u001b[0m     \u001b[39mif\u001b[39;00m timeout_handle \u001b[39mis\u001b[39;00m \u001b[39mnot\u001b[39;00m \u001b[39mNone\u001b[39;00m:\n",
      "\u001b[0;31mCancelledError\u001b[0m: "
     ]
    }
   ],
   "source": [
    "from zeta_py.events import LiquidationEvent, OrderCompleteEvent, TradeEventV3\n",
    "\n",
    "\n",
    "async def order_complete_callback(event: OrderCompleteEvent):\n",
    "    print(f\"Order complete: {event}\")\n",
    "\n",
    "\n",
    "async def trade_callback(event: TradeEventV3):\n",
    "    print(f\"Trade: {event}\")\n",
    "\n",
    "\n",
    "async def liquidation_callback(event: LiquidationEvent):\n",
    "    print(f\"Liquidation: {event}\")\n",
    "\n",
    "\n",
    "await client.subscribe_transaction(order_complete_callback, trade_callback, liquidation_callback)"
   ]
  },
  {
   "cell_type": "code",
   "execution_count": null,
   "metadata": {},
   "outputs": [],
   "source": []
  }
 ],
 "metadata": {
  "kernelspec": {
   "display_name": ".venv",
   "language": "python",
   "name": "python3"
  },
  "language_info": {
   "codemirror_mode": {
    "name": "ipython",
    "version": 3
   },
   "file_extension": ".py",
   "mimetype": "text/x-python",
   "name": "python",
   "nbconvert_exporter": "python",
   "pygments_lexer": "ipython3",
   "version": "3.9.7"
  },
  "orig_nbformat": 4
 },
 "nbformat": 4,
 "nbformat_minor": 2
}

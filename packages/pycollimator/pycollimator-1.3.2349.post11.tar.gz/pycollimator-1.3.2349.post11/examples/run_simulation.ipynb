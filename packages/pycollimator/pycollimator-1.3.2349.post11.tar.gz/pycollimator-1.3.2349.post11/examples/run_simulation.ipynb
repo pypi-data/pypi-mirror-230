{
 "cells": [
  {
   "cell_type": "markdown",
   "metadata": {},
   "source": [
    "## Example notebook\n",
    "\n",
    "Skeleton notebook to run a simulation and get results."
   ]
  },
  {
   "cell_type": "code",
   "execution_count": null,
   "metadata": {},
   "outputs": [],
   "source": [
    "import pycollimator as collimator"
   ]
  },
  {
   "cell_type": "markdown",
   "metadata": {},
   "source": [
    "### Authentication\n",
    "\n",
    "Go to your dashboard and click on the key icon in the nav bar to retrieve your token."
   ]
  },
  {
   "cell_type": "code",
   "execution_count": null,
   "metadata": {},
   "outputs": [],
   "source": [
    "# Your dashboard generated token\n",
    "token = \"\"\n",
    "# Project uuid\n",
    "project = \"\"\n",
    "# Api url of the environment your project is in\n",
    "api_url = \"https://dev.collimator.ai\"\n",
    "# Unique model name from the project\n",
    "model_name = \"\"\n",
    "\n",
    "# Set the global variables used for auth\n",
    "collimator.set_auth_token(token, project, api_url)"
   ]
  },
  {
   "cell_type": "markdown",
   "metadata": {},
   "source": [
    "### Model"
   ]
  },
  {
   "cell_type": "code",
   "execution_count": null,
   "metadata": {},
   "outputs": [],
   "source": [
    "# Fetch model\n",
    "model = collimator.load_model(model_name)\n",
    "\n",
    "# Set model parameters for the simulation. Not saved to model by default.\n",
    "model.set_parameters({\"parameter1\": 1, \"parameter2\": 2})\n",
    "\n",
    "# Set model configuration for the simulation. Not saved to model by default.\n",
    "model.set_configuration({\"stop_time\": 10})\n",
    "\n",
    "# TODO: add find_block example\n",
    "\n",
    "# Run the simulation\n",
    "sim = collimator.run_simulation(model, wait=True)"
   ]
  },
  {
   "cell_type": "markdown",
   "metadata": {},
   "source": [
    "### Sim results"
   ]
  },
  {
   "cell_type": "code",
   "execution_count": null,
   "metadata": {},
   "outputs": [],
   "source": [
    "# Get the results\n",
    "results = sim.results\n",
    "\n",
    "# Access the results as a pandas dataframe using block path\n",
    "results.to_pandas()[\"Submodel_0.Plant_1.out_0\"]\n",
    "\n",
    "# TODO: add results[] example\n"
   ]
  }
 ],
 "metadata": {
  "kernelspec": {
   "display_name": "Python 3.9.15 ('venv': venv)",
   "language": "python",
   "name": "python3"
  },
  "language_info": {
   "codemirror_mode": {
    "name": "ipython",
    "version": 3
   },
   "file_extension": ".py",
   "mimetype": "text/x-python",
   "name": "python",
   "nbconvert_exporter": "python",
   "pygments_lexer": "ipython3",
   "version": "3.9.15"
  },
  "orig_nbformat": 4,
  "vscode": {
   "interpreter": {
    "hash": "679eea4b2e44816890cd731d1c56761e5e7c4466f4a079aee943f9590bfdf904"
   }
  }
 },
 "nbformat": 4,
 "nbformat_minor": 2
}

{
 "cells": [
  {
   "cell_type": "code",
   "execution_count": 2,
   "metadata": {},
   "outputs": [
    {
     "name": "stderr",
     "output_type": "stream",
     "text": [
      "2023-09-11 12:46:36 - [database] [INFO]: Calling get_vw_sales_lines\n",
      "2023-09-11 12:46:36 - [database] [INFO]: Calling get_dataframe_from_sql_query\n",
      "2023-09-11 12:46:36 - [database] [INFO]: Calling create_and_connect_engine\n",
      "2023-09-11 12:46:36 - [database] [INFO]: Finished Calling create_and_connect_engine\n",
      "2023-09-11 12:46:36 - [database] [INFO]: Execution of create_and_connect_engine took 0.045.\n",
      "2023-09-11 12:47:29 - [database] [INFO]: Finished Calling get_dataframe_from_sql_query\n",
      "2023-09-11 12:47:29 - [database] [INFO]: Execution of get_dataframe_from_sql_query took 52.618.\n",
      "2023-09-11 12:47:29 - [database] [INFO]: Finished Calling get_vw_sales_lines\n",
      "2023-09-11 12:47:29 - [database] [INFO]: Execution of get_vw_sales_lines took 52.622.\n"
     ]
    }
   ],
   "source": [
    "from database import get_vw_sales_lines\n",
    "df = get_vw_sales_lines()"
   ]
  }
 ],
 "metadata": {
  "kernelspec": {
   "display_name": ".venv",
   "language": "python",
   "name": "python3"
  },
  "language_info": {
   "codemirror_mode": {
    "name": "ipython",
    "version": 3
   },
   "file_extension": ".py",
   "mimetype": "text/x-python",
   "name": "python",
   "nbconvert_exporter": "python",
   "pygments_lexer": "ipython3",
   "version": "3.10.12"
  },
  "orig_nbformat": 4
 },
 "nbformat": 4,
 "nbformat_minor": 2
}

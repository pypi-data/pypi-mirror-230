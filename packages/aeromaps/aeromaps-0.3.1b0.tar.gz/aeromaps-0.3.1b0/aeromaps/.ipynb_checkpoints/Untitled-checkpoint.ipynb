{
 "cells": [
  {
   "cell_type": "code",
   "execution_count": 1,
   "id": "e7c1cd00-8df5-4ff4-a570-d3d48c121ca8",
   "metadata": {
    "tags": []
   },
   "outputs": [],
   "source": [
    "from ipydatagrid import DataGrid, TextRenderer, BarRenderer, Expr\n",
    "import pandas as pd"
   ]
  },
  {
   "cell_type": "code",
   "execution_count": null,
   "id": "f47b2986-6040-4be3-87aa-c70e119081a2",
   "metadata": {},
   "outputs": [],
   "source": [
    "d = {'col1': [1, 2], 'col2': [3, 4]}\n",
    "df = pd.DataFrame(data=d)\n",
    "\n",
    "datagrid = DataGrid(\n",
    "    df, base_row_size=32, base_column_size=150, renderers=renderers\n",
    ")"
   ]
  }
 ],
 "metadata": {
  "kernelspec": {
   "display_name": "Python 3 (ipykernel)",
   "language": "python",
   "name": "python3"
  },
  "language_info": {
   "codemirror_mode": {
    "name": "ipython",
    "version": 3
   },
   "file_extension": ".py",
   "mimetype": "text/x-python",
   "name": "python",
   "nbconvert_exporter": "python",
   "pygments_lexer": "ipython3",
   "version": "3.8.16"
  }
 },
 "nbformat": 4,
 "nbformat_minor": 5
}

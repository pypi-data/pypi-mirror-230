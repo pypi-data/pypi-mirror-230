{
 "cells": [
  {
   "cell_type": "code",
   "execution_count": 1,
   "id": "0d8603a7-5f1d-4149-afae-6ca6873f8d40",
   "metadata": {},
   "outputs": [],
   "source": [
    "%load_ext autoreload\n",
    "%autoreload 2\n",
    "%matplotlib inline\n",
    "\n",
    "import gc\n",
    "import os\n",
    "import glob\n",
    "import fitsio"
   ]
  },
  {
   "cell_type": "code",
   "execution_count": 4,
   "id": "4cfa695e-5238-49cb-ad67-2e234bb90116",
   "metadata": {},
   "outputs": [
    {
     "name": "stdout",
     "output_type": "stream",
     "text": [
      "0\n",
      "1\n",
      "2\n",
      "3\n",
      "4\n",
      "5\n",
      "6\n"
     ]
    }
   ],
   "source": [
    "shear_value = 0.02\n",
    "ntry = 7\n",
    "outcomes = np.zeros((ntry, 4))\n",
    "for itry in range(ntry):\n",
    "    fnames = glob.glob('./summary1_output%d/*.fits' %itry)\n",
    "    nsims = len(fnames)\n",
    "    print(itry, nsim)\n",
    "    out = np.zeros((nsims, 4))\n",
    "    for ii,ff in enumerate(fnames):\n",
    "        out[ii] = fitsio.read(ff)[0:4,0]\n",
    "    res = np.average(out, axis=0)\n",
    "    err = np.std(out, axis=0)\n",
    "    outcomes[itry, 0] = (res[1] / res[3] / 2.0 - shear_value) / shear_value\n",
    "    outcomes[itry, 1] = (err[1] / res[3] / 2.0) / shear_value / np.sqrt(nsims)\n",
    "    outcomes[itry, 2] = res[2] / res[3]\n",
    "    outcomes[itry, 3] = err[2] / res[3] / np.sqrt(nsims)\n",
    "    del out, res, err, fnames, nsim\n",
    "    gc.collect()\n",
    "fitsio.write('output_mag_cut.fits', outcomes)"
   ]
  },
  {
   "cell_type": "code",
   "execution_count": 5,
   "id": "11513c21-7136-453c-870b-08fec1b55a3f",
   "metadata": {},
   "outputs": [
    {
     "name": "stdout",
     "output_type": "stream",
     "text": [
      "0 10000\n",
      "1 10000\n",
      "2 10000\n",
      "3 10000\n",
      "4 10000\n",
      "5 10000\n",
      "6 10000\n"
     ]
    }
   ],
   "source": [
    "shear_value = 0.02\n",
    "ntry = 7\n",
    "outcomes = np.zeros((ntry, 4))\n",
    "for itry in range(ntry):\n",
    "    fnames = glob.glob('./summary2_output%d/*.fits' %itry)\n",
    "    nsims = len(fnames)\n",
    "    print(itry, nsims)\n",
    "    out = np.zeros((nsims, 4))\n",
    "    for ii,ff in enumerate(fnames):\n",
    "        out[ii] = fitsio.read(ff)[0:4,0]\n",
    "    res = np.average(out, axis=0)\n",
    "    err = np.std(out, axis=0)\n",
    "    outcomes[itry, 0] = (res[1] / res[3] / 2.0 - shear_value) / shear_value\n",
    "    outcomes[itry, 1] = (err[1] / res[3] / 2.0) / shear_value / np.sqrt(nsims)\n",
    "    outcomes[itry, 2] = res[2] / res[3]\n",
    "    outcomes[itry, 3] = err[2] / res[3] / np.sqrt(nsims)\n",
    "    del out, res, err, fnames, nsims\n",
    "    gc.collect()"
   ]
  },
  {
   "cell_type": "code",
   "execution_count": 7,
   "id": "f58f3575-dc99-4352-8681-9ba5609b7217",
   "metadata": {},
   "outputs": [],
   "source": [
    "ntry = 8\n",
    "outcomes2 = np.zeros((ntry, 4))\n",
    "for itry in range(7):\n",
    "    outcomes2[itry,:] = outcomes[itry,:]"
   ]
  },
  {
   "cell_type": "code",
   "execution_count": 8,
   "id": "00d6f84e-af42-46dc-a2b4-2554bb95ae25",
   "metadata": {},
   "outputs": [
    {
     "name": "stdout",
     "output_type": "stream",
     "text": [
      "7 10000\n"
     ]
    }
   ],
   "source": [
    "for itry in range(7,8):\n",
    "    fnames = glob.glob('./summary2_output%d/*.fits' %itry)\n",
    "    nsims = len(fnames)\n",
    "    print(itry, nsims)\n",
    "    out = np.zeros((nsims, 4))\n",
    "    for ii,ff in enumerate(fnames):\n",
    "        out[ii] = fitsio.read(ff)[0:4,0]\n",
    "    res = np.average(out, axis=0)\n",
    "    err = np.std(out, axis=0)\n",
    "    outcomes2[itry, 0] = (res[1] / res[3] / 2.0 - shear_value) / shear_value\n",
    "    outcomes2[itry, 1] = (err[1] / res[3] / 2.0) / shear_value / np.sqrt(nsims)\n",
    "    outcomes2[itry, 2] = res[2] / res[3]\n",
    "    outcomes2[itry, 3] = err[2] / res[3] / np.sqrt(nsims)\n",
    "    del out, res, err, fnames, nsims\n",
    "    gc.collect()"
   ]
  },
  {
   "cell_type": "code",
   "execution_count": null,
   "id": "08e8dbdd-7de6-4a82-b83f-6222346316fc",
   "metadata": {},
   "outputs": [],
   "source": []
  },
  {
   "cell_type": "code",
   "execution_count": null,
   "id": "5883d108-547b-4a2c-bd11-fe82d4b77c39",
   "metadata": {},
   "outputs": [],
   "source": [
    "fitsio.write('output_r2_cut.fits', outcomes)"
   ]
  },
  {
   "cell_type": "code",
   "execution_count": 9,
   "id": "4760e4bd-0822-4fda-8d6f-c86f4cc8ef08",
   "metadata": {},
   "outputs": [
    {
     "data": {
      "text/plain": [
       "array([[-5.84265828e-03,  1.15771408e-03,  6.56406893e-05,\n",
       "         1.35231538e-05],\n",
       "       [-3.88996465e-03,  1.18613075e-03,  5.49745061e-05,\n",
       "         1.45997540e-05],\n",
       "       [-2.82881275e-03,  1.29984259e-03,  2.56061994e-05,\n",
       "         1.76865120e-05],\n",
       "       [-4.69069592e-03,  1.51679711e-03,  4.83304724e-05,\n",
       "         2.37514219e-05],\n",
       "       [-6.76110615e-03,  1.78685357e-03,  4.19229442e-05,\n",
       "         2.99105469e-05],\n",
       "       [-2.70342178e-03,  2.08319304e-03,  4.78082052e-05,\n",
       "         3.62140520e-05],\n",
       "       [-1.06388567e-02,  2.49856875e-03, -5.20714329e-06,\n",
       "         4.34186693e-05],\n",
       "       [ 1.32412431e-03,  3.10657730e-03,  2.93028876e-05,\n",
       "         5.66089298e-05]])"
      ]
     },
     "execution_count": 9,
     "metadata": {},
     "output_type": "execute_result"
    }
   ],
   "source": [
    "outcomes2"
   ]
  },
  {
   "cell_type": "code",
   "execution_count": 41,
   "id": "a4959c0d-1e14-408d-957d-d023a64ece9f",
   "metadata": {},
   "outputs": [
    {
     "name": "stdout",
     "output_type": "stream",
     "text": [
      "-0.005375592803277818\n",
      "0.0012288299745617912\n",
      "5.974619693628358e-05\n",
      "1.5025709055652345e-05\n"
     ]
    }
   ],
   "source": [
    "shear_value = 0.02\n",
    "gc.collect()\n",
    "fnames = glob.glob('./summary3_output4/*.fits')\n",
    "nsims = len(fnames)\n",
    "out = np.zeros((nsims, 4))\n",
    "for ii,ff in enumerate(fnames):\n",
    "    out[ii] = fitsio.read(ff)[0:4,0]\n",
    "res = np.average(out, axis=0)\n",
    "err = np.std(out, axis=0)\n",
    "print((res[1] / res[3] / 2.0 - shear_value) / shear_value)\n",
    "print((err[1] / res[3] / 2.0) / shear_value / np.sqrt(nsims))\n",
    "print(res[2] / res[3])\n",
    "print(err[2] / res[3] / np.sqrt(nsims))"
   ]
  },
  {
   "cell_type": "code",
   "execution_count": 66,
   "id": "98c0e238-bea0-4812-836c-8da1891ae192",
   "metadata": {},
   "outputs": [
    {
     "data": {
      "text/plain": [
       "0"
      ]
     },
     "execution_count": 66,
     "metadata": {},
     "output_type": "execute_result"
    }
   ],
   "source": [
    "del out, res, err, fnames, nsims\n",
    "gc.collect()"
   ]
  },
  {
   "cell_type": "code",
   "execution_count": null,
   "id": "cecf6795-b2d3-425f-abbe-69a7bab827c5",
   "metadata": {},
   "outputs": [],
   "source": []
  }
 ],
 "metadata": {
  "kernelspec": {
   "display_name": "Python 3 (ipykernel)",
   "language": "python",
   "name": "python3"
  },
  "language_info": {
   "codemirror_mode": {
    "name": "ipython",
    "version": 3
   },
   "file_extension": ".py",
   "mimetype": "text/x-python",
   "name": "python",
   "nbconvert_exporter": "python",
   "pygments_lexer": "ipython3",
   "version": "3.8.15"
  }
 },
 "nbformat": 4,
 "nbformat_minor": 5
}

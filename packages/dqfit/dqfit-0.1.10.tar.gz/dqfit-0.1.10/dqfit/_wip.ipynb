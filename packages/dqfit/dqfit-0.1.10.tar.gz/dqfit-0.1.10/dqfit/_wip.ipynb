{
 "cells": [
  {
   "cell_type": "code",
   "execution_count": null,
   "metadata": {},
   "outputs": [],
   "source": [
    "import pandas as pd\n",
    "import dqfit as dq\n",
    "\n",
    "fhir_resources: list = dq.read_fhir(dq.fhir_base + \"/bundle_1\")\n",
    "patient = fhir_resources[0]\n",
    "\n",
    "import json\n",
    "\n",
    "def parse_json(json_data, key=''):\n",
    "    \"\"\"\n",
    "    This function parses the json_data according to a given key\n",
    "    Args:\n",
    "    json_data: dict, JSON data\n",
    "    key: str, concatenated path of keys\n",
    "    Returns:\n",
    "    result: list of tuples, where each tuple contains the path and the value at that path\n",
    "    \"\"\"\n",
    "    result = []\n",
    "    # json_data = json.loads(json_data) if isinstance(json_data, str) else json_data\n",
    "\n",
    "    if isinstance(json_data, dict):\n",
    "        for k, v in json_data.items():\n",
    "            if key == '':\n",
    "                new_key = k\n",
    "            else:\n",
    "                new_key = key + '.' + k\n",
    "            result.extend(parse_json(v, new_key))\n",
    "    elif isinstance(json_data, list):\n",
    "        for i, v in enumerate(json_data):\n",
    "            new_key = key #+ '[' + str(i) + ']'\n",
    "            result.extend(parse_json(v, new_key))\n",
    "    else:\n",
    "        result.append((key, json_data))\n",
    "\n",
    "    return result\n",
    "\n",
    "fhir_paths = parse_json(patient)\n",
    "\n",
    "df = pd.DataFrame(fhir_paths, columns=['path','value'])\n",
    "df"
   ]
  }
 ],
 "metadata": {
  "language_info": {
   "name": "python"
  },
  "orig_nbformat": 4
 },
 "nbformat": 4,
 "nbformat_minor": 2
}

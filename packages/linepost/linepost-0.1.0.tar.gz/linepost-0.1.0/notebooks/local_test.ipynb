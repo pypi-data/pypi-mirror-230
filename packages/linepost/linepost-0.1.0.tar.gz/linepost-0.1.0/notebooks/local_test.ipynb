{
 "cells": [
  {
   "cell_type": "markdown",
   "id": "thorough-cheese",
   "metadata": {},
   "source": [
    "# Test Local Changes\n",
    "\n",
    "This notebook copies the local version of `linepost` to a local `test_linepost` package and imports it, allowing the testing of changes before publishing the package."
   ]
  },
  {
   "cell_type": "code",
   "execution_count": null,
   "id": "raised-solution",
   "metadata": {},
   "outputs": [],
   "source": [
    "import os\n",
    "import shutil\n",
    "import sys\n",
    "\n",
    "# Add our utilities to the path.\n",
    "sys.path.insert(0, os.path.abspath('./util'))\n",
    "\n",
    "# Bring in the copy util to clone the local linepost package\n",
    "from util.copy import copy_package\n",
    "os.makedirs('./test_linepost')\n",
    "copy_package('../src/linepost', './test_linepost')\n",
    "\n",
    "# Add local linepost package.\n",
    "sys.path.insert(0, os.path.abspath('./test_linepost'))"
   ]
  },
  {
   "cell_type": "code",
   "execution_count": null,
   "id": "hazardous-whale",
   "metadata": {},
   "outputs": [],
   "source": [
    "from test_linepost.repertoire import Repertoire\n",
    "\n",
    "data_prefix = '../data'\n",
    "filenames = ['example_lasker']\n",
    "\n",
    "# Name the file you wish to load.\n",
    "rep = None\n",
    "for filename in filenames:\n",
    "    rep = Repertoire.from_file(f'{data_prefix}/{filename}', rep)"
   ]
  },
  {
   "cell_type": "code",
   "execution_count": null,
   "id": "swedish-christmas",
   "metadata": {},
   "outputs": [],
   "source": [
    "rep.visualize()"
   ]
  },
  {
   "cell_type": "markdown",
   "id": "informed-quest",
   "metadata": {},
   "source": [
    "## Cleanup\n",
    "\n",
    "Run this cell when you are finished testing."
   ]
  },
  {
   "cell_type": "code",
   "execution_count": null,
   "id": "swedish-crown",
   "metadata": {},
   "outputs": [],
   "source": [
    "shutil.rmtree('./test_linepost')"
   ]
  }
 ],
 "metadata": {
  "kernelspec": {
   "display_name": "Python 3",
   "language": "python",
   "name": "python3"
  },
  "language_info": {
   "codemirror_mode": {
    "name": "ipython",
    "version": 3
   },
   "file_extension": ".py",
   "mimetype": "text/x-python",
   "name": "python",
   "nbconvert_exporter": "python",
   "pygments_lexer": "ipython3",
   "version": "3.9.2"
  }
 },
 "nbformat": 4,
 "nbformat_minor": 5
}

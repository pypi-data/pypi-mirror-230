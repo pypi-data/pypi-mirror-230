{
 "cells": [
  {
   "cell_type": "code",
   "execution_count": null,
   "metadata": {},
   "outputs": [],
   "source": [
    "try:\n",
    "    get_ipython\n",
    "    isnotebook = True\n",
    "except:\n",
    "    isnotebook = False\n",
    "\n",
    "import os\n",
    "import sys\n",
    "import numpy as np\n",
    "import scipy as sp\n",
    "import matplotlib\n",
    "if not isnotebook:\n",
    "    matplotlib.use('Agg')\n",
    "import matplotlib.pyplot as plt\n",
    "from qutip import *"
   ]
  },
  {
   "cell_type": "code",
   "execution_count": null,
   "metadata": {},
   "outputs": [],
   "source": [
    "import qocttools\n",
    "import qocttools.models.GdW30 as GdW30\n",
    "import qocttools.hamiltonians as hamiltonians\n",
    "import qocttools.math_extra as math_extra\n",
    "import qocttools.pulses as pulses\n",
    "import qocttools.qoct as qoct\n",
    "import qocttools.solvers as solvers"
   ]
  },
  {
   "cell_type": "code",
   "execution_count": null,
   "metadata": {},
   "outputs": [],
   "source": [
    "qocttools.about()"
   ]
  },
  {
   "cell_type": "code",
   "execution_count": null,
   "metadata": {},
   "outputs": [],
   "source": [
    "data = []"
   ]
  },
  {
   "cell_type": "markdown",
   "metadata": {},
   "source": [
    "# Introduction"
   ]
  },
  {
   "cell_type": "markdown",
   "metadata": {},
   "source": [
    "In this notebook, we show some examples of state-to-state transitions driven by $\\pi$-pulses. The goal is to show how this method to achieve state-to-state transitions requires low pulse amplitudes, or else the quality of the transition fidelity is reduced. Therefore, the transition times must also be long, since they are inversely proportional to the pulse amplitudes."
   ]
  },
  {
   "cell_type": "markdown",
   "metadata": {},
   "source": [
    "The use of complex pulses found with optimal control theory permit, in theory, to accelerate the pulses: use shorter pulses that however have good fidelity. However, it is important to know the range of amplitudes that we can play with: the value, in Teslas, of the time-dependent magnetic field that is applied through the transmission lines. In the following, we have assumed maximum values of 1 mT."
   ]
  },
  {
   "cell_type": "markdown",
   "metadata": {},
   "source": [
    "# Model"
   ]
  },
  {
   "cell_type": "markdown",
   "metadata": {},
   "source": [
    "The model is defined by the Hamiltonian:\n",
    "\n",
    "\\begin{equation}\n",
    "        \\hat{H}(t) = \\hat{H}_0 + f(t)\\hat{V}\n",
    "\\end{equation}\n",
    "where the time-independent part is given by:\n",
    "\\begin{equation}\n",
    "        \\hat{H}_0 = D\\bigg[\\hat{S}_z^2 - \\frac{1}{3}S(S + 1)\\bigg] + E[\\hat{S}_x^2 - \\hat{S}_y^2] - g\\mu_B\\hat{\\vec{S}}\\cdot\\vec{H}\n",
    "\\end{equation}\n",
    "and the time-dependent part is:\n",
    "\\begin{equation}\n",
    "        \\hat{H}(t) = \\hat{H}_0 + f(t)\\hat{V}\n",
    "\\end{equation}\n",
    "The perturbation is a magnetic field:\n",
    "\\begin{equation}\n",
    "        \\hat{V} = -g\\mu_B\\hat{\\vec{S}}\\cdot\\vec{H}_m \n",
    "\\end{equation}"
   ]
  },
  {
   "cell_type": "markdown",
   "metadata": {},
   "source": [
    "In this case:\n",
    "\n",
    "* $S = 7/2$\n",
    "\n",
    "* $D$ = 1281 MHz\n",
    "\n",
    "* $E$ = 294 MHz\n",
    "\n",
    "* $\\vec{H} = (0.15, 0.0, 0.0)$ T\n",
    "\n",
    "* $\\vec{H}_m = (0, 0.001, 0.0)$ T"
   ]
  },
  {
   "cell_type": "markdown",
   "metadata": {},
   "source": [
    "We consider the basis of eigenstates of $\\hat{H}_0$:\n",
    "\\begin{equation}\n",
    "\\hat{H}_0\\vert\\psi_i\\rangle = \\varepsilon_i \\vert\\psi_i\\rangle\n",
    "\\end{equation}\n",
    "The characteristic frequencies are the energy differences:\n",
    "\\begin{equation}\n",
    "\\omega_i = \\varepsilon_{i+1}-\\varepsilon_{i}.\n",
    "\\end{equation}\n",
    "(we only consider the frequencies between neighbour energies).\n",
    "\n",
    "We will also need the coupling between the neighbour eigenstates:\n",
    "\\begin{equation}\n",
    "\\mu_{i,i+1} = \\langle\\psi_i\\vert\\hat{V}\\vert\\psi_{i+1}\\rangle\\,.\n",
    "\\end{equation}"
   ]
  },
  {
   "cell_type": "markdown",
   "metadata": {},
   "source": [
    "The following describes the use of $\\pi$-pulses sequences to drive the\n",
    "same GdW$_{30}$ system described in the previous reports from the\n",
    "ground state $\\vert 0\\rangle$ to both the linear combinations\n",
    "$\\frac{1}{\\sqrt{2}}(\\vert 0 \\rangle + \\vert 2 \\rangle)$ and\n",
    "$\\frac{1}{\\sqrt{2}}(\\vert 0 \\rangle + \\vert 7 \\rangle)$.  The system\n",
    "description and parameters are therefore the same as in the previous\n",
    "cases.  The idea now is to apply a $\\pi/2$ pulse with $\\omega_1$\n",
    "frequency to build first a linear combination\n",
    "$\\frac{1}{\\sqrt{2}}(\\vert 0 \\rangle + \\vert 1 \\rangle)$, and then\n",
    "either (1) one $\\pi$-pulse with frequency $\\omega_2$ to drive then the\n",
    "system to the $\\frac{1}{\\sqrt{2}}(\\vert 0 \\rangle + \\vert 2 \\rangle)$,\n",
    "or (2) a succession of $\\pi$-pulses with frequencies\n",
    "$\\omega_2,\\dots,\\omega_7$ to consecutively populate each state of the\n",
    "system, and finally take the system to the $\\frac{1}{\\sqrt{2}}(\\vert 0\n",
    "\\rangle + \\vert 7 \\rangle)$ state."
   ]
  },
  {
   "cell_type": "markdown",
   "metadata": {},
   "source": [
    "Since we do not have two-level systems, but there are eight levels\n",
    "present, the $\\pi$-pulses do not create exact transitions, but there\n",
    "is always some contamination with other levels, that can be avoided if\n",
    "there are no resonances, and the interaction is weak. Therefore, I\n",
    "have searched for the regime of intensities of the td microwave pulse\n",
    "that can be used, so that we get an idea of the time scales."
   ]
  },
  {
   "cell_type": "code",
   "execution_count": null,
   "metadata": {},
   "outputs": [],
   "source": [
    "# Parameters definition\n",
    "S = 7/2 # spin\n",
    "E = 294 # value in MHz\n",
    "D = 1281 # value in MHz\n",
    "dim = int(2*S + 1) #matrix dim\n",
    "\n",
    "n = 7 # max level of the final state"
   ]
  },
  {
   "cell_type": "code",
   "execution_count": null,
   "metadata": {},
   "outputs": [],
   "source": [
    "H = np.array([0.15, 0, 0.0], dtype = float) #magnetic field in T\n",
    "H_m = np.array([0, 0.001, 0], dtype = float) #only in presence of perturbation (T)\n",
    "H0 = GdW30.hGdW30(D, E, H)\n",
    "V = GdW30.vGdW30(H_m)\n",
    "eigenvalues, eigenstates = H0.eigenstates()\n",
    "H0 = H0.transform(eigenstates)\n",
    "V = V.transform(eigenstates)"
   ]
  },
  {
   "cell_type": "markdown",
   "metadata": {},
   "source": [
    "# $\\pi$-pulses"
   ]
  },
  {
   "cell_type": "markdown",
   "metadata": {},
   "source": [
    "We define the following \"simple\" $\\pi$-pulses:\n",
    "\\begin{equation}\n",
    "g_{[i,i+1,t_0,\\pi]}(t) = \n",
    "\\begin{cases}\n",
    "A \\sin(\\omega_{i,i+1}t) & t_0 \\le t \\le t_f = t_0 + \\frac{\\pi}{A\\vert\\mu_{i,i+1}\\vert}\n",
    "\\\\\n",
    "0 & \\textrm{otherwise}\n",
    "\\end{cases}\n",
    "\\end{equation}\n",
    "If the system is at $\\psi_i$ at time $t_0$, then this pulse produces an \\emph{approximate} transition\n",
    "to state $\\psi_{i+1}$. It will become an almost exact transition in the limit in which $A$ approaches\n",
    "zero (as long as there are no degenerate resonances). The time $t_0$ i the starting time of the pulse, whereas the time $t_f$ is the end point. The duration is inversely proportional to the amplitude.\n",
    "\n",
    "We also consider $\\pi/2$-pulses $g_{[i,i+1,t_0,\\pi/2]}$, that produce approximate transitions from $\\psi_i$ to $\\frac{1}{\\sqrt{2}}(\\psi_i+\\psi_{i+1})$. They are equal, except they have half the duration."
   ]
  },
  {
   "cell_type": "markdown",
   "metadata": {},
   "source": [
    "For example, for the transition $\\psi_0 \\to \\frac{1}{\\sqrt{2}}(\\psi_0 + \\psi_7)$, we build a sequence of $\\pi$-pulses that take the system from state to state (since the direct coupling is zero):\n",
    "\\begin{eqnarray}\n",
    "\\nonumber 0 &:&  g_{[0,1,t_0^0=0,\\pi/2]}\n",
    "\\\\\n",
    "\\nonumber 1 &:&  g_{[1,2,t_0^1 = t_f^0,\\pi]}\n",
    "\\\\\n",
    "\\nonumber 2 &:&  g_{[2,3,t_0^2 = t_f^1,\\pi]}\n",
    "\\\\\n",
    "\\nonumber 3 &:&  g_{[3,4,t_0^3 = t_f^2,\\pi]}\n",
    "\\\\\n",
    "\\nonumber 4 &:&  g_{[4,5,t_0^4 = t_f^3,\\pi]}\n",
    "\\\\\n",
    "\\nonumber 5 &:&  g_{[5,6,t_0^5 = t_f^4,\\pi]}\n",
    "\\\\\n",
    "\\nonumber 6 &:&  g_{[6,7,t_0^6 = t_f^5,\\pi]}\n",
    "\\end{eqnarray}\n",
    "The times $t_0^i,t_f^i$ are the initial and final times of the $i$-th pulse. In words, a $\\pi/2$ pulse that takes the system from $\\psi_0$ to $\\frac{1}{\\sqrt{2}}(\\psi_0+\\psi_1)$, then a $\\pi$ pulse that takes the pulse from $\\frac{1}{\\sqrt{2}}(\\psi_0+\\psi_1)$ to $\\frac{1}{\\sqrt{2}}(\\psi_0+\\psi_2)$, $\\dots$, and finally a $\\pi$ pulse that takes the pulse from $\\frac{1}{\\sqrt{2}}(\\psi_0+\\psi_6)$ to $\\frac{1}{\\sqrt{2}}(\\psi_0+\\psi_7)$.\n",
    "\n",
    "For the transition $\\psi_0 \\to \\frac{1}{\\sqrt{2}}(\\psi_0 + \\psi_2)$, we only need two pulses instead of seven."
   ]
  },
  {
   "cell_type": "code",
   "execution_count": null,
   "metadata": {},
   "outputs": [],
   "source": [
    "w = []\n",
    "for i in range(int(dim - 1)):\n",
    "    w.append(eigenvalues[i+1] - eigenvalues[i]) #in MHz\n",
    "\n",
    "# We will define a \"characteristic period\" of the field-free Hamiltonian\n",
    "# as the period corresponding to the maximum frequency. Note that we are\n",
    "# considering only the \"neighbour energies\" to define the frequencies.\n",
    "tau0 = (2*np.pi/np.max(np.array(w)))"
   ]
  },
  {
   "cell_type": "markdown",
   "metadata": {},
   "source": [
    "## Large amplitude, fast process, low fidelity"
   ]
  },
  {
   "cell_type": "markdown",
   "metadata": {},
   "source": [
    "First, we will consider an amplitude $A$ of 1 mT. The results can be seen in the following figure: it can be seen how the transition from state to state is not perfect, and as a consequence the population of $\\psi_7$ at the end of the process is very low."
   ]
  },
  {
   "cell_type": "code",
   "execution_count": null,
   "metadata": {},
   "outputs": [],
   "source": [
    "A = 1.0\n",
    "n = 7"
   ]
  },
  {
   "cell_type": "code",
   "execution_count": null,
   "metadata": {},
   "outputs": [],
   "source": [
    "pi_pulse_duration = []\n",
    "for i in range(dim - 1):\n",
    "    pi_pulse_duration.append(np.pi/(A*abs(V.data[i, i+1])))\n",
    "\n",
    "u = np.zeros(2+2*n)\n",
    "u[0] = A\n",
    "u[1] = n\n",
    "for i in range(n):\n",
    "    u[2+i] = w[i]\n",
    "    u[2+n+i] = pi_pulse_duration[i]\n",
    "u[2+n] = u[2+n]/2.0"
   ]
  },
  {
   "cell_type": "code",
   "execution_count": null,
   "metadata": {},
   "outputs": [],
   "source": [
    "max_time = 0\n",
    "for i in range(n):\n",
    "    max_time += u[2+n+i]"
   ]
  },
  {
   "cell_type": "code",
   "execution_count": null,
   "metadata": {},
   "outputs": [],
   "source": [
    "f = pulses.pulse('user_defined', max_time, u = u)\n",
    "f.assign_user_defined_function(pulses.pi_pulse_chain, None)"
   ]
  },
  {
   "cell_type": "code",
   "execution_count": null,
   "metadata": {},
   "outputs": [],
   "source": [
    "# We will define the time step by considering the characteristic period.\n",
    "nperiods = max_time / tau0\n",
    "ntimestepsperperiod = 2\n",
    "dt = max_time / (int(nperiods)*ntimestepsperperiod)\n",
    "time = np.linspace(0.0, max_time, int(nperiods*ntimestepsperperiod))"
   ]
  },
  {
   "cell_type": "code",
   "execution_count": null,
   "metadata": {},
   "outputs": [],
   "source": [
    "# Initial condition (starting from the ground state)\n",
    "psi0 = basis(dim, 0) #initial state"
   ]
  },
  {
   "cell_type": "code",
   "execution_count": null,
   "metadata": {},
   "outputs": [],
   "source": [
    "result = solvers.solve('sesolve', hamiltonians.hamiltonian(H0, V), f, psi0, time,\n",
    "                       returnQoutput = True)"
   ]
  },
  {
   "cell_type": "code",
   "execution_count": null,
   "metadata": {},
   "outputs": [],
   "source": [
    "x = np.zeros((time.size,n + 2))\n",
    "x[:, 0] = np.array(time)\n",
    "for i in range(time.size): #lopp over each time value\n",
    "    for j in range(n + 1): #loop over each energy level\n",
    "        x[i, j + 1] = abs(result.states[i].data[j, 0])**2\n",
    "\n",
    "plt.xlabel(\"time(us)\")\n",
    "plt.ylabel(\"ocupation\")\n",
    "plt.title(\"|0> to 0.707*(|0> + |{}>) transition with pulsos-pi\".format(n))\n",
    "plt.xlim(0, max_time/(2.0*np.pi))\n",
    "plt.ylim(0,1)\n",
    "plt.grid(\"best\")\n",
    "for i in range(n + 1):\n",
    "    plt.plot(x[:, 0]/(2.0*np.pi), x[:, i + 1], label = \"|{}>\".format(i))\n",
    "plt.legend(loc='upper center', ncol=2, fancybox=True, shadow=True)\n",
    "if isnotebook:\n",
    "    plt.show()"
   ]
  },
  {
   "cell_type": "code",
   "execution_count": null,
   "metadata": {},
   "outputs": [],
   "source": [
    "data.append(x[-1, -1])"
   ]
  },
  {
   "cell_type": "markdown",
   "metadata": {},
   "source": [
    "## Smaller amplitude, slower process, high fidelity"
   ]
  },
  {
   "cell_type": "markdown",
   "metadata": {},
   "source": [
    "Then, an amplitude of 0.1 mT. In this case, the result is almost perfect. The process must be slow (since the $\\pi$-pulse duration is inversely proportional to the amplitude), but each transition leads the system to the proper states, and finally the population of both the $\\psi_0$ and the $\\psi_7$ state is almost 1/2."
   ]
  },
  {
   "cell_type": "code",
   "execution_count": null,
   "metadata": {},
   "outputs": [],
   "source": [
    "A = 0.1"
   ]
  },
  {
   "cell_type": "code",
   "execution_count": null,
   "metadata": {},
   "outputs": [],
   "source": [
    "pi_pulse_duration = []\n",
    "for i in range(dim - 1):\n",
    "    pi_pulse_duration.append(np.pi/(A*abs(V.data[i, i+1])))\n",
    "\n",
    "u = np.zeros(2+2*n)\n",
    "u[0] = A\n",
    "u[1] = n\n",
    "for i in range(n):\n",
    "    u[2+i] = w[i]\n",
    "    u[2+n+i] = pi_pulse_duration[i]\n",
    "u[2+n] = u[2+n]/2.0\n",
    "f.set_parameters(u)"
   ]
  },
  {
   "cell_type": "code",
   "execution_count": null,
   "metadata": {},
   "outputs": [],
   "source": [
    "max_time = 0\n",
    "for i in range(n):\n",
    "    max_time += u[2+n+i]"
   ]
  },
  {
   "cell_type": "code",
   "execution_count": null,
   "metadata": {},
   "outputs": [],
   "source": [
    "# We will define the time step by considering the characteristic period.\n",
    "nperiods = max_time / tau0\n",
    "ntimestepsperperiod = 2\n",
    "dt = max_time / (int(nperiods)*ntimestepsperperiod)\n",
    "time = np.linspace(0.0, max_time, int(nperiods*ntimestepsperperiod))"
   ]
  },
  {
   "cell_type": "code",
   "execution_count": null,
   "metadata": {},
   "outputs": [],
   "source": [
    "psi0 = basis(dim, 0) #initial state"
   ]
  },
  {
   "cell_type": "code",
   "execution_count": null,
   "metadata": {},
   "outputs": [],
   "source": [
    "result = solvers.solve('sesolve', hamiltonians.hamiltonian(H0, V), f, psi0, time,\n",
    "                       returnQoutput = True)"
   ]
  },
  {
   "cell_type": "code",
   "execution_count": null,
   "metadata": {},
   "outputs": [],
   "source": [
    "x = np.zeros((time.size,n + 2))\n",
    "x[:, 0] = np.array(time)\n",
    "for i in range(time.size): #lopp over each time value\n",
    "    for j in range(n + 1): #loop over each energy level\n",
    "        x[i, j + 1] = abs(result.states[i].data[j, 0])**2\n",
    "\n",
    "plt.xlabel(\"time(us)\")\n",
    "plt.ylabel(\"ocupation\")\n",
    "plt.title(\"|0> to 0.707*(|0> + |{}>) transition with pulsos-pi\".format(n))\n",
    "plt.xlim(0, max_time/(2.0*np.pi))\n",
    "plt.ylim(0,1)\n",
    "plt.grid(\"best\")\n",
    "for i in range(n + 1):\n",
    "    plt.plot(x[:, 0]/(2.0*np.pi), x[:, i + 1], label = \"|{}>\".format(i))\n",
    "plt.legend(loc='upper center', ncol=2, fancybox=True, shadow=True)\n",
    "if isnotebook:\n",
    "    plt.show()"
   ]
  },
  {
   "cell_type": "code",
   "execution_count": null,
   "metadata": {},
   "outputs": [],
   "source": [
    "data.append(x[-1, -1])"
   ]
  },
  {
   "cell_type": "code",
   "execution_count": null,
   "metadata": {},
   "outputs": [],
   "source": [
    "with open(\"data\", \"w\") as f:\n",
    "    for i in data:\n",
    "        f.write(\"{:.14e}\\n\".format(i))"
   ]
  },
  {
   "cell_type": "markdown",
   "metadata": {},
   "source": [
    "# Conclusions "
   ]
  },
  {
   "cell_type": "markdown",
   "metadata": {},
   "source": [
    "These calculations give us an idea of the times needed to produce state-to-state\n",
    "transitions with $\\pi$-pulses, which are probably not too different to the times\n",
    "needed to produce gates.\n",
    "\n",
    "These times must be compared with the decoherence times of the system."
   ]
  }
 ],
 "metadata": {
  "kernelspec": {
   "display_name": "Python 3",
   "language": "python",
   "name": "python3"
  },
  "language_info": {
   "codemirror_mode": {
    "name": "ipython",
    "version": 3
   },
   "file_extension": ".py",
   "mimetype": "text/x-python",
   "name": "python",
   "nbconvert_exporter": "python",
   "pygments_lexer": "ipython3"
  },
  "latex_metadata": {
   "affiliation": " ",
   "author": " ",
   "title": "pi-pulses for state-to-state transitions on the GdW30 model"
  }
 },
 "nbformat": 4,
 "nbformat_minor": 2
}

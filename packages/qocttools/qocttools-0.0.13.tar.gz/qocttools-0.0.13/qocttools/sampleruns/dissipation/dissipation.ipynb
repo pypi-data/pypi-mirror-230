{
 "cells": [
  {
   "cell_type": "markdown",
   "metadata": {},
   "source": [
    "# Rabi cycles in the GdW$_{30}$ model system with and without dissipation"
   ]
  },
  {
   "cell_type": "code",
   "execution_count": null,
   "metadata": {},
   "outputs": [],
   "source": [
    "try:\n",
    "    get_ipython\n",
    "    isnotebook = True\n",
    "except:\n",
    "    isnotebook = False\n",
    "\n",
    "import os\n",
    "import sys\n",
    "import numpy as np\n",
    "import scipy as sp\n",
    "import matplotlib\n",
    "if not isnotebook:\n",
    "    matplotlib.use('Agg')\n",
    "import matplotlib.pyplot as plt\n",
    "from qutip import *"
   ]
  },
  {
   "cell_type": "code",
   "execution_count": null,
   "metadata": {},
   "outputs": [],
   "source": [
    "import qocttools\n",
    "import qocttools.models.GdW30 as GdW30\n",
    "import qocttools.hamiltonians as hamiltonians\n",
    "import qocttools.math_extra as math_extra\n",
    "import qocttools.pulses as pulses\n",
    "import qocttools.qoct as qoct\n",
    "import qocttools.solvers as solvers"
   ]
  },
  {
   "cell_type": "code",
   "execution_count": null,
   "metadata": {},
   "outputs": [],
   "source": [
    "qocttools.about()"
   ]
  },
  {
   "cell_type": "code",
   "execution_count": null,
   "metadata": {},
   "outputs": [],
   "source": [
    "data = []"
   ]
  },
  {
   "cell_type": "markdown",
   "metadata": {},
   "source": [
    "# Introduction"
   ]
  },
  {
   "cell_type": "markdown",
   "metadata": {},
   "source": [
    "The purpose of this notebook is to replicate the Rabi-cycle experiments performed on the GdW$_{30}$ system reported in [Jenkins et al., F. Luis, Phys. Rev. B 95, 064423 (2017)]. We show propagations in the presence of a sinusoidal magnetic (microwave) perturbation, with and without dissipation terms, and observe the Rabi cycles."
   ]
  },
  {
   "cell_type": "markdown",
   "metadata": {},
   "source": [
    "# Model"
   ]
  },
  {
   "cell_type": "markdown",
   "metadata": {},
   "source": [
    "The model is defined by the Hamiltonian:\n",
    "\n",
    "\\begin{equation}\n",
    "        \\hat{H}(t) = \\hat{H}_0 + f(t)\\hat{V}\n",
    "\\end{equation}\n",
    "where the time-independent part is given by:\n",
    "\\begin{equation}\n",
    "        \\hat{H}_0 = D\\bigg[\\hat{S}_z^2 - \\frac{1}{3}S(S + 1)\\bigg] + E[\\hat{S}_x^2 - \\hat{S}_y^2] - g\\mu_B\\hat{\\vec{S}}\\cdot\\vec{H}\n",
    "\\end{equation}\n",
    "and the time-dependent part is:\n",
    "\\begin{equation}\n",
    "        \\hat{H}(t) = \\hat{H}_0 + f(t)\\hat{V}\n",
    "\\end{equation}\n",
    "The perturbation is a magnetic field:\n",
    "\\begin{equation}\n",
    "        \\hat{V} = -g\\mu_B\\hat{\\vec{S}}\\cdot\\vec{H}_m \n",
    "\\end{equation}"
   ]
  },
  {
   "cell_type": "markdown",
   "metadata": {},
   "source": [
    "In this case:\n",
    "\n",
    "* $S = 7/2$\n",
    "\n",
    "* $D$ = 1281 MHz\n",
    "\n",
    "* $E$ = 294 MHz\n",
    "\n",
    "* $\\vec{H} = (0.0, 0.0, 0.0615)$ T\n",
    "\n",
    "* $\\vec{H}_m = (0.001, 0.0, 0.0)$ T"
   ]
  },
  {
   "cell_type": "code",
   "execution_count": null,
   "metadata": {},
   "outputs": [],
   "source": [
    "S = 7/2 # spin\n",
    "E = 294 # value in MHz\n",
    "D = 1281 # value in MHz\n",
    "dim = int(2*S + 1) #matrix dim\n",
    "A = 0.163 #perturbation amplitude in mT"
   ]
  },
  {
   "cell_type": "code",
   "execution_count": null,
   "metadata": {},
   "outputs": [],
   "source": [
    "H = np.array([0.0, 0, 0.615], dtype = float) #magnetic field in T\n",
    "H_m = np.array([0.001, 0, 0], dtype = float) #only in presence of perturbation (T)\n",
    "\n",
    "H0 = GdW30.hGdW30(D, E, H)\n",
    "V = GdW30.vGdW30(H_m)\n",
    "\n",
    "Sx = jmat(S, \"x\")\n",
    "Sy = jmat(S, \"y\")\n",
    "Sz = jmat(S, \"z\")\n",
    "Sp = np.sqrt(0.2)*(Sx + (1j*Sy))\n",
    "Sm = np.sqrt(0.2)*(Sx - (1j*Sy))"
   ]
  },
  {
   "cell_type": "code",
   "execution_count": null,
   "metadata": {},
   "outputs": [],
   "source": [
    "# The code will operate in the basis of eigenstates of H0\n",
    "eigenvalues, eigenstates = H0.eigenstates()\n",
    "H_new = H0.transform(eigenstates) - eigenvalues[0]\n",
    "V_new = V.transform(eigenstates)"
   ]
  },
  {
   "cell_type": "code",
   "execution_count": null,
   "metadata": {},
   "outputs": [],
   "source": [
    "w = np.zeros(dim-1)\n",
    "for i in range(dim - 1):\n",
    "    w[i] = eigenvalues[i+1] - eigenvalues[i] #in MHz"
   ]
  },
  {
   "cell_type": "code",
   "execution_count": null,
   "metadata": {},
   "outputs": [],
   "source": [
    "tau = 2.0 * np.pi/w[0]\n",
    "Omega = np.abs(V_new.data[0,1])* 2.0 * A\n",
    "ncycles = 6\n",
    "T = ncycles * np.pi/ Omega"
   ]
  },
  {
   "cell_type": "markdown",
   "metadata": {},
   "source": [
    "# Definition of the pulse"
   ]
  },
  {
   "cell_type": "code",
   "execution_count": null,
   "metadata": {},
   "outputs": [],
   "source": [
    "u = np.array([A, w[0]])\n",
    "def fu(t, u):\n",
    "    return 2*u[0]*np.cos(u[1]*t + np.pi)\n",
    "\n",
    "f = pulses.pulse('user_defined', T, u)\n",
    "f.assign_user_defined_function(fu, None)\n",
    "f.set_parameters(u)"
   ]
  },
  {
   "cell_type": "markdown",
   "metadata": {},
   "source": [
    "# Time array definition"
   ]
  },
  {
   "cell_type": "code",
   "execution_count": null,
   "metadata": {},
   "outputs": [],
   "source": [
    "time = math_extra.timegrid(H0, T, 100)\n",
    "print(\"The total propagation time is\", T)\n",
    "print(\"Delta t = \", (time[1]-time[0])/(2.0*np.pi))\n",
    "print(\"The period tau of the fist excitation is\", tau/(2.0*np.pi))\n",
    "print(\"tau / (Delta t) ) = \", tau / (time[1]-time[0]))\n",
    "print(\"The number of time steps is\", time.size)"
   ]
  },
  {
   "cell_type": "markdown",
   "metadata": {},
   "source": [
    "# Reading experimental data file"
   ]
  },
  {
   "cell_type": "markdown",
   "metadata": {},
   "source": [
    "We have the results from the experiment in this file. It provides <Sy>(t) as a function of time (in ns)."
   ]
  },
  {
   "cell_type": "code",
   "execution_count": null,
   "metadata": {},
   "outputs": [],
   "source": [
    "filename = 'GdW30_Toffoli_Syvstime_15dB.dat'\n",
    "exp_data = np.loadtxt(filename, delimiter=\"\\t\")"
   ]
  },
  {
   "cell_type": "code",
   "execution_count": null,
   "metadata": {},
   "outputs": [],
   "source": [
    "t_exp = exp_data[:, 0]/1000.0\n",
    "data_exp = exp_data[:, 1]"
   ]
  },
  {
   "cell_type": "markdown",
   "metadata": {},
   "source": [
    "# Propagation without dissipation terms"
   ]
  },
  {
   "cell_type": "markdown",
   "metadata": {},
   "source": [
    "The initial state is simply the ground state."
   ]
  },
  {
   "cell_type": "code",
   "execution_count": null,
   "metadata": {},
   "outputs": [],
   "source": [
    "psi0 = basis(dim, 0)"
   ]
  },
  {
   "cell_type": "markdown",
   "metadata": {},
   "source": [
    "We propagate using the qutip propagator."
   ]
  },
  {
   "cell_type": "code",
   "execution_count": null,
   "metadata": {},
   "outputs": [],
   "source": [
    "result = solvers.solve('sesolve', hamiltonians.hamiltonian(H_new, V_new), f, psi0, time)"
   ]
  },
  {
   "cell_type": "markdown",
   "metadata": {},
   "source": [
    "In the experiments, measurements are made in a rotating frame, that rotates around the $z$ axis, with the cavity frequency that is tuned to the first excitation energy. Therefore, the observable that we look at (Sy) must\n",
    "be transformed to this rotating frame:\n",
    "\n",
    "\\begin{equation}\n",
    "S_y^r(t) = e^{i\\omega_0 t S_z} S_y e^{-i\\omega_0 t S_z}\n",
    "\\end{equation}\n",
    "\n",
    "We will compute both $S_y$ and $S_z$ (this last one does not need to be transformed)."
   ]
  },
  {
   "cell_type": "code",
   "execution_count": null,
   "metadata": {},
   "outputs": [],
   "source": [
    "syval = np.zeros(time.size)\n",
    "szval = np.zeros(time.size)\n",
    "for i in range(time.size):\n",
    "    #szval[i] = expect(Sx, result.states[i])\n",
    "    Syt = (1j*time[i]*w[0]*Sz).expm() * Sy * (-1j*time[i]*w[0]*Sz).expm()\n",
    "    syval[i] = expect( Syt, result.states[i] )\n",
    "    szval[i] = expect( Sz, result.states[i] ) - S\n",
    "    #szval[i] = np.vdot(result[i], np.matmul(Sz.full(), result[i]))"
   ]
  },
  {
   "cell_type": "code",
   "execution_count": null,
   "metadata": {},
   "outputs": [],
   "source": [
    "fig, ax = plt.subplots()\n",
    "ax.set_xlabel('time ($\\mu$s)')\n",
    "ax.set_ylabel('<$S_z(t)$>')\n",
    "ax.set_xlim(0, T/(2.0*np.pi))\n",
    "ax.grid()\n",
    "ax.plot(time/(2*np.pi), syval, label = '$S_y$ (simulation)')\n",
    "ax.plot(time/(2*np.pi), szval, label = '$S_z - 7/2$ (simulation)')\n",
    "ax.plot(t_exp, data_exp, label = 'exp. (15dB)')\n",
    "ax.legend(loc = 'upper center')\n",
    "\n",
    "fig.savefig('Sz.pdf', format = 'pdf')\n",
    "if isnotebook:\n",
    "    plt.show()"
   ]
  },
  {
   "cell_type": "markdown",
   "metadata": {},
   "source": [
    "I still do not understand this plot. The frequencies of $S_y$ and $S_z$ seem to be different."
   ]
  },
  {
   "cell_type": "markdown",
   "metadata": {},
   "source": [
    "# Propagation with dissipation term"
   ]
  },
  {
   "cell_type": "markdown",
   "metadata": {},
   "source": [
    "As the system is interacting with its enviroment we will use the Lindblad master equation:\n",
    "\n",
    "\\begin{equation}\n",
    "    \\dot{\\rho}(t) = -\\frac{i}{\\hbar}[H(t), \\rho(t)] + \\sum_n\\left(C_n\\rho(t)C_n^\\dagger - \\frac{1}{2}\\{C_nC_n^\\dagger, \\rho(t)\\}\\right)\n",
    "\\end{equation}\n",
    "\n",
    "Being $C_n = \\sqrt{\\gamma_n}A_n$ the collapse operators, $A_n$  the operators through which the environment couples to the system and $\\gamma_n$ are the corresponding rates.\n",
    "\n",
    "We take $n=1$, so:\n",
    "* $C_1 = S^+ = S_x + iS_y$\n",
    "\n",
    "* $\\gamma_1 = \\sqrt{0.2}$"
   ]
  },
  {
   "cell_type": "code",
   "execution_count": null,
   "metadata": {},
   "outputs": [],
   "source": [
    "result = solvers.solve('sesolve', hamiltonians.hamiltonian(H_new, V_new, [Sp]), f, psi0, time)"
   ]
  },
  {
   "cell_type": "code",
   "execution_count": null,
   "metadata": {},
   "outputs": [],
   "source": [
    "syval = np.zeros(time.size)\n",
    "szval = np.zeros(time.size)\n",
    "for i in range(time.size):\n",
    "    szval[i] = expect(Sz, result.states[i]) - S\n",
    "    Syt = (1j*time[i]*w[0]*Sz).expm() * Sy * (-1j*time[i]*w[0]*Sz).expm()\n",
    "    syval[i] = expect( Syt, result.states[i] )\n",
    "\n",
    "data.append(syval[-1])\n",
    "data.append(szval[-1])"
   ]
  },
  {
   "cell_type": "code",
   "execution_count": null,
   "metadata": {},
   "outputs": [],
   "source": [
    "fig, ax = plt.subplots()\n",
    "ax.set_xlabel('time ($\\mu$s)')\n",
    "ax.set_ylabel('<$S_z(t)$>')\n",
    "ax.set_xlim(0, T/(2.0*np.pi))\n",
    "ax.grid()\n",
    "ax.plot(time/(2*np.pi), syval, label = '$S_y$ (simulation)')\n",
    "ax.plot(time/(2*np.pi), szval, label = '$S_z - 7/2$ (simulation)')\n",
    "ax.plot(t_exp, data_exp, label = 'exp. (15dB)')\n",
    "ax.legend(loc = 'upper center')\n",
    "\n",
    "fig.savefig('Sy-diss.pdf', format = 'pdf')\n",
    "if isnotebook:\n",
    "    plt.show()"
   ]
  },
  {
   "cell_type": "code",
   "execution_count": null,
   "metadata": {},
   "outputs": [],
   "source": [
    "with open(\"data\", \"w\") as datafile:\n",
    "    for i in data:\n",
    "        datafile.write(\"{:.14e}\\n\".format(i))"
   ]
  }
 ],
 "metadata": {
  "kernelspec": {
   "display_name": "Python 3",
   "language": "python",
   "name": "python3"
  },
  "language_info": {
   "codemirror_mode": {
    "name": "ipython",
    "version": 3
   },
   "file_extension": ".py",
   "mimetype": "text/x-python",
   "name": "python",
   "nbconvert_exporter": "python",
   "pygments_lexer": "ipython3"
  },
  "latex_metadata": {
   "affiliation": " ",
   "author": " ",
   "title": "pi-pulses for state-to-state transitions on the GdW30 model"
  }
 },
 "nbformat": 4,
 "nbformat_minor": 2
}

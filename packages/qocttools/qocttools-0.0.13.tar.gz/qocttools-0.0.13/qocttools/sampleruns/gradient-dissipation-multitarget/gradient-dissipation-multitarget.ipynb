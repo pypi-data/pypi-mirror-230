{
 "cells": [
  {
   "cell_type": "markdown",
   "metadata": {},
   "source": [
    "# Gradient calculation for a multitarget dissipative problem (Lindblad's Equation)"
   ]
  },
  {
   "cell_type": "code",
   "execution_count": null,
   "metadata": {},
   "outputs": [],
   "source": [
    "try:\n",
    "    get_ipython\n",
    "    isnotebook = True\n",
    "except:\n",
    "    isnotebook = False\n",
    "\n",
    "import os\n",
    "import sys\n",
    "import importlib\n",
    "import numpy as np\n",
    "import scipy as sp\n",
    "import matplotlib\n",
    "if not isnotebook:\n",
    "    matplotlib.use('Agg')\n",
    "import matplotlib.pyplot as plt\n",
    "from qutip import *\n",
    "from qutip.qip.operations import toffoli"
   ]
  },
  {
   "cell_type": "code",
   "execution_count": null,
   "metadata": {},
   "outputs": [],
   "source": [
    "import qocttools\n",
    "import qocttools.models.GdW30 as GdW30\n",
    "import qocttools.hamiltonians as hamiltonians\n",
    "import qocttools.math_extra as math_extra\n",
    "import qocttools.pulses as pulses\n",
    "import qocttools.qoct as qoct\n",
    "import qocttools.solvers as solvers\n",
    "import qocttools.target as target"
   ]
  },
  {
   "cell_type": "code",
   "execution_count": null,
   "metadata": {},
   "outputs": [],
   "source": [
    "qocttools.about()"
   ]
  },
  {
   "cell_type": "code",
   "execution_count": null,
   "metadata": {},
   "outputs": [],
   "source": [
    "data = []"
   ]
  },
  {
   "cell_type": "markdown",
   "metadata": {},
   "source": [
    "# Introduction"
   ]
  },
  {
   "cell_type": "markdown",
   "metadata": {},
   "source": [
    "In this notebook we test the computation of the gradient when using a multi-target definition. The formulation is done with the Lindblad's equation, in the presence of dissipation. "
   ]
  },
  {
   "cell_type": "markdown",
   "metadata": {},
   "source": [
    "# Model"
   ]
  },
  {
   "cell_type": "markdown",
   "metadata": {},
   "source": [
    "The model is defined by the Hamiltonian:\n",
    "\n",
    "\\begin{equation}\n",
    "        \\hat{H}(t) = \\hat{H}_0 + f(t)\\hat{V}\n",
    "\\end{equation}\n",
    "where the time-independent part is given by:\n",
    "\\begin{equation}\n",
    "        \\hat{H}_0 = D\\bigg[\\hat{S}_z^2 - \\frac{1}{3}S(S + 1)\\bigg] + E[\\hat{S}_x^2 - \\hat{S}_y^2] - g\\mu_B\\hat{\\vec{S}}\\cdot\\vec{H}\n",
    "\\end{equation}\n",
    "and the time-dependent part is:\n",
    "\\begin{equation}\n",
    "        \\hat{H}(t) = \\hat{H}_0 + f(t)\\hat{V}\n",
    "\\end{equation}\n",
    "The perturbation is a magnetic field:\n",
    "\\begin{equation}\n",
    "        \\hat{V} = -g\\mu_B\\hat{\\vec{S}}\\cdot\\vec{H}_m \n",
    "\\end{equation}"
   ]
  },
  {
   "cell_type": "markdown",
   "metadata": {},
   "source": [
    "In this case:\n",
    "\n",
    "* $S = 7/2$\n",
    "\n",
    "* $D$ = 1281 MHz\n",
    "\n",
    "* $E$ = 294 MHz\n",
    "\n",
    "* $\\vec{H} = (0.15, 0.0, 0.0)$ T\n",
    "\n",
    "* $\\vec{H}_m = (0, 0.001, 0.0)$ T"
   ]
  },
  {
   "cell_type": "code",
   "execution_count": null,
   "metadata": {},
   "outputs": [],
   "source": [
    "#We define the parameters of the Hamiltonian\n",
    "\n",
    "S = 7/2 # spin\n",
    "E = 294 # value in MHz\n",
    "D = 1281 # value in MHz\n",
    "dim = int(2*S + 1) #matrix dim"
   ]
  },
  {
   "cell_type": "code",
   "execution_count": null,
   "metadata": {},
   "outputs": [],
   "source": [
    "# We define the amplitude of the constant and variable magnetic fields, and, with that, we can build\n",
    "# the unperturbed hamiltonian H0 and the perturbation operator V, which will be multiplied by the pulse f(u,t) later.\n",
    "\n",
    "H = np.array([0.15, 0, 0.0], dtype = float) #magnetic field in T\n",
    "H_m = np.array([0, 0.001, 0], dtype = float) #only in presence of perturbation (T)\n",
    "H0 = GdW30.hGdW30(D, E, H)\n",
    "V = GdW30.vGdW30(H_m)"
   ]
  },
  {
   "cell_type": "code",
   "execution_count": null,
   "metadata": {},
   "outputs": [],
   "source": [
    "# We transform both H0 and V to the basis of eigenstates of H0\n",
    "eigenvalues, eigenstates = H0.eigenstates()\n",
    "H0 = H0.transform(eigenstates) - eigenvalues[0] #WHY NOT NOW? \n",
    "V = V.transform(eigenstates)"
   ]
  },
  {
   "cell_type": "markdown",
   "metadata": {},
   "source": [
    "The following is a check for the Hermiticiy of the operators. In case they are not exactly Hermitian, they are symmetrized."
   ]
  },
  {
   "cell_type": "code",
   "execution_count": null,
   "metadata": {},
   "outputs": [],
   "source": [
    "H0 = 0.5 * (H0 + H0.dag())\n",
    "V = 0.5 * (V + V.dag())"
   ]
  },
  {
   "cell_type": "code",
   "execution_count": null,
   "metadata": {},
   "outputs": [],
   "source": [
    "# We define the Spin and Ladder Operators. This will be useful for us to build the Lindbladian later, since the\n",
    "# dissipative operators A, A* will be proportional to Sp and Sm, respectively.\n",
    "\n",
    "Sx = jmat(S, \"x\")\n",
    "Sy = jmat(S, \"y\")\n",
    "Sz = jmat(S, \"z\")\n",
    "Sp = (Sx + (1j*Sy))\n",
    "Sm = (Sx - (1j*Sy))"
   ]
  },
  {
   "cell_type": "code",
   "execution_count": null,
   "metadata": {},
   "outputs": [],
   "source": [
    "# We compute the transition frequencies\n",
    "\n",
    "w = np.zeros(dim-1)\n",
    "taui = np.zeros(dim-1)\n",
    "for i in range(dim-1):\n",
    "    w[i] = eigenvalues[i+1] - eigenvalues[i] # Transition frequencies\n",
    "    taui[i] = 2.0*np.pi/w[i] # Transition periods\n",
    "    print(\"Transition {:d}: w = {:f} MHz, tau = {:f} ns\".format(i, w[i], 1000.0*taui[i]/(2.0*np.pi)))"
   ]
  },
  {
   "cell_type": "code",
   "execution_count": null,
   "metadata": {},
   "outputs": [],
   "source": [
    "# Time Array Definition: Duration of the pulse and Time Grid\n",
    "\n",
    "T = 5*taui[0]\n",
    "#T = 5*taui.max() # Different from gradient-dissipation.ipynb\n",
    "print(\"T = {:f} us*2*pi = {:f} ns\".format(T, 1000*T/(2.0*np.pi)))\n",
    "time = math_extra.timegrid(H0, T, 4.0)\n",
    "print('# Time steps =', time.shape[0])"
   ]
  },
  {
   "cell_type": "markdown",
   "metadata": {},
   "source": [
    "# Target Operator and Target States"
   ]
  },
  {
   "cell_type": "code",
   "execution_count": null,
   "metadata": {},
   "outputs": [],
   "source": [
    "# We choose a toffoli gate as our target, but it could be any.\n",
    "U_target = Qobj(toffoli().data)"
   ]
  },
  {
   "cell_type": "markdown",
   "metadata": {},
   "source": [
    "We will have N=8 initial states $|j\\rangle$, whose corresponding target states will be $|j'\\rangle=U|j\\rangle$."
   ]
  },
  {
   "cell_type": "code",
   "execution_count": null,
   "metadata": {},
   "outputs": [],
   "source": [
    "ket_ini = []\n",
    "ket_target = []\n",
    "rho_ini = []\n",
    "rho_target = []\n",
    "\n",
    "for i in range (0, dim):\n",
    "    ket_ini.append(basis(dim,i))\n",
    "    ket_target.append(U_target*ket_ini[i])\n",
    "\n",
    "    rho_ini.append(fock_dm(dim,i))\n",
    "    rho_target.append(U_target.dag()*rho_ini[i]*U_target)\n",
    "    \n",
    "rho=rho_ini #This will be the array of states that we will propagate."
   ]
  },
  {
   "cell_type": "markdown",
   "metadata": {},
   "source": [
    "# Control function"
   ]
  },
  {
   "cell_type": "markdown",
   "metadata": {},
   "source": [
    "The control function is parametrized with the Fourier expansion as follows:\n",
    "\\begin{equation}\n",
    "    f(u, t) = \\frac{1}{\\sqrt{T}}u_0 + \\frac{2}{\\sqrt{T}}\\sum_{k = 1}^{M}u_{2k}\\cos(\\omega_kt) + \\frac{2}{\\sqrt{T}}\\sum_{k = 1}^{M}u_{2k + 1}\\sin(\\omega_kt),\n",
    "\\end{equation}\n",
    "where $u_0\\dots u_{2M + 1}$ are the control parameters. This way, we can compute the derivate respect any control parameter as\n",
    "\\begin{equation}\n",
    "    \\frac{\\partial f}{\\partial u_m}(u, t) = f(e_m, t),\n",
    "\\end{equation}\n",
    "where $e_m$ is the set of parameters where all of them are zero except the m-th ane, that is equal to one.\n",
    "\n",
    "This pulse parametrization is included in the typical_pulses.py file as pulse class."
   ]
  },
  {
   "cell_type": "code",
   "execution_count": null,
   "metadata": {},
   "outputs": [],
   "source": [
    "M = 10 #Number of parameters\n",
    "\n",
    "# We will not take into account the frequency limitations of our experimental display. The change that would introduce is\n",
    "# not qualitatively relevant, and it would steeply increase the number of parameters, making the calculations way longer.\n",
    "\n",
    "omega = np.zeros(M+1)\n",
    "omega[0] = 0.0\n",
    "for k in range(1, M+1):\n",
    "    omega[k] = (2.0*np.pi/T) * k\n",
    "    print(\"omega[{:d}] = {:f} MHz\".format(k, omega[k]))\n",
    "\n",
    "# u = 1.0*np.random.rand((2*M + 1))\n",
    "u = np.zeros(2*M+1)\n",
    "u[2] = 1.0 # Arbitrary initial set of parameters\n",
    "u[3] = 1.0\n",
    "f = pulses.pulse(\"fourier\", T, u = u)\n",
    "\n",
    "\n",
    "# print(\"Amplitudes:\")\n",
    "# print(\"{:f} mT\".format(u[0]/np.sqrt(T)))\n",
    "# for m in range(1, 2*M+1):\n",
    "#     print(\"{:f} mT\".format(2.0*u[m]/(np.sqrt(T)))) # Proceso inverso. No es A -> Tmax, sino Tmax=T -> A\n"
   ]
  },
  {
   "cell_type": "code",
   "execution_count": null,
   "metadata": {},
   "outputs": [],
   "source": [
    "# We plot the pulse\n",
    "\n",
    "fig, ax = plt.subplots()\n",
    "\n",
    "ax.plot(time * 1000/(2.0*np.pi), f.fu(time, u))\n",
    "ax.set_xlabel(\"Time (ns)\")\n",
    "ax.set_xlim(left = 0.0, right = time[-1]*1000/(2.0*np.pi))\n",
    "ax.set_ylabel(\"f(t) (mT)\")\n",
    "if isnotebook:\n",
    "    plt.show()\n",
    "else:\n",
    "    fig.savefig(\"pulse.pdf\")"
   ]
  },
  {
   "cell_type": "markdown",
   "metadata": {},
   "source": [
    "# Gradient calculation for multi-target state-to-state transitions, with dissipation"
   ]
  },
  {
   "cell_type": "code",
   "execution_count": null,
   "metadata": {},
   "outputs": [],
   "source": [
    "A = 5.0*Sp"
   ]
  },
  {
   "cell_type": "code",
   "execution_count": null,
   "metadata": {},
   "outputs": [],
   "source": [
    "H = hamiltonians.hamiltonian(H0, [V], [A])"
   ]
  },
  {
   "cell_type": "code",
   "execution_count": null,
   "metadata": {},
   "outputs": [],
   "source": [
    "tg = target.Target('expectationvalue', operator = rho_target)\n",
    "\n",
    "opt = qoct.Qoct(H, T, time.shape[0], tg, f, rho_ini,\n",
    "                interaction_picture = True,\n",
    "                solve_method = 'cfmagnus4')"
   ]
  },
  {
   "cell_type": "code",
   "execution_count": null,
   "metadata": {},
   "outputs": [],
   "source": [
    "derqoct, dernum, error = opt.check_grad(u, 3)\n",
    "print(\"QOCT calculation: \\t{}\".format(derqoct))\n",
    "print(\"Ridders calculation: \\t{} +- {}\".format(dernum, error))\n",
    "data.append(derqoct)"
   ]
  },
  {
   "cell_type": "markdown",
   "metadata": {},
   "source": [
    "# Datafile"
   ]
  },
  {
   "cell_type": "code",
   "execution_count": null,
   "metadata": {},
   "outputs": [],
   "source": [
    "with open(\"data\", \"w\") as f:\n",
    "    for i in data:\n",
    "        f.write(\"{:.14e}\\n\".format(i))"
   ]
  }
 ],
 "metadata": {
  "kernelspec": {
   "display_name": "Python 3 (ipykernel)",
   "language": "python",
   "name": "python3"
  },
  "language_info": {
   "codemirror_mode": {
    "name": "ipython",
    "version": 3
   },
   "file_extension": ".py",
   "mimetype": "text/x-python",
   "name": "python",
   "nbconvert_exporter": "python",
   "pygments_lexer": "ipython3"
  }
 },
 "nbformat": 4,
 "nbformat_minor": 4
}

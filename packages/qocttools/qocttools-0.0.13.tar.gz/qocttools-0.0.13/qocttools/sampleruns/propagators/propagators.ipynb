{
 "cells": [
  {
   "cell_type": "code",
   "execution_count": null,
   "metadata": {},
   "outputs": [],
   "source": [
    "try:\n",
    "    get_ipython\n",
    "    isnotebook = True\n",
    "except:\n",
    "    isnotebook = False\n",
    "\n",
    "import os\n",
    "import sys\n",
    "import numpy as np\n",
    "import scipy as sp\n",
    "import matplotlib\n",
    "if not isnotebook:\n",
    "    matplotlib.use('Agg')\n",
    "import matplotlib.pyplot as plt\n",
    "import time\n",
    "from qutip import *"
   ]
  },
  {
   "cell_type": "code",
   "execution_count": null,
   "metadata": {},
   "outputs": [],
   "source": [
    "import qocttools\n",
    "import qocttools.models.GdW30 as GdW30\n",
    "import qocttools.hamiltonians as hamiltonians\n",
    "import qocttools.math_extra as math_extra\n",
    "import qocttools.pulses as pulses\n",
    "import qocttools.qoct as qoct\n",
    "import qocttools.solvers as solvers"
   ]
  },
  {
   "cell_type": "code",
   "execution_count": null,
   "metadata": {},
   "outputs": [],
   "source": [
    "qocttools.about()"
   ]
  },
  {
   "cell_type": "code",
   "execution_count": null,
   "metadata": {},
   "outputs": [],
   "source": [
    "data = []"
   ]
  },
  {
   "cell_type": "markdown",
   "metadata": {},
   "source": [
    "# Introduction"
   ]
  },
  {
   "cell_type": "markdown",
   "metadata": {},
   "source": [
    "In this notebook we benchmark various propagation methods, using the GdW$_{30}$ model."
   ]
  },
  {
   "cell_type": "markdown",
   "metadata": {},
   "source": [
    "# Model"
   ]
  },
  {
   "cell_type": "markdown",
   "metadata": {},
   "source": [
    "The model is defined by the Hamiltonian:\n",
    "\n",
    "\\begin{equation}\n",
    "        \\hat{H}(t) = \\hat{H}_0 + f(t)\\hat{V}\n",
    "\\end{equation}\n",
    "where the time-independent part is given by:\n",
    "\\begin{equation}\n",
    "        \\hat{H}_0 = D\\bigg[\\hat{S}_z^2 - \\frac{1}{3}S(S + 1)\\bigg] + E[\\hat{S}_x^2 - \\hat{S}_y^2] - g\\mu_B\\hat{\\vec{S}}\\cdot\\vec{H}\n",
    "\\end{equation}\n",
    "and the time-dependent part is:\n",
    "\\begin{equation}\n",
    "        \\hat{H}(t) = \\hat{H}_0 + f(t)\\hat{V}\n",
    "\\end{equation}\n",
    "The perturbation is a magnetic field:\n",
    "\\begin{equation}\n",
    "        \\hat{V} = -g\\mu_B\\hat{\\vec{S}}\\cdot\\vec{H}_m \n",
    "\\end{equation}"
   ]
  },
  {
   "cell_type": "markdown",
   "metadata": {},
   "source": [
    "In this case:\n",
    "\n",
    "* $S = 7/2$\n",
    "\n",
    "* $D$ = 1281 MHz\n",
    "\n",
    "* $E$ = 294 MHz\n",
    "\n",
    "* $\\vec{H} = (0.0, 0.0, 0.650)$ T\n",
    "\n",
    "* $\\vec{H}_m = (0, 0.001, 0)$ T"
   ]
  },
  {
   "cell_type": "code",
   "execution_count": null,
   "metadata": {},
   "outputs": [],
   "source": [
    "# Parameters definition\n",
    "S = 7/2 # spin\n",
    "E = 294 # value in MHz\n",
    "D = 1281 # value in MHz\n",
    "dim = int(2*S + 1) #matrix dim"
   ]
  },
  {
   "cell_type": "code",
   "execution_count": null,
   "metadata": {},
   "outputs": [],
   "source": [
    "H = np.array([0.15, 0, 0.0], dtype = float) #magnetic field in T\n",
    "H_m = np.array([0, 0.001, 0], dtype = float) #only in presence of perturbation (T)\n",
    "H0 = GdW30.hGdW30(D, E, H)\n",
    "V = GdW30.vGdW30(H_m)"
   ]
  },
  {
   "cell_type": "code",
   "execution_count": null,
   "metadata": {},
   "outputs": [],
   "source": [
    "eigenvalues, eigenstates = H0.eigenstates()"
   ]
  },
  {
   "cell_type": "code",
   "execution_count": null,
   "metadata": {},
   "outputs": [],
   "source": [
    "P0 = eigenstates[0] * eigenstates[0].dag()\n",
    "P1 = eigenstates[1] * eigenstates[1].dag()\n",
    "H0d = H0.transform(eigenstates)\n",
    "Vd = V.transform(eigenstates)\n",
    "P0d = basis(dim, 0) * basis(dim, 0).dag()\n",
    "P1d = basis(dim, 1) * basis(dim, 1).dag()"
   ]
  },
  {
   "cell_type": "code",
   "execution_count": null,
   "metadata": {},
   "outputs": [],
   "source": [
    "w = np.zeros(dim-1)\n",
    "for i in range(int(dim - 1)):\n",
    "    #w.append(eigenvalues[i+1] - eigenvalues[i]) #in MHz\n",
    "    w[i] = eigenvalues[i+1] - eigenvalues[i]\n",
    "\n",
    "# We will define a \"characteristic period\" of the field-free Hamiltonian\n",
    "# as the period corresponding to the maximum frequency. Note that we are\n",
    "# considering only the \"neighbour energies\" to define the frequencies.\n",
    "tau0 = (2*np.pi/np.max(np.array(w)))\n",
    "tau = (2*np.pi/w[0])"
   ]
  },
  {
   "cell_type": "markdown",
   "metadata": {},
   "source": [
    "We will apply a $\\pi$-pulse; lambda_ is the amplitude (in mT), and mu is the coupling matrix element corresponding to the first transition.\n",
    "\n",
    "The form of the amplitude td function is:\n",
    "\\begin{equation}\n",
    "g(t) = \\lambda \\sin(\\omega_0 t)\n",
    "\\end{equation}"
   ]
  },
  {
   "cell_type": "code",
   "execution_count": null,
   "metadata": {},
   "outputs": [],
   "source": [
    "lambda_ = 1.0\n",
    "mu = np.abs(Vd.full()[0, 1])\n",
    "T = 0.5*np.pi/(lambda_ * mu)"
   ]
  },
  {
   "cell_type": "code",
   "execution_count": null,
   "metadata": {},
   "outputs": [],
   "source": [
    "def gu(t, u):\n",
    "    return u[0] * np.sin(u[1]*t)\n",
    "\n",
    "def dgdu(t, u, m):\n",
    "    if m == 0:\n",
    "        return np.sin(u[1]*t)\n",
    "    else:\n",
    "        return u[0] * np.cos(u[1]*t)"
   ]
  },
  {
   "cell_type": "code",
   "execution_count": null,
   "metadata": {},
   "outputs": [],
   "source": [
    "u = np.array([lambda_, w[0]])\n",
    "f = pulses.pulse(\"user_defined\", T, u = u)\n",
    "f.assign_user_defined_function(gu, dgdu)"
   ]
  },
  {
   "cell_type": "code",
   "execution_count": null,
   "metadata": {},
   "outputs": [],
   "source": [
    "def benchmark(method, H, f, psi0, tfactors, finalst, picture = 'schrodinger'):\n",
    "    if H.function:\n",
    "        #args = { \"f\": [f[l].fu for l in range(len(f))] }\n",
    "        args = { \"f\": [f.fu]}\n",
    "        H0 = H.H0(0.0, args)\n",
    "        method = 'sesolve'\n",
    "        picture = 'schrodinger'\n",
    "    else:\n",
    "        H0 = H.H0\n",
    "    diff = np.zeros(tfactors.size)\n",
    "    cputimes = np.zeros(tfactors.size)\n",
    "    dt = np.zeros(tfactors.size)\n",
    "    if picture == 'interaction':\n",
    "        interaction_picture = True\n",
    "    else:\n",
    "        interaction_picture = False\n",
    "    i = 0\n",
    "    for tfactor in tfactors:\n",
    "        times = math_extra.timegrid(H0, T, tfactor)\n",
    "        t0 = time.time()\n",
    "        result = solvers.solve(method, H, f, psi0, times,\n",
    "                               returnQoutput = False,\n",
    "                               interaction_picture = interaction_picture)\n",
    "        tf = time.time()\n",
    "        cputimes[i] = tf-t0\n",
    "        dt[i] = times[1]\n",
    "        finalstapprox = Qobj(result[-1])\n",
    "        diff[i] = (finalstapprox-finalst).norm()\n",
    "        print(i, dt[i], diff[i], cputimes[i])\n",
    "        i = i + 1\n",
    "    return dt, diff, cputimes"
   ]
  },
  {
   "cell_type": "code",
   "execution_count": null,
   "metadata": {},
   "outputs": [],
   "source": [
    "def plot_results(dt, diff, times):\n",
    "    a = np.polyfit(np.log10(dt), np.log10(diff), deg = 1)\n",
    "\n",
    "    fig, ax = plt.subplots(1, 2, figsize = (12, 4))\n",
    "    ax[0].plot(np.log10(dt), np.log10(diff), \"bo\")\n",
    "    ax[0].plot(np.log10(dt), a[1]+a[0]*np.log10(dt), \n",
    "               label = \"y = {:5.2f}+{:5.2f}x\".format(a[1], a[0]))\n",
    "    ax[0].set_xlabel(r\"$\\log_{10}\\Delta t$\")\n",
    "    ax[0].set_ylabel(r\"$\\log_{10}$ Error\")\n",
    "    ax[0].legend(loc = 'best')\n",
    "    ax[1].set_xlabel(r\"$\\log_{10}$ Error\")\n",
    "    ax[1].set_ylabel(r\"$\\log_{10}$ Cost\")\n",
    "    ax[1].plot(np.log10(diff), np.log10(times), \"bo-\")\n",
    "    fig.tight_layout(pad = 2.0)\n",
    "    if isnotebook:\n",
    "        plt.show()"
   ]
  },
  {
   "cell_type": "markdown",
   "metadata": {},
   "source": [
    "# Reference run"
   ]
  },
  {
   "cell_type": "code",
   "execution_count": null,
   "metadata": {},
   "outputs": [],
   "source": [
    "theta = 0.01\n",
    "times = math_extra.timegrid(H0, T, theta)\n",
    "print(\"Number of time steps =\", times.size)\n",
    "print(\"dt =\", times[1])\n",
    "print(\"T =\", times[-1])"
   ]
  },
  {
   "cell_type": "code",
   "execution_count": null,
   "metadata": {},
   "outputs": [],
   "source": [
    "u = np.array([lambda_, w[0]])\n",
    "f = pulses.pulse(\"user_defined\", T, u = u)\n",
    "f.assign_user_defined_function(gu, dgdu)"
   ]
  },
  {
   "cell_type": "code",
   "execution_count": null,
   "metadata": {},
   "outputs": [],
   "source": [
    "ut = f.fu(times)\n",
    "ft = pulses.pulse(\"realtime\", T, u = ut)"
   ]
  },
  {
   "cell_type": "markdown",
   "metadata": {},
   "source": [
    "## State propagation"
   ]
  },
  {
   "cell_type": "code",
   "execution_count": null,
   "metadata": {},
   "outputs": [],
   "source": [
    "psi0 = eigenstates[0]"
   ]
  },
  {
   "cell_type": "code",
   "execution_count": null,
   "metadata": {},
   "outputs": [],
   "source": [
    "t0 = time.time()\n",
    "H = hamiltonians.hamiltonian(H0, V)\n",
    "result = solvers.solve('rk4', H, f, psi0, times,\n",
    "                       returnQoutput = False)\n",
    "t1 = time.time()\n",
    "print(\"Elapsed time =\", t1-t0)"
   ]
  },
  {
   "cell_type": "code",
   "execution_count": null,
   "metadata": {},
   "outputs": [],
   "source": [
    "p1 = np.zeros(times.shape[0])\n",
    "for j in range(times.shape[0]):\n",
    "    p1[j] = expect(P1, Qobj(result[j]))"
   ]
  },
  {
   "cell_type": "code",
   "execution_count": null,
   "metadata": {},
   "outputs": [],
   "source": [
    "finalst = Qobj(result[-1])\n",
    "print(\"P1(T) =\", expect(P1, finalst))"
   ]
  },
  {
   "cell_type": "code",
   "execution_count": null,
   "metadata": {},
   "outputs": [],
   "source": [
    "finalstp = (finalst.copy()).transform(eigenstates)\n",
    "finalstpint = (1j*T*H0d).expm() * finalstp"
   ]
  },
  {
   "cell_type": "code",
   "execution_count": null,
   "metadata": {},
   "outputs": [],
   "source": [
    "fig, ax = plt.subplots()\n",
    "ax.plot(times, p1)\n",
    "if isnotebook:\n",
    "    plt.show()"
   ]
  },
  {
   "cell_type": "markdown",
   "metadata": {},
   "source": [
    "## Propagator propagation"
   ]
  },
  {
   "cell_type": "code",
   "execution_count": null,
   "metadata": {},
   "outputs": [],
   "source": [
    "U0 = qeye(dim)"
   ]
  },
  {
   "cell_type": "code",
   "execution_count": null,
   "metadata": {},
   "outputs": [],
   "source": [
    "t0 = time.time()\n",
    "resultU = solvers.solve('rk4', hamiltonians.hamiltonian(H0, V), f, U0, times,\n",
    "                       returnQoutput = False)\n",
    "t1 = time.time()\n",
    "print(\"Elapsed time =\", t1-t0)"
   ]
  },
  {
   "cell_type": "code",
   "execution_count": null,
   "metadata": {},
   "outputs": [],
   "source": [
    "finalU = Qobj(resultU[-1])"
   ]
  },
  {
   "cell_type": "code",
   "execution_count": null,
   "metadata": {},
   "outputs": [],
   "source": [
    "print(expect(P1, finalU*psi0))"
   ]
  },
  {
   "cell_type": "markdown",
   "metadata": {},
   "source": [
    "# RK4, Schrödinger picture"
   ]
  },
  {
   "cell_type": "code",
   "execution_count": null,
   "metadata": {},
   "outputs": [],
   "source": [
    "tfactors = np.array([theta*80, theta*40, theta*20, theta*10])"
   ]
  },
  {
   "cell_type": "code",
   "execution_count": null,
   "metadata": {},
   "outputs": [],
   "source": [
    "dt, diff, cputimes = benchmark('rk4', hamiltonians.hamiltonian(H0, V), f, eigenstates[0], tfactors, finalst)\n",
    "data.append(diff[0])"
   ]
  },
  {
   "cell_type": "code",
   "execution_count": null,
   "metadata": {},
   "outputs": [],
   "source": [
    "plot_results(dt, diff, cputimes)"
   ]
  },
  {
   "cell_type": "markdown",
   "metadata": {},
   "source": [
    "# Internal qutip solver, Schrödinger picture, Hamiltonian-as-a-function"
   ]
  },
  {
   "cell_type": "code",
   "execution_count": null,
   "metadata": {},
   "outputs": [],
   "source": [
    "tfactors = np.array([theta*80, theta*40, theta*20, theta*10])"
   ]
  },
  {
   "cell_type": "code",
   "execution_count": null,
   "metadata": {},
   "outputs": [],
   "source": [
    "def Hfunc(t, args):\n",
    "    return H0 + args[\"f\"][0](t) * V\n",
    "def Vfunc(t, args):\n",
    "    return V\n",
    "H_ = hamiltonians.hamiltonian(Hfunc, Vfunc)"
   ]
  },
  {
   "cell_type": "code",
   "execution_count": null,
   "metadata": {},
   "outputs": [],
   "source": [
    "dt, diff, cputimes = benchmark('sesolve', H_, f, eigenstates[0], tfactors, finalst)\n",
    "data.append(diff[0])"
   ]
  },
  {
   "cell_type": "code",
   "execution_count": null,
   "metadata": {},
   "outputs": [],
   "source": [
    "plot_results(dt, diff, cputimes)"
   ]
  },
  {
   "cell_type": "markdown",
   "metadata": {},
   "source": [
    "# RK4, Schrödinger picture, \"realtime\" pulse"
   ]
  },
  {
   "cell_type": "code",
   "execution_count": null,
   "metadata": {},
   "outputs": [],
   "source": [
    "tfactors = np.array([theta*80, theta*40, theta*20, theta*10])"
   ]
  },
  {
   "cell_type": "code",
   "execution_count": null,
   "metadata": {},
   "outputs": [],
   "source": [
    "dt, diff, cputimes = benchmark('rk4', hamiltonians.hamiltonian(H0, V), ft, eigenstates[0], tfactors, finalst)\n",
    "data.append(diff[0])"
   ]
  },
  {
   "cell_type": "code",
   "execution_count": null,
   "metadata": {},
   "outputs": [],
   "source": [
    "plot_results(dt, diff, cputimes)"
   ]
  },
  {
   "cell_type": "markdown",
   "metadata": {},
   "source": [
    "# RK4, Schrödinger picture; propagator"
   ]
  },
  {
   "cell_type": "code",
   "execution_count": null,
   "metadata": {},
   "outputs": [],
   "source": [
    "tfactors = np.array([theta*80, theta*40, theta*20, theta*10])"
   ]
  },
  {
   "cell_type": "code",
   "execution_count": null,
   "metadata": {},
   "outputs": [],
   "source": [
    "dt, diff, cputimes = benchmark('rk4', hamiltonians.hamiltonian(H0, V), f, U0, tfactors, finalU)\n",
    "data.append(diff[0])"
   ]
  },
  {
   "cell_type": "code",
   "execution_count": null,
   "metadata": {},
   "outputs": [],
   "source": [
    "plot_results(dt, diff, cputimes)"
   ]
  },
  {
   "cell_type": "markdown",
   "metadata": {},
   "source": [
    "# RK4, Schrödinger picture, eigenbasis, elimination of first frequency"
   ]
  },
  {
   "cell_type": "markdown",
   "metadata": {},
   "source": [
    "We will now do the same calculation, but use the eigenbasis, and substract the first frequency."
   ]
  },
  {
   "cell_type": "code",
   "execution_count": null,
   "metadata": {},
   "outputs": [],
   "source": [
    "tfactors = np.array([theta*160, theta*80, theta*40, theta*20])"
   ]
  },
  {
   "cell_type": "code",
   "execution_count": null,
   "metadata": {},
   "outputs": [],
   "source": [
    "finalstpp = finalstp.copy()\n",
    "for j in range(dim):\n",
    "    finalstpp.data[j, 0] = np.exp(1j * T * eigenvalues[0]) * finalstpp.data[j, 0]"
   ]
  },
  {
   "cell_type": "code",
   "execution_count": null,
   "metadata": {},
   "outputs": [],
   "source": [
    "dt, diff, cputimes = benchmark('rk4', hamiltonians.hamiltonian(H0d-eigenvalues[0], Vd),\n",
    "                               f, basis(dim, 0), tfactors, finalstpp)\n",
    "data.append(diff[0])"
   ]
  },
  {
   "cell_type": "code",
   "execution_count": null,
   "metadata": {},
   "outputs": [],
   "source": [
    "plot_results(dt, diff, cputimes)"
   ]
  },
  {
   "cell_type": "markdown",
   "metadata": {},
   "source": [
    "# RK4, interaction picture"
   ]
  },
  {
   "cell_type": "code",
   "execution_count": null,
   "metadata": {},
   "outputs": [],
   "source": [
    "tfactors = np.array([theta*1000, theta*500, theta*250, theta*125])"
   ]
  },
  {
   "cell_type": "code",
   "execution_count": null,
   "metadata": {},
   "outputs": [],
   "source": [
    "dt, diff, cputimes = benchmark('rk4', hamiltonians.hamiltonian(H0d, Vd), f, basis(dim, 0), tfactors, finalstpint,\n",
    "                               picture = 'interaction')\n",
    "data.append(diff[0])"
   ]
  },
  {
   "cell_type": "code",
   "execution_count": null,
   "metadata": {},
   "outputs": [],
   "source": [
    "plot_results(dt, diff, cputimes)"
   ]
  },
  {
   "cell_type": "markdown",
   "metadata": {},
   "source": [
    "# EMR, Schrödinger picture, eigenbasis, elimination of first frequency"
   ]
  },
  {
   "cell_type": "code",
   "execution_count": null,
   "metadata": {},
   "outputs": [],
   "source": [
    "tfactors = np.array([theta*160, theta*80, theta*40, theta*20])"
   ]
  },
  {
   "cell_type": "code",
   "execution_count": null,
   "metadata": {},
   "outputs": [],
   "source": [
    "finalstpp = finalstp.copy()\n",
    "for j in range(dim):\n",
    "    finalstpp.data[j, 0] = np.exp(1j * T * eigenvalues[0]) * finalstpp.data[j, 0]"
   ]
  },
  {
   "cell_type": "code",
   "execution_count": null,
   "metadata": {},
   "outputs": [],
   "source": [
    "dt, diff, cputimes = benchmark('cfmagnus2', hamiltonians.hamiltonian(H0d-eigenvalues[0], Vd),\n",
    "                               f, basis(dim, 0), tfactors, finalstpp)\n",
    "data.append(diff[0])"
   ]
  },
  {
   "cell_type": "code",
   "execution_count": null,
   "metadata": {},
   "outputs": [],
   "source": [
    "plot_results(dt, diff, cputimes)"
   ]
  },
  {
   "cell_type": "markdown",
   "metadata": {},
   "source": [
    "# EMR, interaction picture"
   ]
  },
  {
   "cell_type": "code",
   "execution_count": null,
   "metadata": {},
   "outputs": [],
   "source": [
    "tfactors = np.array([theta*400, theta*200, theta*100, theta*50])"
   ]
  },
  {
   "cell_type": "code",
   "execution_count": null,
   "metadata": {},
   "outputs": [],
   "source": [
    "dt, diff, cputimes = benchmark('cfmagnus2', hamiltonians.hamiltonian(H0d, Vd),\n",
    "                               f, basis(dim, 0), tfactors, finalstpint,\n",
    "                               picture = 'interaction')\n",
    "data.append(diff[0])"
   ]
  },
  {
   "cell_type": "code",
   "execution_count": null,
   "metadata": {},
   "outputs": [],
   "source": [
    "plot_results(dt, diff, cputimes)"
   ]
  },
  {
   "cell_type": "markdown",
   "metadata": {},
   "source": [
    "# CF4, Schrödinger picture, eigenbasis, elimination of the first frequency"
   ]
  },
  {
   "cell_type": "code",
   "execution_count": null,
   "metadata": {},
   "outputs": [],
   "source": [
    "tfactors = np.array([theta*1000, theta*500, theta*250, theta*125])"
   ]
  },
  {
   "cell_type": "code",
   "execution_count": null,
   "metadata": {},
   "outputs": [],
   "source": [
    "finalstpp = finalstp.copy()\n",
    "for j in range(dim):\n",
    "    finalstpp.data[j, 0] = np.exp(1j * T * eigenvalues[0]) * finalstpp.data[j, 0]"
   ]
  },
  {
   "cell_type": "code",
   "execution_count": null,
   "metadata": {},
   "outputs": [],
   "source": [
    "dt, diff, cputimes = benchmark('cfmagnus4', hamiltonians.hamiltonian(H0d-eigenvalues[0], Vd),\n",
    "                               f, basis(dim, 0), tfactors, finalstpp)\n",
    "data.append(diff[0])"
   ]
  },
  {
   "cell_type": "code",
   "execution_count": null,
   "metadata": {},
   "outputs": [],
   "source": [
    "plot_results(dt, diff, cputimes)"
   ]
  },
  {
   "cell_type": "markdown",
   "metadata": {},
   "source": [
    "# CF4, interaction picture"
   ]
  },
  {
   "cell_type": "code",
   "execution_count": null,
   "metadata": {},
   "outputs": [],
   "source": [
    "tfactors = np.array([theta*1000, theta*500, theta*250, theta*125])"
   ]
  },
  {
   "cell_type": "code",
   "execution_count": null,
   "metadata": {},
   "outputs": [],
   "source": [
    "dt, diff, cputimes = benchmark('cfmagnus4', hamiltonians.hamiltonian(H0d, Vd),\n",
    "                               f,basis(dim, 0), tfactors, finalstpint,\n",
    "                               picture = 'interaction')\n",
    "data.append(diff[0])"
   ]
  },
  {
   "cell_type": "code",
   "execution_count": null,
   "metadata": {},
   "outputs": [],
   "source": [
    "plot_results(dt, diff, cputimes)"
   ]
  },
  {
   "cell_type": "code",
   "execution_count": null,
   "metadata": {},
   "outputs": [],
   "source": [
    "with open(\"data\", \"w\") as f:\n",
    "    for i in data:\n",
    "        f.write(\"{:.14e}\\n\".format(i))"
   ]
  }
 ],
 "metadata": {
  "kernelspec": {
   "display_name": "Python 3 (ipykernel)",
   "language": "python",
   "name": "python3"
  },
  "language_info": {
   "codemirror_mode": {
    "name": "ipython",
    "version": 3
   },
   "file_extension": ".py",
   "mimetype": "text/x-python",
   "name": "python",
   "nbconvert_exporter": "python",
   "pygments_lexer": "ipython3"
  }
 },
 "nbformat": 4,
 "nbformat_minor": 2
}

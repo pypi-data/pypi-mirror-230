{
 "cells": [
  {
   "cell_type": "markdown",
   "id": "8ea72a57",
   "metadata": {},
   "source": [
    "# Relevant Data sets for this Notebook\n",
    "\n",
    "1) [historical climate data](https://www.earthsystemgrid.org/dataset/narccap.hrm3.gfdl-current.table2/file.html)\n",
    "(pr_HRM3_gfdl model data sets for 1968 and 1971)\n",
    "\n",
    "2) [future climate data](https://www.earthsystemgrid.org/dataset/narccap.hrm3.gfdl-future.table2/file.html)\n",
    "(pr_HRM3_gfdl model data sets for 2061 and 2066)"
   ]
  },
  {
   "cell_type": "markdown",
   "id": "94628b55",
   "metadata": {},
   "source": [
    "# Relevant Imports"
   ]
  },
  {
   "cell_type": "code",
   "execution_count": 1,
   "id": "0b5f49f9",
   "metadata": {},
   "outputs": [],
   "source": [
    "import pandas as pd\n",
    "import numpy as np\n",
    "import chrpa.main.processing as main\n",
    "import os\n",
    "import glob"
   ]
  },
  {
   "cell_type": "markdown",
   "id": "5bce1473",
   "metadata": {},
   "source": [
    "# Identifying location of interest"
   ]
  },
  {
   "cell_type": "code",
   "execution_count": 2,
   "id": "8ab0af44",
   "metadata": {},
   "outputs": [],
   "source": [
    "#Finding closest grid cell to location of interest for specified weather model\n",
    "mymodel='HRM3_gfdl'\n",
    "myfile = 'pr_'+mymodel+'_1968010103.nc'\n",
    "precip_dir = os.path.join('.', 'precip') #directory for precip_files\n",
    "ncfilepath = os.path.join(precip_dir, myfile)\n",
    "\n",
    "site_loc = (36.7463169, -101.4838549)\n",
    "site_name = 'Random_Site1'\n",
    "offset=[0,0]\n",
    "close_info = main.get_closest_point(site_loc, ncfilepath, offset)\n"
   ]
  },
  {
   "cell_type": "code",
   "execution_count": 3,
   "id": "89968a10",
   "metadata": {},
   "outputs": [
    {
     "data": {
      "text/plain": [
       "{'ws_lat': 36.62239456176758,\n",
       " 'ws_lon': -101.30980682373047,\n",
       " 'dist': 20.75454177359249,\n",
       " 'nc_xindex': 69,\n",
       " 'nc_yindex': 40}"
      ]
     },
     "execution_count": 3,
     "metadata": {},
     "output_type": "execute_result"
    }
   ],
   "source": [
    "close_info"
   ]
  },
  {
   "cell_type": "markdown",
   "id": "2e88a5b4",
   "metadata": {},
   "source": [
    " "
   ]
  },
  {
   "cell_type": "markdown",
   "id": "5ff531fe",
   "metadata": {},
   "source": [
    "# Acquiring Weather Files"
   ]
  },
  {
   "cell_type": "markdown",
   "id": "b2811b5f",
   "metadata": {},
   "source": [
    "options"
   ]
  },
  {
   "cell_type": "code",
   "execution_count": 4,
   "id": "9d92c47c",
   "metadata": {},
   "outputs": [],
   "source": [
    "limited_files = True"
   ]
  },
  {
   "cell_type": "markdown",
   "id": "05ca8bb5",
   "metadata": {},
   "source": [
    "### Precipitation"
   ]
  },
  {
   "cell_type": "code",
   "execution_count": 5,
   "id": "5b4a2618",
   "metadata": {},
   "outputs": [],
   "source": [
    "site_ncindices = (close_info['nc_xindex'], close_info['nc_yindex'])\n",
    "\n",
    "ncwvar='pr'\n",
    "model_ncfiles = sorted(glob.glob(os.path.join('.', 'precip', 'pr_'+mymodel+'*.nc')))\n",
    "\n",
    "if limited_files==True:\n",
    "    model_ncfiles = model_ncfiles[0:2]+model_ncfiles[-2:] #HACK => just to limit to a few precip files\n",
    "\n",
    "current_ncfiles = [i for i in model_ncfiles if int(i[-13:-9])<2023]\n",
    "future_ncfiles = [i for i in model_ncfiles if int(i[-13:-9])>2023]\n",
    "\n",
    "#lists below are of len()=current_/future_ncfiles...one array per file inside the list\n",
    "timelistprecip_current, preciplist_current = main.make_ordered_time_weather_lists(current_ncfiles, site_ncindices, ncwvar)\n",
    "timelistprecip_future, preciplist_future = main.make_ordered_time_weather_lists(future_ncfiles, site_ncindices, ncwvar)"
   ]
  },
  {
   "cell_type": "code",
   "execution_count": 6,
   "id": "2b371faf",
   "metadata": {},
   "outputs": [
    {
     "name": "stdout",
     "output_type": "stream",
     "text": [
      "timelistprecip_current \n",
      " [array([1.250000e-01, 2.500000e-01, 3.750000e-01, ..., 1.094750e+03,\n",
      "       1.094875e+03, 1.095000e+03]), array([1095.125, 1095.25 , 1095.375, ..., 2919.75 , 2919.875, 2920.   ])]\n",
      "\n",
      "preciplist_current \n",
      " [array([0.0000000e+00, 0.0000000e+00, 0.0000000e+00, ..., 5.9811285e-08,\n",
      "       0.0000000e+00, 1.9657066e-06], dtype=float32), array([1.8542744e-06, 8.6738510e-07, 7.5471968e-07, ..., 2.9510959e-06,\n",
      "       3.4547460e-07, 0.0000000e+00], dtype=float32)]\n",
      "\n",
      "timelistprecip_future \n",
      " [array([33945.125, 33945.25 , 33945.375, ..., 35769.75 , 35769.875,\n",
      "       35770.   ]), array([35770.125, 35770.25 , 35770.375, ..., 37594.75 , 37594.875,\n",
      "       37595.   ])]\n",
      "\n",
      "preciplist_future \n",
      " [array([0., 0., 0., ..., 0., 0., 0.], dtype=float32), array([0., 0., 0., ..., 0., 0., 0.], dtype=float32)]\n"
     ]
    }
   ],
   "source": [
    "print('timelistprecip_current \\n',timelistprecip_current)\n",
    "print()\n",
    "print('preciplist_current \\n', preciplist_current)\n",
    "print()\n",
    "print('timelistprecip_future \\n', timelistprecip_future)\n",
    "print()\n",
    "print('preciplist_future \\n', preciplist_future)"
   ]
  },
  {
   "cell_type": "markdown",
   "id": "5a215523",
   "metadata": {},
   "source": [
    "### Wind Files"
   ]
  },
  {
   "cell_type": "markdown",
   "id": "c5ae1333",
   "metadata": {},
   "source": [
    "#### uas"
   ]
  },
  {
   "cell_type": "code",
   "execution_count": 7,
   "id": "94302e79",
   "metadata": {},
   "outputs": [],
   "source": [
    "ncwvar='uas'\n",
    "model_ncfiles = sorted(glob.glob(os.path.join('.', 'wind', ncwvar+'_'+mymodel+'*.nc')))\n",
    "\n",
    "if limited_files==True:\n",
    "    model_ncfiles = model_ncfiles[0:2]+model_ncfiles[-2:] # HACK => just to limit to a few precip files\n",
    "\n",
    "current_ncfiles = [i for i in model_ncfiles if int(i[-13:-9])<2023]\n",
    "future_ncfiles = [i for i in model_ncfiles if int(i[-13:-9])>2023]\n",
    "\n",
    "timelistuas_current, uaslist_current = main.make_ordered_time_weather_lists(current_ncfiles, site_ncindices, ncwvar)\n",
    "timelistuas_future, uaslist_future = main.make_ordered_time_weather_lists(future_ncfiles, site_ncindices, ncwvar)"
   ]
  },
  {
   "cell_type": "code",
   "execution_count": 8,
   "id": "98eef29a",
   "metadata": {},
   "outputs": [
    {
     "name": "stdout",
     "output_type": "stream",
     "text": [
      "timelistuas_current \n",
      " [array([1.250000e-01, 2.500000e-01, 3.750000e-01, ..., 1.094750e+03,\n",
      "       1.094875e+03, 1.095000e+03]), array([1095.125, 1095.25 , 1095.375, ..., 2919.75 , 2919.875, 2920.   ])]\n",
      "\n",
      "uaslist_current \n",
      " [array([ 4.0351562,  4.408203 ,  3.8330078, ..., -1.1181641, -0.6425781,\n",
      "       -0.234375 ], dtype=float32), array([ 0.24902344,  0.40820312,  0.27148438, ..., -0.53515625,\n",
      "       -0.9189453 , -1.2929688 ], dtype=float32)]\n",
      "\n",
      "timelistuas_future \n",
      " [array([33945.125, 33945.25 , 33945.375, ..., 35769.75 , 35769.875,\n",
      "       35770.   ]), array([35770.125, 35770.25 , 35770.375, ..., 37594.75 , 37594.875,\n",
      "       37595.   ])]\n",
      "\n",
      "uaslist_future \n",
      " [array([-0.9091797 ,  0.75878906,  3.4951172 , ...,  5.071289  ,\n",
      "        3.8701172 ,  2.196289  ], dtype=float32), array([1.5957031 , 0.7060547 , 0.28027344, ..., 2.4726562 , 0.9013672 ,\n",
      "       0.6699219 ], dtype=float32)]\n"
     ]
    }
   ],
   "source": [
    "print('timelistuas_current \\n', timelistuas_current)\n",
    "print()\n",
    "print('uaslist_current \\n', uaslist_current)\n",
    "print()\n",
    "print('timelistuas_future \\n', timelistuas_future)\n",
    "print()\n",
    "print('uaslist_future \\n', uaslist_future)"
   ]
  },
  {
   "cell_type": "markdown",
   "id": "0e7219e8",
   "metadata": {},
   "source": [
    "#### vas"
   ]
  },
  {
   "cell_type": "code",
   "execution_count": 9,
   "id": "c06fca64",
   "metadata": {},
   "outputs": [],
   "source": [
    "ncwvar='vas'\n",
    "model_ncfiles = sorted(glob.glob(os.path.join('.', 'wind', ncwvar+'_'+mymodel+'*.nc')))\n",
    "\n",
    "if limited_files==True:\n",
    "    model_ncfiles = model_ncfiles[0:2]+model_ncfiles[-2:] # HACK => just to limit to a few precip files\n",
    "\n",
    "current_ncfiles = [i for i in model_ncfiles if int(i[-13:-9])<2023]\n",
    "future_ncfiles = [i for i in model_ncfiles if int(i[-13:-9])>2023]\n",
    "\n",
    "timelistvas_current, vaslist_current = main.make_ordered_time_weather_lists(current_ncfiles, site_ncindices, ncwvar)\n",
    "timelistvas_future, vaslist_future = main.make_ordered_time_weather_lists(future_ncfiles, site_ncindices, ncwvar)"
   ]
  },
  {
   "cell_type": "code",
   "execution_count": 10,
   "id": "1fd0f41e",
   "metadata": {},
   "outputs": [
    {
     "name": "stdout",
     "output_type": "stream",
     "text": [
      "timelistvas_current \n",
      " [array([1.250000e-01, 2.500000e-01, 3.750000e-01, ..., 1.094750e+03,\n",
      "       1.094875e+03, 1.095000e+03]), array([1095.125, 1095.25 , 1095.375, ..., 2919.75 , 2919.875, 2920.   ])]\n",
      "\n",
      "vaslist_current \n",
      " [array([ 0.23730469, -4.248047  , -4.8876953 , ...,  1.1572266 ,\n",
      "        2.1845703 , -0.1328125 ], dtype=float32), array([-0.4169922, -1.0898438, -1.3867188, ...,  3.7919922,  4.0878906,\n",
      "        3.0205078], dtype=float32)]\n",
      "\n",
      "timelistvas_future \n",
      " [array([33945.125, 33945.25 , 33945.375, ..., 35769.75 , 35769.875,\n",
      "       35770.   ]), array([35770.125, 35770.25 , 35770.375, ..., 37594.75 , 37594.875,\n",
      "       37595.   ])]\n",
      "\n",
      "vaslist_future \n",
      " [array([ 6.163086 ,  7.333008 ,  5.723633 , ..., -6.970703 , -7.1796875,\n",
      "       -2.959961 ], dtype=float32), array([-0.2626953,  1.5195312,  3.3154297, ..., -8.296875 , -8.290039 ,\n",
      "       -4.3916016], dtype=float32)]\n"
     ]
    }
   ],
   "source": [
    "print('timelistvas_current \\n', timelistvas_current)\n",
    "print()\n",
    "print('vaslist_current \\n', vaslist_current)\n",
    "print()\n",
    "print('timelistvas_future \\n', timelistvas_future)\n",
    "print()\n",
    "print('vaslist_future \\n', vaslist_future)"
   ]
  },
  {
   "cell_type": "markdown",
   "id": "f1a84464",
   "metadata": {},
   "source": [
    " "
   ]
  },
  {
   "cell_type": "markdown",
   "id": "09e3ea7a",
   "metadata": {},
   "source": [
    "# Creating Time-Weather Data Frames"
   ]
  },
  {
   "cell_type": "markdown",
   "id": "9a1fa85c",
   "metadata": {},
   "source": [
    "### Precipitation"
   ]
  },
  {
   "cell_type": "code",
   "execution_count": 11,
   "id": "4797186a",
   "metadata": {},
   "outputs": [],
   "source": [
    "start_time1 = \"1968-01-01 00:00:00\"\n",
    "start_time2 = \"2038-01-01 00:00:00\" #used for converting all \"future\" time-deltas (as provided by the NARCCAP files), except for HRM3-based climate models which use start_time1\n",
    "\n",
    "wvar='precip'\n",
    "tint = 3 #hours\n",
    "tvar = 'time'"
   ]
  },
  {
   "cell_type": "code",
   "execution_count": 12,
   "id": "bd67b430",
   "metadata": {},
   "outputs": [],
   "source": [
    "timeprecipDF_current = main.timedelta_to_continuous_w_weather(timelistprecip_current, \n",
    "                                                          preciplist_current, \n",
    "                                                          wvar=wvar, \n",
    "                                                          start_time=start_time1, \n",
    "                                                          start_time_format=\"%Y-%m-%d %H:%M:%S\", \n",
    "                                                          td_unit='days')\n",
    "\n",
    "timeprecipDF_future = main.timedelta_to_continuous_w_weather(timelistprecip_future,\n",
    "                                                         preciplist_future,\n",
    "                                                         wvar=wvar,\n",
    "                                                         start_time=start_time1,\n",
    "                                                         start_time_format=\"%Y-%m-%d %H:%M:%S\",\n",
    "                                                         td_unit='days')\n",
    "\n"
   ]
  },
  {
   "cell_type": "code",
   "execution_count": 13,
   "id": "4e6da81d",
   "metadata": {},
   "outputs": [
    {
     "data": {
      "text/plain": [
       "'timeprecipDF_current'"
      ]
     },
     "metadata": {},
     "output_type": "display_data"
    },
    {
     "data": {
      "text/html": [
       "<div>\n",
       "<style scoped>\n",
       "    .dataframe tbody tr th:only-of-type {\n",
       "        vertical-align: middle;\n",
       "    }\n",
       "\n",
       "    .dataframe tbody tr th {\n",
       "        vertical-align: top;\n",
       "    }\n",
       "\n",
       "    .dataframe thead th {\n",
       "        text-align: right;\n",
       "    }\n",
       "</style>\n",
       "<table border=\"1\" class=\"dataframe\">\n",
       "  <thead>\n",
       "    <tr style=\"text-align: right;\">\n",
       "      <th></th>\n",
       "      <th>time</th>\n",
       "      <th>precip</th>\n",
       "    </tr>\n",
       "  </thead>\n",
       "  <tbody>\n",
       "    <tr>\n",
       "      <th>0</th>\n",
       "      <td>1968-01-01 03:00:00</td>\n",
       "      <td>0.000000e+00</td>\n",
       "    </tr>\n",
       "    <tr>\n",
       "      <th>1</th>\n",
       "      <td>1968-01-01 06:00:00</td>\n",
       "      <td>0.000000e+00</td>\n",
       "    </tr>\n",
       "    <tr>\n",
       "      <th>2</th>\n",
       "      <td>1968-01-01 09:00:00</td>\n",
       "      <td>0.000000e+00</td>\n",
       "    </tr>\n",
       "    <tr>\n",
       "      <th>3</th>\n",
       "      <td>1968-01-01 12:00:00</td>\n",
       "      <td>0.000000e+00</td>\n",
       "    </tr>\n",
       "    <tr>\n",
       "      <th>4</th>\n",
       "      <td>1968-01-01 15:00:00</td>\n",
       "      <td>0.000000e+00</td>\n",
       "    </tr>\n",
       "    <tr>\n",
       "      <th>...</th>\n",
       "      <td>...</td>\n",
       "      <td>...</td>\n",
       "    </tr>\n",
       "    <tr>\n",
       "      <th>23355</th>\n",
       "      <td>1975-12-29 12:00:00</td>\n",
       "      <td>1.605780e-07</td>\n",
       "    </tr>\n",
       "    <tr>\n",
       "      <th>23356</th>\n",
       "      <td>1975-12-29 15:00:00</td>\n",
       "      <td>1.067054e-06</td>\n",
       "    </tr>\n",
       "    <tr>\n",
       "      <th>23357</th>\n",
       "      <td>1975-12-29 18:00:00</td>\n",
       "      <td>2.951096e-06</td>\n",
       "    </tr>\n",
       "    <tr>\n",
       "      <th>23358</th>\n",
       "      <td>1975-12-29 21:00:00</td>\n",
       "      <td>3.454746e-07</td>\n",
       "    </tr>\n",
       "    <tr>\n",
       "      <th>23359</th>\n",
       "      <td>1975-12-30 00:00:00</td>\n",
       "      <td>0.000000e+00</td>\n",
       "    </tr>\n",
       "  </tbody>\n",
       "</table>\n",
       "<p>23360 rows × 2 columns</p>\n",
       "</div>"
      ],
      "text/plain": [
       "                     time        precip\n",
       "0     1968-01-01 03:00:00  0.000000e+00\n",
       "1     1968-01-01 06:00:00  0.000000e+00\n",
       "2     1968-01-01 09:00:00  0.000000e+00\n",
       "3     1968-01-01 12:00:00  0.000000e+00\n",
       "4     1968-01-01 15:00:00  0.000000e+00\n",
       "...                   ...           ...\n",
       "23355 1975-12-29 12:00:00  1.605780e-07\n",
       "23356 1975-12-29 15:00:00  1.067054e-06\n",
       "23357 1975-12-29 18:00:00  2.951096e-06\n",
       "23358 1975-12-29 21:00:00  3.454746e-07\n",
       "23359 1975-12-30 00:00:00  0.000000e+00\n",
       "\n",
       "[23360 rows x 2 columns]"
      ]
     },
     "metadata": {},
     "output_type": "display_data"
    },
    {
     "name": "stdout",
     "output_type": "stream",
     "text": [
      "\n"
     ]
    },
    {
     "data": {
      "text/plain": [
       "'timeprecipDF_future'"
      ]
     },
     "metadata": {},
     "output_type": "display_data"
    },
    {
     "data": {
      "text/html": [
       "<div>\n",
       "<style scoped>\n",
       "    .dataframe tbody tr th:only-of-type {\n",
       "        vertical-align: middle;\n",
       "    }\n",
       "\n",
       "    .dataframe tbody tr th {\n",
       "        vertical-align: top;\n",
       "    }\n",
       "\n",
       "    .dataframe thead th {\n",
       "        text-align: right;\n",
       "    }\n",
       "</style>\n",
       "<table border=\"1\" class=\"dataframe\">\n",
       "  <thead>\n",
       "    <tr style=\"text-align: right;\">\n",
       "      <th></th>\n",
       "      <th>time</th>\n",
       "      <th>precip</th>\n",
       "    </tr>\n",
       "  </thead>\n",
       "  <tbody>\n",
       "    <tr>\n",
       "      <th>0</th>\n",
       "      <td>2060-12-08 03:00:00</td>\n",
       "      <td>0.000000e+00</td>\n",
       "    </tr>\n",
       "    <tr>\n",
       "      <th>1</th>\n",
       "      <td>2060-12-08 06:00:00</td>\n",
       "      <td>0.000000e+00</td>\n",
       "    </tr>\n",
       "    <tr>\n",
       "      <th>2</th>\n",
       "      <td>2060-12-08 09:00:00</td>\n",
       "      <td>0.000000e+00</td>\n",
       "    </tr>\n",
       "    <tr>\n",
       "      <th>3</th>\n",
       "      <td>2060-12-08 12:00:00</td>\n",
       "      <td>0.000000e+00</td>\n",
       "    </tr>\n",
       "    <tr>\n",
       "      <th>4</th>\n",
       "      <td>2060-12-08 15:00:00</td>\n",
       "      <td>0.000000e+00</td>\n",
       "    </tr>\n",
       "    <tr>\n",
       "      <th>...</th>\n",
       "      <td>...</td>\n",
       "      <td>...</td>\n",
       "    </tr>\n",
       "    <tr>\n",
       "      <th>29195</th>\n",
       "      <td>2070-12-05 12:00:00</td>\n",
       "      <td>1.309955e-06</td>\n",
       "    </tr>\n",
       "    <tr>\n",
       "      <th>29196</th>\n",
       "      <td>2070-12-05 15:00:00</td>\n",
       "      <td>5.784288e-08</td>\n",
       "    </tr>\n",
       "    <tr>\n",
       "      <th>29197</th>\n",
       "      <td>2070-12-05 18:00:00</td>\n",
       "      <td>0.000000e+00</td>\n",
       "    </tr>\n",
       "    <tr>\n",
       "      <th>29198</th>\n",
       "      <td>2070-12-05 21:00:00</td>\n",
       "      <td>0.000000e+00</td>\n",
       "    </tr>\n",
       "    <tr>\n",
       "      <th>29199</th>\n",
       "      <td>2070-12-06 00:00:00</td>\n",
       "      <td>0.000000e+00</td>\n",
       "    </tr>\n",
       "  </tbody>\n",
       "</table>\n",
       "<p>29200 rows × 2 columns</p>\n",
       "</div>"
      ],
      "text/plain": [
       "                     time        precip\n",
       "0     2060-12-08 03:00:00  0.000000e+00\n",
       "1     2060-12-08 06:00:00  0.000000e+00\n",
       "2     2060-12-08 09:00:00  0.000000e+00\n",
       "3     2060-12-08 12:00:00  0.000000e+00\n",
       "4     2060-12-08 15:00:00  0.000000e+00\n",
       "...                   ...           ...\n",
       "29195 2070-12-05 12:00:00  1.309955e-06\n",
       "29196 2070-12-05 15:00:00  5.784288e-08\n",
       "29197 2070-12-05 18:00:00  0.000000e+00\n",
       "29198 2070-12-05 21:00:00  0.000000e+00\n",
       "29199 2070-12-06 00:00:00  0.000000e+00\n",
       "\n",
       "[29200 rows x 2 columns]"
      ]
     },
     "metadata": {},
     "output_type": "display_data"
    }
   ],
   "source": [
    "display('timeprecipDF_current', timeprecipDF_current)\n",
    "print()\n",
    "display('timeprecipDF_future', timeprecipDF_future)"
   ]
  },
  {
   "cell_type": "markdown",
   "id": "28117461",
   "metadata": {},
   "source": [
    "#### Converting precipitation data and creating data-frames with daily data"
   ]
  },
  {
   "cell_type": "code",
   "execution_count": 14,
   "id": "b5e124b2",
   "metadata": {},
   "outputs": [],
   "source": [
    "# Function below converts: (1) precip from kg/m^2-s to mm, and (2) the time/time-stamps to pure dates to aggregate daily data\n",
    "# Aggregating daily precip by summing\n",
    "#Note that time-stamps with NaNs are cleaned out of the data set here.\n",
    "aggfun='sum'\n",
    "precip_daily_current = main.convert_to_mm_daily(timeprecipDF_current, tint, tvar, wvar, aggfun)\n",
    "precip_daily_future = main.convert_to_mm_daily(timeprecipDF_future, tint, tvar, wvar, aggfun)"
   ]
  },
  {
   "cell_type": "code",
   "execution_count": 15,
   "id": "3c9fafef",
   "metadata": {},
   "outputs": [
    {
     "data": {
      "text/plain": [
       "'precip_daily_current'"
      ]
     },
     "metadata": {},
     "output_type": "display_data"
    },
    {
     "data": {
      "text/html": [
       "<div>\n",
       "<style scoped>\n",
       "    .dataframe tbody tr th:only-of-type {\n",
       "        vertical-align: middle;\n",
       "    }\n",
       "\n",
       "    .dataframe tbody tr th {\n",
       "        vertical-align: top;\n",
       "    }\n",
       "\n",
       "    .dataframe thead th {\n",
       "        text-align: right;\n",
       "    }\n",
       "</style>\n",
       "<table border=\"1\" class=\"dataframe\">\n",
       "  <thead>\n",
       "    <tr style=\"text-align: right;\">\n",
       "      <th></th>\n",
       "      <th>date</th>\n",
       "      <th>precip</th>\n",
       "    </tr>\n",
       "  </thead>\n",
       "  <tbody>\n",
       "    <tr>\n",
       "      <th>0</th>\n",
       "      <td>1968-01-01</td>\n",
       "      <td>0.000000</td>\n",
       "    </tr>\n",
       "    <tr>\n",
       "      <th>1</th>\n",
       "      <td>1968-01-02</td>\n",
       "      <td>0.000000</td>\n",
       "    </tr>\n",
       "    <tr>\n",
       "      <th>2</th>\n",
       "      <td>1968-01-03</td>\n",
       "      <td>0.000593</td>\n",
       "    </tr>\n",
       "    <tr>\n",
       "      <th>3</th>\n",
       "      <td>1968-01-04</td>\n",
       "      <td>9.973100</td>\n",
       "    </tr>\n",
       "    <tr>\n",
       "      <th>4</th>\n",
       "      <td>1968-01-05</td>\n",
       "      <td>0.007945</td>\n",
       "    </tr>\n",
       "    <tr>\n",
       "      <th>...</th>\n",
       "      <td>...</td>\n",
       "      <td>...</td>\n",
       "    </tr>\n",
       "    <tr>\n",
       "      <th>2916</th>\n",
       "      <td>1975-12-26</td>\n",
       "      <td>0.000000</td>\n",
       "    </tr>\n",
       "    <tr>\n",
       "      <th>2917</th>\n",
       "      <td>1975-12-27</td>\n",
       "      <td>0.000466</td>\n",
       "    </tr>\n",
       "    <tr>\n",
       "      <th>2918</th>\n",
       "      <td>1975-12-28</td>\n",
       "      <td>0.004117</td>\n",
       "    </tr>\n",
       "    <tr>\n",
       "      <th>2919</th>\n",
       "      <td>1975-12-29</td>\n",
       "      <td>0.049195</td>\n",
       "    </tr>\n",
       "    <tr>\n",
       "      <th>2920</th>\n",
       "      <td>1975-12-30</td>\n",
       "      <td>0.000000</td>\n",
       "    </tr>\n",
       "  </tbody>\n",
       "</table>\n",
       "<p>2921 rows × 2 columns</p>\n",
       "</div>"
      ],
      "text/plain": [
       "            date    precip\n",
       "0     1968-01-01  0.000000\n",
       "1     1968-01-02  0.000000\n",
       "2     1968-01-03  0.000593\n",
       "3     1968-01-04  9.973100\n",
       "4     1968-01-05  0.007945\n",
       "...          ...       ...\n",
       "2916  1975-12-26  0.000000\n",
       "2917  1975-12-27  0.000466\n",
       "2918  1975-12-28  0.004117\n",
       "2919  1975-12-29  0.049195\n",
       "2920  1975-12-30  0.000000\n",
       "\n",
       "[2921 rows x 2 columns]"
      ]
     },
     "metadata": {},
     "output_type": "display_data"
    },
    {
     "name": "stdout",
     "output_type": "stream",
     "text": [
      "\n"
     ]
    },
    {
     "data": {
      "text/plain": [
       "'precip_daily_future'"
      ]
     },
     "metadata": {},
     "output_type": "display_data"
    },
    {
     "data": {
      "text/html": [
       "<div>\n",
       "<style scoped>\n",
       "    .dataframe tbody tr th:only-of-type {\n",
       "        vertical-align: middle;\n",
       "    }\n",
       "\n",
       "    .dataframe tbody tr th {\n",
       "        vertical-align: top;\n",
       "    }\n",
       "\n",
       "    .dataframe thead th {\n",
       "        text-align: right;\n",
       "    }\n",
       "</style>\n",
       "<table border=\"1\" class=\"dataframe\">\n",
       "  <thead>\n",
       "    <tr style=\"text-align: right;\">\n",
       "      <th></th>\n",
       "      <th>date</th>\n",
       "      <th>precip</th>\n",
       "    </tr>\n",
       "  </thead>\n",
       "  <tbody>\n",
       "    <tr>\n",
       "      <th>0</th>\n",
       "      <td>2060-12-08</td>\n",
       "      <td>0.112108</td>\n",
       "    </tr>\n",
       "    <tr>\n",
       "      <th>1</th>\n",
       "      <td>2060-12-09</td>\n",
       "      <td>5.407188</td>\n",
       "    </tr>\n",
       "    <tr>\n",
       "      <th>2</th>\n",
       "      <td>2060-12-10</td>\n",
       "      <td>0.000000</td>\n",
       "    </tr>\n",
       "    <tr>\n",
       "      <th>3</th>\n",
       "      <td>2060-12-11</td>\n",
       "      <td>0.000000</td>\n",
       "    </tr>\n",
       "    <tr>\n",
       "      <th>4</th>\n",
       "      <td>2060-12-12</td>\n",
       "      <td>0.000000</td>\n",
       "    </tr>\n",
       "    <tr>\n",
       "      <th>...</th>\n",
       "      <td>...</td>\n",
       "      <td>...</td>\n",
       "    </tr>\n",
       "    <tr>\n",
       "      <th>3646</th>\n",
       "      <td>2070-12-02</td>\n",
       "      <td>0.000000</td>\n",
       "    </tr>\n",
       "    <tr>\n",
       "      <th>3647</th>\n",
       "      <td>2070-12-03</td>\n",
       "      <td>0.000000</td>\n",
       "    </tr>\n",
       "    <tr>\n",
       "      <th>3648</th>\n",
       "      <td>2070-12-04</td>\n",
       "      <td>0.020101</td>\n",
       "    </tr>\n",
       "    <tr>\n",
       "      <th>3649</th>\n",
       "      <td>2070-12-05</td>\n",
       "      <td>0.021532</td>\n",
       "    </tr>\n",
       "    <tr>\n",
       "      <th>3650</th>\n",
       "      <td>2070-12-06</td>\n",
       "      <td>0.000000</td>\n",
       "    </tr>\n",
       "  </tbody>\n",
       "</table>\n",
       "<p>3651 rows × 2 columns</p>\n",
       "</div>"
      ],
      "text/plain": [
       "            date    precip\n",
       "0     2060-12-08  0.112108\n",
       "1     2060-12-09  5.407188\n",
       "2     2060-12-10  0.000000\n",
       "3     2060-12-11  0.000000\n",
       "4     2060-12-12  0.000000\n",
       "...          ...       ...\n",
       "3646  2070-12-02  0.000000\n",
       "3647  2070-12-03  0.000000\n",
       "3648  2070-12-04  0.020101\n",
       "3649  2070-12-05  0.021532\n",
       "3650  2070-12-06  0.000000\n",
       "\n",
       "[3651 rows x 2 columns]"
      ]
     },
     "metadata": {},
     "output_type": "display_data"
    }
   ],
   "source": [
    "display('precip_daily_current', precip_daily_current)\n",
    "print()\n",
    "display('precip_daily_future', precip_daily_future)"
   ]
  },
  {
   "cell_type": "markdown",
   "id": "d1aaaf2f",
   "metadata": {},
   "source": [
    "### Wind"
   ]
  },
  {
   "cell_type": "code",
   "execution_count": 16,
   "id": "60822cbc",
   "metadata": {},
   "outputs": [],
   "source": [
    "wvar1 = 'uas'\n",
    "wvar2 = 'var'\n",
    "wndvar = 'wind'"
   ]
  },
  {
   "cell_type": "markdown",
   "id": "f79eef69",
   "metadata": {},
   "source": [
    "#### uas"
   ]
  },
  {
   "cell_type": "code",
   "execution_count": 17,
   "id": "37a3eac8",
   "metadata": {},
   "outputs": [],
   "source": [
    "timeuasDF_current = main.timedelta_to_continuous_w_weather(timelistuas_current, \n",
    "                                                          uaslist_current, \n",
    "                                                          wvar=wvar1, \n",
    "                                                          start_time=start_time1, \n",
    "                                                          start_time_format=\"%Y-%m-%d %H:%M:%S\", \n",
    "                                                          td_unit='days')\n",
    "\n",
    "timeuasDF_future = main.timedelta_to_continuous_w_weather(timelistuas_future,\n",
    "                                                         uaslist_future,\n",
    "                                                         wvar=wvar1,\n",
    "                                                         start_time=start_time1,\n",
    "                                                         start_time_format=\"%Y-%m-%d %H:%M:%S\",\n",
    "                                                         td_unit='days')\n",
    "\n"
   ]
  },
  {
   "cell_type": "code",
   "execution_count": 18,
   "id": "3c98a2bf",
   "metadata": {},
   "outputs": [
    {
     "data": {
      "text/plain": [
       "'timeuasDF_current'"
      ]
     },
     "metadata": {},
     "output_type": "display_data"
    },
    {
     "data": {
      "text/html": [
       "<div>\n",
       "<style scoped>\n",
       "    .dataframe tbody tr th:only-of-type {\n",
       "        vertical-align: middle;\n",
       "    }\n",
       "\n",
       "    .dataframe tbody tr th {\n",
       "        vertical-align: top;\n",
       "    }\n",
       "\n",
       "    .dataframe thead th {\n",
       "        text-align: right;\n",
       "    }\n",
       "</style>\n",
       "<table border=\"1\" class=\"dataframe\">\n",
       "  <thead>\n",
       "    <tr style=\"text-align: right;\">\n",
       "      <th></th>\n",
       "      <th>time</th>\n",
       "      <th>uas</th>\n",
       "    </tr>\n",
       "  </thead>\n",
       "  <tbody>\n",
       "    <tr>\n",
       "      <th>0</th>\n",
       "      <td>1968-01-01 03:00:00</td>\n",
       "      <td>4.035156</td>\n",
       "    </tr>\n",
       "    <tr>\n",
       "      <th>1</th>\n",
       "      <td>1968-01-01 06:00:00</td>\n",
       "      <td>4.408203</td>\n",
       "    </tr>\n",
       "    <tr>\n",
       "      <th>2</th>\n",
       "      <td>1968-01-01 09:00:00</td>\n",
       "      <td>3.833008</td>\n",
       "    </tr>\n",
       "    <tr>\n",
       "      <th>3</th>\n",
       "      <td>1968-01-01 12:00:00</td>\n",
       "      <td>3.728516</td>\n",
       "    </tr>\n",
       "    <tr>\n",
       "      <th>4</th>\n",
       "      <td>1968-01-01 15:00:00</td>\n",
       "      <td>3.681641</td>\n",
       "    </tr>\n",
       "    <tr>\n",
       "      <th>...</th>\n",
       "      <td>...</td>\n",
       "      <td>...</td>\n",
       "    </tr>\n",
       "    <tr>\n",
       "      <th>23355</th>\n",
       "      <td>1975-12-29 12:00:00</td>\n",
       "      <td>0.523438</td>\n",
       "    </tr>\n",
       "    <tr>\n",
       "      <th>23356</th>\n",
       "      <td>1975-12-29 15:00:00</td>\n",
       "      <td>-0.752930</td>\n",
       "    </tr>\n",
       "    <tr>\n",
       "      <th>23357</th>\n",
       "      <td>1975-12-29 18:00:00</td>\n",
       "      <td>-0.535156</td>\n",
       "    </tr>\n",
       "    <tr>\n",
       "      <th>23358</th>\n",
       "      <td>1975-12-29 21:00:00</td>\n",
       "      <td>-0.918945</td>\n",
       "    </tr>\n",
       "    <tr>\n",
       "      <th>23359</th>\n",
       "      <td>1975-12-30 00:00:00</td>\n",
       "      <td>-1.292969</td>\n",
       "    </tr>\n",
       "  </tbody>\n",
       "</table>\n",
       "<p>23360 rows × 2 columns</p>\n",
       "</div>"
      ],
      "text/plain": [
       "                     time       uas\n",
       "0     1968-01-01 03:00:00  4.035156\n",
       "1     1968-01-01 06:00:00  4.408203\n",
       "2     1968-01-01 09:00:00  3.833008\n",
       "3     1968-01-01 12:00:00  3.728516\n",
       "4     1968-01-01 15:00:00  3.681641\n",
       "...                   ...       ...\n",
       "23355 1975-12-29 12:00:00  0.523438\n",
       "23356 1975-12-29 15:00:00 -0.752930\n",
       "23357 1975-12-29 18:00:00 -0.535156\n",
       "23358 1975-12-29 21:00:00 -0.918945\n",
       "23359 1975-12-30 00:00:00 -1.292969\n",
       "\n",
       "[23360 rows x 2 columns]"
      ]
     },
     "metadata": {},
     "output_type": "display_data"
    },
    {
     "name": "stdout",
     "output_type": "stream",
     "text": [
      "\n"
     ]
    },
    {
     "data": {
      "text/plain": [
       "'timeuasDF_future'"
      ]
     },
     "metadata": {},
     "output_type": "display_data"
    },
    {
     "data": {
      "text/html": [
       "<div>\n",
       "<style scoped>\n",
       "    .dataframe tbody tr th:only-of-type {\n",
       "        vertical-align: middle;\n",
       "    }\n",
       "\n",
       "    .dataframe tbody tr th {\n",
       "        vertical-align: top;\n",
       "    }\n",
       "\n",
       "    .dataframe thead th {\n",
       "        text-align: right;\n",
       "    }\n",
       "</style>\n",
       "<table border=\"1\" class=\"dataframe\">\n",
       "  <thead>\n",
       "    <tr style=\"text-align: right;\">\n",
       "      <th></th>\n",
       "      <th>time</th>\n",
       "      <th>uas</th>\n",
       "    </tr>\n",
       "  </thead>\n",
       "  <tbody>\n",
       "    <tr>\n",
       "      <th>0</th>\n",
       "      <td>2060-12-08 03:00:00</td>\n",
       "      <td>-0.909180</td>\n",
       "    </tr>\n",
       "    <tr>\n",
       "      <th>1</th>\n",
       "      <td>2060-12-08 06:00:00</td>\n",
       "      <td>0.758789</td>\n",
       "    </tr>\n",
       "    <tr>\n",
       "      <th>2</th>\n",
       "      <td>2060-12-08 09:00:00</td>\n",
       "      <td>3.495117</td>\n",
       "    </tr>\n",
       "    <tr>\n",
       "      <th>3</th>\n",
       "      <td>2060-12-08 12:00:00</td>\n",
       "      <td>4.200195</td>\n",
       "    </tr>\n",
       "    <tr>\n",
       "      <th>4</th>\n",
       "      <td>2060-12-08 15:00:00</td>\n",
       "      <td>4.346680</td>\n",
       "    </tr>\n",
       "    <tr>\n",
       "      <th>...</th>\n",
       "      <td>...</td>\n",
       "      <td>...</td>\n",
       "    </tr>\n",
       "    <tr>\n",
       "      <th>29195</th>\n",
       "      <td>2070-12-05 12:00:00</td>\n",
       "      <td>2.969727</td>\n",
       "    </tr>\n",
       "    <tr>\n",
       "      <th>29196</th>\n",
       "      <td>2070-12-05 15:00:00</td>\n",
       "      <td>3.286133</td>\n",
       "    </tr>\n",
       "    <tr>\n",
       "      <th>29197</th>\n",
       "      <td>2070-12-05 18:00:00</td>\n",
       "      <td>2.472656</td>\n",
       "    </tr>\n",
       "    <tr>\n",
       "      <th>29198</th>\n",
       "      <td>2070-12-05 21:00:00</td>\n",
       "      <td>0.901367</td>\n",
       "    </tr>\n",
       "    <tr>\n",
       "      <th>29199</th>\n",
       "      <td>2070-12-06 00:00:00</td>\n",
       "      <td>0.669922</td>\n",
       "    </tr>\n",
       "  </tbody>\n",
       "</table>\n",
       "<p>29200 rows × 2 columns</p>\n",
       "</div>"
      ],
      "text/plain": [
       "                     time       uas\n",
       "0     2060-12-08 03:00:00 -0.909180\n",
       "1     2060-12-08 06:00:00  0.758789\n",
       "2     2060-12-08 09:00:00  3.495117\n",
       "3     2060-12-08 12:00:00  4.200195\n",
       "4     2060-12-08 15:00:00  4.346680\n",
       "...                   ...       ...\n",
       "29195 2070-12-05 12:00:00  2.969727\n",
       "29196 2070-12-05 15:00:00  3.286133\n",
       "29197 2070-12-05 18:00:00  2.472656\n",
       "29198 2070-12-05 21:00:00  0.901367\n",
       "29199 2070-12-06 00:00:00  0.669922\n",
       "\n",
       "[29200 rows x 2 columns]"
      ]
     },
     "metadata": {},
     "output_type": "display_data"
    }
   ],
   "source": [
    "display('timeuasDF_current', timeuasDF_current)\n",
    "print()\n",
    "display('timeuasDF_future', timeuasDF_future)"
   ]
  },
  {
   "cell_type": "markdown",
   "id": "69e5f863",
   "metadata": {},
   "source": [
    "#### vas"
   ]
  },
  {
   "cell_type": "code",
   "execution_count": 19,
   "id": "189e1262",
   "metadata": {},
   "outputs": [],
   "source": [
    "timevasDF_current = main.timedelta_to_continuous_w_weather(timelistvas_current, \n",
    "                                                          vaslist_current, \n",
    "                                                          wvar=wvar2, \n",
    "                                                          start_time=start_time1, \n",
    "                                                          start_time_format=\"%Y-%m-%d %H:%M:%S\", \n",
    "                                                          td_unit='days')\n",
    "timevasDF_future = main.timedelta_to_continuous_w_weather(timelistvas_future,\n",
    "                                                         vaslist_future,\n",
    "                                                         wvar=wvar2,\n",
    "                                                         start_time=start_time1,\n",
    "                                                         start_time_format=\"%Y-%m-%d %H:%M:%S\",\n",
    "                                                         td_unit='days')\n"
   ]
  },
  {
   "cell_type": "code",
   "execution_count": 20,
   "id": "f5ebbdfa",
   "metadata": {},
   "outputs": [
    {
     "data": {
      "text/plain": [
       "'timevasDF_current'"
      ]
     },
     "metadata": {},
     "output_type": "display_data"
    },
    {
     "data": {
      "text/html": [
       "<div>\n",
       "<style scoped>\n",
       "    .dataframe tbody tr th:only-of-type {\n",
       "        vertical-align: middle;\n",
       "    }\n",
       "\n",
       "    .dataframe tbody tr th {\n",
       "        vertical-align: top;\n",
       "    }\n",
       "\n",
       "    .dataframe thead th {\n",
       "        text-align: right;\n",
       "    }\n",
       "</style>\n",
       "<table border=\"1\" class=\"dataframe\">\n",
       "  <thead>\n",
       "    <tr style=\"text-align: right;\">\n",
       "      <th></th>\n",
       "      <th>time</th>\n",
       "      <th>var</th>\n",
       "    </tr>\n",
       "  </thead>\n",
       "  <tbody>\n",
       "    <tr>\n",
       "      <th>0</th>\n",
       "      <td>1968-01-01 03:00:00</td>\n",
       "      <td>0.237305</td>\n",
       "    </tr>\n",
       "    <tr>\n",
       "      <th>1</th>\n",
       "      <td>1968-01-01 06:00:00</td>\n",
       "      <td>-4.248047</td>\n",
       "    </tr>\n",
       "    <tr>\n",
       "      <th>2</th>\n",
       "      <td>1968-01-01 09:00:00</td>\n",
       "      <td>-4.887695</td>\n",
       "    </tr>\n",
       "    <tr>\n",
       "      <th>3</th>\n",
       "      <td>1968-01-01 12:00:00</td>\n",
       "      <td>-3.521484</td>\n",
       "    </tr>\n",
       "    <tr>\n",
       "      <th>4</th>\n",
       "      <td>1968-01-01 15:00:00</td>\n",
       "      <td>-3.147461</td>\n",
       "    </tr>\n",
       "    <tr>\n",
       "      <th>...</th>\n",
       "      <td>...</td>\n",
       "      <td>...</td>\n",
       "    </tr>\n",
       "    <tr>\n",
       "      <th>23355</th>\n",
       "      <td>1975-12-29 12:00:00</td>\n",
       "      <td>0.085938</td>\n",
       "    </tr>\n",
       "    <tr>\n",
       "      <th>23356</th>\n",
       "      <td>1975-12-29 15:00:00</td>\n",
       "      <td>1.456055</td>\n",
       "    </tr>\n",
       "    <tr>\n",
       "      <th>23357</th>\n",
       "      <td>1975-12-29 18:00:00</td>\n",
       "      <td>3.791992</td>\n",
       "    </tr>\n",
       "    <tr>\n",
       "      <th>23358</th>\n",
       "      <td>1975-12-29 21:00:00</td>\n",
       "      <td>4.087891</td>\n",
       "    </tr>\n",
       "    <tr>\n",
       "      <th>23359</th>\n",
       "      <td>1975-12-30 00:00:00</td>\n",
       "      <td>3.020508</td>\n",
       "    </tr>\n",
       "  </tbody>\n",
       "</table>\n",
       "<p>23360 rows × 2 columns</p>\n",
       "</div>"
      ],
      "text/plain": [
       "                     time       var\n",
       "0     1968-01-01 03:00:00  0.237305\n",
       "1     1968-01-01 06:00:00 -4.248047\n",
       "2     1968-01-01 09:00:00 -4.887695\n",
       "3     1968-01-01 12:00:00 -3.521484\n",
       "4     1968-01-01 15:00:00 -3.147461\n",
       "...                   ...       ...\n",
       "23355 1975-12-29 12:00:00  0.085938\n",
       "23356 1975-12-29 15:00:00  1.456055\n",
       "23357 1975-12-29 18:00:00  3.791992\n",
       "23358 1975-12-29 21:00:00  4.087891\n",
       "23359 1975-12-30 00:00:00  3.020508\n",
       "\n",
       "[23360 rows x 2 columns]"
      ]
     },
     "metadata": {},
     "output_type": "display_data"
    },
    {
     "name": "stdout",
     "output_type": "stream",
     "text": [
      "\n"
     ]
    },
    {
     "data": {
      "text/plain": [
       "'timevasDF_future'"
      ]
     },
     "metadata": {},
     "output_type": "display_data"
    },
    {
     "data": {
      "text/html": [
       "<div>\n",
       "<style scoped>\n",
       "    .dataframe tbody tr th:only-of-type {\n",
       "        vertical-align: middle;\n",
       "    }\n",
       "\n",
       "    .dataframe tbody tr th {\n",
       "        vertical-align: top;\n",
       "    }\n",
       "\n",
       "    .dataframe thead th {\n",
       "        text-align: right;\n",
       "    }\n",
       "</style>\n",
       "<table border=\"1\" class=\"dataframe\">\n",
       "  <thead>\n",
       "    <tr style=\"text-align: right;\">\n",
       "      <th></th>\n",
       "      <th>time</th>\n",
       "      <th>var</th>\n",
       "    </tr>\n",
       "  </thead>\n",
       "  <tbody>\n",
       "    <tr>\n",
       "      <th>0</th>\n",
       "      <td>2060-12-08 03:00:00</td>\n",
       "      <td>6.163086</td>\n",
       "    </tr>\n",
       "    <tr>\n",
       "      <th>1</th>\n",
       "      <td>2060-12-08 06:00:00</td>\n",
       "      <td>7.333008</td>\n",
       "    </tr>\n",
       "    <tr>\n",
       "      <th>2</th>\n",
       "      <td>2060-12-08 09:00:00</td>\n",
       "      <td>5.723633</td>\n",
       "    </tr>\n",
       "    <tr>\n",
       "      <th>3</th>\n",
       "      <td>2060-12-08 12:00:00</td>\n",
       "      <td>4.126953</td>\n",
       "    </tr>\n",
       "    <tr>\n",
       "      <th>4</th>\n",
       "      <td>2060-12-08 15:00:00</td>\n",
       "      <td>3.658203</td>\n",
       "    </tr>\n",
       "    <tr>\n",
       "      <th>...</th>\n",
       "      <td>...</td>\n",
       "      <td>...</td>\n",
       "    </tr>\n",
       "    <tr>\n",
       "      <th>29195</th>\n",
       "      <td>2070-12-05 12:00:00</td>\n",
       "      <td>-3.588867</td>\n",
       "    </tr>\n",
       "    <tr>\n",
       "      <th>29196</th>\n",
       "      <td>2070-12-05 15:00:00</td>\n",
       "      <td>-4.671875</td>\n",
       "    </tr>\n",
       "    <tr>\n",
       "      <th>29197</th>\n",
       "      <td>2070-12-05 18:00:00</td>\n",
       "      <td>-8.296875</td>\n",
       "    </tr>\n",
       "    <tr>\n",
       "      <th>29198</th>\n",
       "      <td>2070-12-05 21:00:00</td>\n",
       "      <td>-8.290039</td>\n",
       "    </tr>\n",
       "    <tr>\n",
       "      <th>29199</th>\n",
       "      <td>2070-12-06 00:00:00</td>\n",
       "      <td>-4.391602</td>\n",
       "    </tr>\n",
       "  </tbody>\n",
       "</table>\n",
       "<p>29200 rows × 2 columns</p>\n",
       "</div>"
      ],
      "text/plain": [
       "                     time       var\n",
       "0     2060-12-08 03:00:00  6.163086\n",
       "1     2060-12-08 06:00:00  7.333008\n",
       "2     2060-12-08 09:00:00  5.723633\n",
       "3     2060-12-08 12:00:00  4.126953\n",
       "4     2060-12-08 15:00:00  3.658203\n",
       "...                   ...       ...\n",
       "29195 2070-12-05 12:00:00 -3.588867\n",
       "29196 2070-12-05 15:00:00 -4.671875\n",
       "29197 2070-12-05 18:00:00 -8.296875\n",
       "29198 2070-12-05 21:00:00 -8.290039\n",
       "29199 2070-12-06 00:00:00 -4.391602\n",
       "\n",
       "[29200 rows x 2 columns]"
      ]
     },
     "metadata": {},
     "output_type": "display_data"
    }
   ],
   "source": [
    "display('timevasDF_current', timevasDF_current)\n",
    "print()\n",
    "display('timevasDF_future', timevasDF_future)"
   ]
  },
  {
   "cell_type": "markdown",
   "id": "0a45b871",
   "metadata": {},
   "source": [
    "#### Converting directional-wind to wind-speed, then creating data frames with daily data"
   ]
  },
  {
   "cell_type": "code",
   "execution_count": 21,
   "id": "128af07a",
   "metadata": {},
   "outputs": [],
   "source": [
    "# Note that time-stamps with NaNs are cleaned out of the data set here.\n",
    "windDF_current = main.convert_uasvas_to_wind(timeuasDF_current, timevasDF_current, wvar1, wvar2, tvar, wndvar)\n",
    "windDF_future = main.convert_uasvas_to_wind(timeuasDF_future, timevasDF_future, wvar1, wvar2, tvar, wndvar)\n",
    "\n",
    "# Aggregating daily wind by taking a mean\n",
    "aggfun = 'mean'\n",
    "windDF_current_daily = main.convert_to_daily(windDF_current, tvar=tvar, aggfun=aggfun)\n",
    "windDF_future_daily = main.convert_to_daily(windDF_future, tvar=tvar, aggfun=aggfun)"
   ]
  },
  {
   "cell_type": "code",
   "execution_count": 22,
   "id": "45e9fff8",
   "metadata": {},
   "outputs": [
    {
     "data": {
      "text/plain": [
       "'windDF_current_daily'"
      ]
     },
     "metadata": {},
     "output_type": "display_data"
    },
    {
     "data": {
      "text/html": [
       "<div>\n",
       "<style scoped>\n",
       "    .dataframe tbody tr th:only-of-type {\n",
       "        vertical-align: middle;\n",
       "    }\n",
       "\n",
       "    .dataframe tbody tr th {\n",
       "        vertical-align: top;\n",
       "    }\n",
       "\n",
       "    .dataframe thead th {\n",
       "        text-align: right;\n",
       "    }\n",
       "</style>\n",
       "<table border=\"1\" class=\"dataframe\">\n",
       "  <thead>\n",
       "    <tr style=\"text-align: right;\">\n",
       "      <th></th>\n",
       "      <th>date</th>\n",
       "      <th>wind</th>\n",
       "    </tr>\n",
       "  </thead>\n",
       "  <tbody>\n",
       "    <tr>\n",
       "      <th>0</th>\n",
       "      <td>1968-01-01</td>\n",
       "      <td>5.054606</td>\n",
       "    </tr>\n",
       "    <tr>\n",
       "      <th>1</th>\n",
       "      <td>1968-01-02</td>\n",
       "      <td>3.217536</td>\n",
       "    </tr>\n",
       "    <tr>\n",
       "      <th>2</th>\n",
       "      <td>1968-01-03</td>\n",
       "      <td>2.146114</td>\n",
       "    </tr>\n",
       "    <tr>\n",
       "      <th>3</th>\n",
       "      <td>1968-01-04</td>\n",
       "      <td>9.218215</td>\n",
       "    </tr>\n",
       "    <tr>\n",
       "      <th>4</th>\n",
       "      <td>1968-01-05</td>\n",
       "      <td>6.627305</td>\n",
       "    </tr>\n",
       "    <tr>\n",
       "      <th>...</th>\n",
       "      <td>...</td>\n",
       "      <td>...</td>\n",
       "    </tr>\n",
       "    <tr>\n",
       "      <th>2916</th>\n",
       "      <td>1975-12-26</td>\n",
       "      <td>3.999542</td>\n",
       "    </tr>\n",
       "    <tr>\n",
       "      <th>2917</th>\n",
       "      <td>1975-12-27</td>\n",
       "      <td>4.212257</td>\n",
       "    </tr>\n",
       "    <tr>\n",
       "      <th>2918</th>\n",
       "      <td>1975-12-28</td>\n",
       "      <td>6.041313</td>\n",
       "    </tr>\n",
       "    <tr>\n",
       "      <th>2919</th>\n",
       "      <td>1975-12-29</td>\n",
       "      <td>2.463199</td>\n",
       "    </tr>\n",
       "    <tr>\n",
       "      <th>2920</th>\n",
       "      <td>1975-12-30</td>\n",
       "      <td>3.285610</td>\n",
       "    </tr>\n",
       "  </tbody>\n",
       "</table>\n",
       "<p>2921 rows × 2 columns</p>\n",
       "</div>"
      ],
      "text/plain": [
       "            date      wind\n",
       "0     1968-01-01  5.054606\n",
       "1     1968-01-02  3.217536\n",
       "2     1968-01-03  2.146114\n",
       "3     1968-01-04  9.218215\n",
       "4     1968-01-05  6.627305\n",
       "...          ...       ...\n",
       "2916  1975-12-26  3.999542\n",
       "2917  1975-12-27  4.212257\n",
       "2918  1975-12-28  6.041313\n",
       "2919  1975-12-29  2.463199\n",
       "2920  1975-12-30  3.285610\n",
       "\n",
       "[2921 rows x 2 columns]"
      ]
     },
     "metadata": {},
     "output_type": "display_data"
    },
    {
     "name": "stdout",
     "output_type": "stream",
     "text": [
      "\n"
     ]
    },
    {
     "data": {
      "text/plain": [
       "'windDF_future_daily'"
      ]
     },
     "metadata": {},
     "output_type": "display_data"
    },
    {
     "data": {
      "text/html": [
       "<div>\n",
       "<style scoped>\n",
       "    .dataframe tbody tr th:only-of-type {\n",
       "        vertical-align: middle;\n",
       "    }\n",
       "\n",
       "    .dataframe tbody tr th {\n",
       "        vertical-align: top;\n",
       "    }\n",
       "\n",
       "    .dataframe thead th {\n",
       "        text-align: right;\n",
       "    }\n",
       "</style>\n",
       "<table border=\"1\" class=\"dataframe\">\n",
       "  <thead>\n",
       "    <tr style=\"text-align: right;\">\n",
       "      <th></th>\n",
       "      <th>date</th>\n",
       "      <th>wind</th>\n",
       "    </tr>\n",
       "  </thead>\n",
       "  <tbody>\n",
       "    <tr>\n",
       "      <th>0</th>\n",
       "      <td>2060-12-08</td>\n",
       "      <td>6.079387</td>\n",
       "    </tr>\n",
       "    <tr>\n",
       "      <th>1</th>\n",
       "      <td>2060-12-09</td>\n",
       "      <td>7.594301</td>\n",
       "    </tr>\n",
       "    <tr>\n",
       "      <th>2</th>\n",
       "      <td>2060-12-10</td>\n",
       "      <td>3.982321</td>\n",
       "    </tr>\n",
       "    <tr>\n",
       "      <th>3</th>\n",
       "      <td>2060-12-11</td>\n",
       "      <td>6.199851</td>\n",
       "    </tr>\n",
       "    <tr>\n",
       "      <th>4</th>\n",
       "      <td>2060-12-12</td>\n",
       "      <td>9.371541</td>\n",
       "    </tr>\n",
       "    <tr>\n",
       "      <th>...</th>\n",
       "      <td>...</td>\n",
       "      <td>...</td>\n",
       "    </tr>\n",
       "    <tr>\n",
       "      <th>3646</th>\n",
       "      <td>2070-12-02</td>\n",
       "      <td>3.736952</td>\n",
       "    </tr>\n",
       "    <tr>\n",
       "      <th>3647</th>\n",
       "      <td>2070-12-03</td>\n",
       "      <td>5.652268</td>\n",
       "    </tr>\n",
       "    <tr>\n",
       "      <th>3648</th>\n",
       "      <td>2070-12-04</td>\n",
       "      <td>4.763923</td>\n",
       "    </tr>\n",
       "    <tr>\n",
       "      <th>3649</th>\n",
       "      <td>2070-12-05</td>\n",
       "      <td>5.769768</td>\n",
       "    </tr>\n",
       "    <tr>\n",
       "      <th>3650</th>\n",
       "      <td>2070-12-06</td>\n",
       "      <td>4.442405</td>\n",
       "    </tr>\n",
       "  </tbody>\n",
       "</table>\n",
       "<p>3651 rows × 2 columns</p>\n",
       "</div>"
      ],
      "text/plain": [
       "            date      wind\n",
       "0     2060-12-08  6.079387\n",
       "1     2060-12-09  7.594301\n",
       "2     2060-12-10  3.982321\n",
       "3     2060-12-11  6.199851\n",
       "4     2060-12-12  9.371541\n",
       "...          ...       ...\n",
       "3646  2070-12-02  3.736952\n",
       "3647  2070-12-03  5.652268\n",
       "3648  2070-12-04  4.763923\n",
       "3649  2070-12-05  5.769768\n",
       "3650  2070-12-06  4.442405\n",
       "\n",
       "[3651 rows x 2 columns]"
      ]
     },
     "metadata": {},
     "output_type": "display_data"
    }
   ],
   "source": [
    "display('windDF_current_daily', windDF_current_daily)\n",
    "print()\n",
    "display('windDF_future_daily', windDF_future_daily)"
   ]
  },
  {
   "cell_type": "markdown",
   "id": "597dfd05",
   "metadata": {},
   "source": [
    " "
   ]
  },
  {
   "cell_type": "markdown",
   "id": "4510ad8d",
   "metadata": {},
   "source": [
    "# Summary Statistics"
   ]
  },
  {
   "cell_type": "markdown",
   "id": "5194c4e3",
   "metadata": {},
   "source": [
    "### Precip"
   ]
  },
  {
   "cell_type": "code",
   "execution_count": 23,
   "id": "d98bc6ce",
   "metadata": {},
   "outputs": [],
   "source": [
    "precip_stats_current, precip_stats_future = main.summary_stat_fun(precip_daily_current, precip_daily_future, mymodel, site_name)"
   ]
  },
  {
   "cell_type": "code",
   "execution_count": 24,
   "id": "7edde0c3",
   "metadata": {},
   "outputs": [
    {
     "data": {
      "text/plain": [
       "'precip_stats_current'"
      ]
     },
     "metadata": {},
     "output_type": "display_data"
    },
    {
     "data": {
      "text/html": [
       "<div>\n",
       "<style scoped>\n",
       "    .dataframe tbody tr th:only-of-type {\n",
       "        vertical-align: middle;\n",
       "    }\n",
       "\n",
       "    .dataframe tbody tr th {\n",
       "        vertical-align: top;\n",
       "    }\n",
       "\n",
       "    .dataframe thead th {\n",
       "        text-align: right;\n",
       "    }\n",
       "</style>\n",
       "<table border=\"1\" class=\"dataframe\">\n",
       "  <thead>\n",
       "    <tr style=\"text-align: right;\">\n",
       "      <th></th>\n",
       "      <th>model</th>\n",
       "      <th>time_period</th>\n",
       "      <th>site_name</th>\n",
       "      <th>min</th>\n",
       "      <th>mean</th>\n",
       "      <th>max</th>\n",
       "      <th>sd</th>\n",
       "    </tr>\n",
       "  </thead>\n",
       "  <tbody>\n",
       "    <tr>\n",
       "      <th>0</th>\n",
       "      <td>HRM3_gfdl</td>\n",
       "      <td>current</td>\n",
       "      <td>Random_Site1</td>\n",
       "      <td>0.0</td>\n",
       "      <td>1.963922</td>\n",
       "      <td>101.214143</td>\n",
       "      <td>5.418582</td>\n",
       "    </tr>\n",
       "  </tbody>\n",
       "</table>\n",
       "</div>"
      ],
      "text/plain": [
       "       model time_period     site_name  min      mean         max        sd\n",
       "0  HRM3_gfdl     current  Random_Site1  0.0  1.963922  101.214143  5.418582"
      ]
     },
     "metadata": {},
     "output_type": "display_data"
    },
    {
     "name": "stdout",
     "output_type": "stream",
     "text": [
      "\n"
     ]
    },
    {
     "data": {
      "text/plain": [
       "'precip_stats_future'"
      ]
     },
     "metadata": {},
     "output_type": "display_data"
    },
    {
     "data": {
      "text/html": [
       "<div>\n",
       "<style scoped>\n",
       "    .dataframe tbody tr th:only-of-type {\n",
       "        vertical-align: middle;\n",
       "    }\n",
       "\n",
       "    .dataframe tbody tr th {\n",
       "        vertical-align: top;\n",
       "    }\n",
       "\n",
       "    .dataframe thead th {\n",
       "        text-align: right;\n",
       "    }\n",
       "</style>\n",
       "<table border=\"1\" class=\"dataframe\">\n",
       "  <thead>\n",
       "    <tr style=\"text-align: right;\">\n",
       "      <th></th>\n",
       "      <th>model</th>\n",
       "      <th>time_period</th>\n",
       "      <th>site_name</th>\n",
       "      <th>min</th>\n",
       "      <th>mean</th>\n",
       "      <th>max</th>\n",
       "      <th>sd</th>\n",
       "    </tr>\n",
       "  </thead>\n",
       "  <tbody>\n",
       "    <tr>\n",
       "      <th>0</th>\n",
       "      <td>HRM3_gfdl</td>\n",
       "      <td>future</td>\n",
       "      <td>Random_Site1</td>\n",
       "      <td>0.0</td>\n",
       "      <td>1.596438</td>\n",
       "      <td>72.449592</td>\n",
       "      <td>4.791262</td>\n",
       "    </tr>\n",
       "  </tbody>\n",
       "</table>\n",
       "</div>"
      ],
      "text/plain": [
       "       model time_period     site_name  min      mean        max        sd\n",
       "0  HRM3_gfdl      future  Random_Site1  0.0  1.596438  72.449592  4.791262"
      ]
     },
     "metadata": {},
     "output_type": "display_data"
    }
   ],
   "source": [
    "display('precip_stats_current', precip_stats_current)\n",
    "print()\n",
    "display('precip_stats_future', precip_stats_future)"
   ]
  },
  {
   "cell_type": "markdown",
   "id": "f4d7603d",
   "metadata": {},
   "source": [
    "### Wind "
   ]
  },
  {
   "cell_type": "code",
   "execution_count": 25,
   "id": "d554b977",
   "metadata": {},
   "outputs": [],
   "source": [
    "wind_stats_current, wind_stats_future = main.summary_stat_fun(windDF_current_daily, windDF_future_daily, mymodel, site_name)"
   ]
  },
  {
   "cell_type": "code",
   "execution_count": 26,
   "id": "a56148f7",
   "metadata": {},
   "outputs": [
    {
     "data": {
      "text/plain": [
       "'wind_stats_current'"
      ]
     },
     "metadata": {},
     "output_type": "display_data"
    },
    {
     "data": {
      "text/html": [
       "<div>\n",
       "<style scoped>\n",
       "    .dataframe tbody tr th:only-of-type {\n",
       "        vertical-align: middle;\n",
       "    }\n",
       "\n",
       "    .dataframe tbody tr th {\n",
       "        vertical-align: top;\n",
       "    }\n",
       "\n",
       "    .dataframe thead th {\n",
       "        text-align: right;\n",
       "    }\n",
       "</style>\n",
       "<table border=\"1\" class=\"dataframe\">\n",
       "  <thead>\n",
       "    <tr style=\"text-align: right;\">\n",
       "      <th></th>\n",
       "      <th>model</th>\n",
       "      <th>time_period</th>\n",
       "      <th>site_name</th>\n",
       "      <th>min</th>\n",
       "      <th>mean</th>\n",
       "      <th>max</th>\n",
       "      <th>sd</th>\n",
       "    </tr>\n",
       "  </thead>\n",
       "  <tbody>\n",
       "    <tr>\n",
       "      <th>0</th>\n",
       "      <td>HRM3_gfdl</td>\n",
       "      <td>current</td>\n",
       "      <td>Random_Site1</td>\n",
       "      <td>0.796433</td>\n",
       "      <td>5.278056</td>\n",
       "      <td>13.468797</td>\n",
       "      <td>2.001862</td>\n",
       "    </tr>\n",
       "  </tbody>\n",
       "</table>\n",
       "</div>"
      ],
      "text/plain": [
       "       model time_period     site_name       min      mean        max  \\\n",
       "0  HRM3_gfdl     current  Random_Site1  0.796433  5.278056  13.468797   \n",
       "\n",
       "         sd  \n",
       "0  2.001862  "
      ]
     },
     "metadata": {},
     "output_type": "display_data"
    },
    {
     "name": "stdout",
     "output_type": "stream",
     "text": [
      "\n"
     ]
    },
    {
     "data": {
      "text/plain": [
       "'wind_stats_future'"
      ]
     },
     "metadata": {},
     "output_type": "display_data"
    },
    {
     "data": {
      "text/html": [
       "<div>\n",
       "<style scoped>\n",
       "    .dataframe tbody tr th:only-of-type {\n",
       "        vertical-align: middle;\n",
       "    }\n",
       "\n",
       "    .dataframe tbody tr th {\n",
       "        vertical-align: top;\n",
       "    }\n",
       "\n",
       "    .dataframe thead th {\n",
       "        text-align: right;\n",
       "    }\n",
       "</style>\n",
       "<table border=\"1\" class=\"dataframe\">\n",
       "  <thead>\n",
       "    <tr style=\"text-align: right;\">\n",
       "      <th></th>\n",
       "      <th>model</th>\n",
       "      <th>time_period</th>\n",
       "      <th>site_name</th>\n",
       "      <th>min</th>\n",
       "      <th>mean</th>\n",
       "      <th>max</th>\n",
       "      <th>sd</th>\n",
       "    </tr>\n",
       "  </thead>\n",
       "  <tbody>\n",
       "    <tr>\n",
       "      <th>0</th>\n",
       "      <td>HRM3_gfdl</td>\n",
       "      <td>future</td>\n",
       "      <td>Random_Site1</td>\n",
       "      <td>1.056668</td>\n",
       "      <td>5.574485</td>\n",
       "      <td>13.698321</td>\n",
       "      <td>2.028621</td>\n",
       "    </tr>\n",
       "  </tbody>\n",
       "</table>\n",
       "</div>"
      ],
      "text/plain": [
       "       model time_period     site_name       min      mean        max  \\\n",
       "0  HRM3_gfdl      future  Random_Site1  1.056668  5.574485  13.698321   \n",
       "\n",
       "         sd  \n",
       "0  2.028621  "
      ]
     },
     "metadata": {},
     "output_type": "display_data"
    }
   ],
   "source": [
    "display('wind_stats_current', wind_stats_current)\n",
    "print()\n",
    "display('wind_stats_future', wind_stats_future)"
   ]
  },
  {
   "cell_type": "markdown",
   "id": "893e4ccb",
   "metadata": {},
   "source": [
    " "
   ]
  },
  {
   "cell_type": "markdown",
   "id": "2f49d378",
   "metadata": {},
   "source": [
    "# Extracting Annual Extremes"
   ]
  },
  {
   "cell_type": "code",
   "execution_count": 27,
   "id": "c0e187bb",
   "metadata": {},
   "outputs": [],
   "source": [
    "max_dict_rename_wind = {'wind':'MaxWind'}\n",
    "max_dict_rename_precip = {'precip':'MaxPrecip'}\n",
    "precipDF_current_AnnMax = main.get_annual_max(precip_daily_current, max_dict_rename_precip)\n",
    "precipDF_future_AnnMax = main.get_annual_max(precip_daily_future, max_dict_rename_precip)\n",
    "windDF_current_AnnMax = main.get_annual_max(windDF_current_daily, max_dict_rename_wind)\n",
    "windDF_future_AnnMax = main.get_annual_max(windDF_future_daily, max_dict_rename_wind)"
   ]
  },
  {
   "cell_type": "code",
   "execution_count": 28,
   "id": "838d5aad",
   "metadata": {},
   "outputs": [
    {
     "data": {
      "text/plain": [
       "'precipDF_current_AnnMax'"
      ]
     },
     "metadata": {},
     "output_type": "display_data"
    },
    {
     "data": {
      "text/html": [
       "<div>\n",
       "<style scoped>\n",
       "    .dataframe tbody tr th:only-of-type {\n",
       "        vertical-align: middle;\n",
       "    }\n",
       "\n",
       "    .dataframe tbody tr th {\n",
       "        vertical-align: top;\n",
       "    }\n",
       "\n",
       "    .dataframe thead th {\n",
       "        text-align: right;\n",
       "    }\n",
       "</style>\n",
       "<table border=\"1\" class=\"dataframe\">\n",
       "  <thead>\n",
       "    <tr style=\"text-align: right;\">\n",
       "      <th></th>\n",
       "      <th>year</th>\n",
       "      <th>MaxPrecip</th>\n",
       "    </tr>\n",
       "  </thead>\n",
       "  <tbody>\n",
       "    <tr>\n",
       "      <th>0</th>\n",
       "      <td>1968</td>\n",
       "      <td>42.501412</td>\n",
       "    </tr>\n",
       "    <tr>\n",
       "      <th>1</th>\n",
       "      <td>1969</td>\n",
       "      <td>36.700666</td>\n",
       "    </tr>\n",
       "    <tr>\n",
       "      <th>2</th>\n",
       "      <td>1970</td>\n",
       "      <td>44.083391</td>\n",
       "    </tr>\n",
       "    <tr>\n",
       "      <th>3</th>\n",
       "      <td>1971</td>\n",
       "      <td>48.588123</td>\n",
       "    </tr>\n",
       "    <tr>\n",
       "      <th>4</th>\n",
       "      <td>1972</td>\n",
       "      <td>55.536589</td>\n",
       "    </tr>\n",
       "    <tr>\n",
       "      <th>5</th>\n",
       "      <td>1973</td>\n",
       "      <td>38.216397</td>\n",
       "    </tr>\n",
       "    <tr>\n",
       "      <th>6</th>\n",
       "      <td>1974</td>\n",
       "      <td>35.312244</td>\n",
       "    </tr>\n",
       "    <tr>\n",
       "      <th>7</th>\n",
       "      <td>1975</td>\n",
       "      <td>101.214143</td>\n",
       "    </tr>\n",
       "  </tbody>\n",
       "</table>\n",
       "</div>"
      ],
      "text/plain": [
       "   year   MaxPrecip\n",
       "0  1968   42.501412\n",
       "1  1969   36.700666\n",
       "2  1970   44.083391\n",
       "3  1971   48.588123\n",
       "4  1972   55.536589\n",
       "5  1973   38.216397\n",
       "6  1974   35.312244\n",
       "7  1975  101.214143"
      ]
     },
     "metadata": {},
     "output_type": "display_data"
    },
    {
     "name": "stdout",
     "output_type": "stream",
     "text": [
      "\n"
     ]
    },
    {
     "data": {
      "text/plain": [
       "'precipDF_future_AnnMax'"
      ]
     },
     "metadata": {},
     "output_type": "display_data"
    },
    {
     "data": {
      "text/html": [
       "<div>\n",
       "<style scoped>\n",
       "    .dataframe tbody tr th:only-of-type {\n",
       "        vertical-align: middle;\n",
       "    }\n",
       "\n",
       "    .dataframe tbody tr th {\n",
       "        vertical-align: top;\n",
       "    }\n",
       "\n",
       "    .dataframe thead th {\n",
       "        text-align: right;\n",
       "    }\n",
       "</style>\n",
       "<table border=\"1\" class=\"dataframe\">\n",
       "  <thead>\n",
       "    <tr style=\"text-align: right;\">\n",
       "      <th></th>\n",
       "      <th>year</th>\n",
       "      <th>MaxPrecip</th>\n",
       "    </tr>\n",
       "  </thead>\n",
       "  <tbody>\n",
       "    <tr>\n",
       "      <th>0</th>\n",
       "      <td>2060</td>\n",
       "      <td>5.407188</td>\n",
       "    </tr>\n",
       "    <tr>\n",
       "      <th>1</th>\n",
       "      <td>2061</td>\n",
       "      <td>63.567408</td>\n",
       "    </tr>\n",
       "    <tr>\n",
       "      <th>2</th>\n",
       "      <td>2062</td>\n",
       "      <td>32.158403</td>\n",
       "    </tr>\n",
       "    <tr>\n",
       "      <th>3</th>\n",
       "      <td>2063</td>\n",
       "      <td>40.396189</td>\n",
       "    </tr>\n",
       "    <tr>\n",
       "      <th>4</th>\n",
       "      <td>2064</td>\n",
       "      <td>50.695827</td>\n",
       "    </tr>\n",
       "    <tr>\n",
       "      <th>5</th>\n",
       "      <td>2065</td>\n",
       "      <td>72.449592</td>\n",
       "    </tr>\n",
       "    <tr>\n",
       "      <th>6</th>\n",
       "      <td>2066</td>\n",
       "      <td>36.971072</td>\n",
       "    </tr>\n",
       "    <tr>\n",
       "      <th>7</th>\n",
       "      <td>2067</td>\n",
       "      <td>29.834021</td>\n",
       "    </tr>\n",
       "    <tr>\n",
       "      <th>8</th>\n",
       "      <td>2068</td>\n",
       "      <td>41.032275</td>\n",
       "    </tr>\n",
       "    <tr>\n",
       "      <th>9</th>\n",
       "      <td>2069</td>\n",
       "      <td>50.323830</td>\n",
       "    </tr>\n",
       "    <tr>\n",
       "      <th>10</th>\n",
       "      <td>2070</td>\n",
       "      <td>25.599456</td>\n",
       "    </tr>\n",
       "  </tbody>\n",
       "</table>\n",
       "</div>"
      ],
      "text/plain": [
       "    year  MaxPrecip\n",
       "0   2060   5.407188\n",
       "1   2061  63.567408\n",
       "2   2062  32.158403\n",
       "3   2063  40.396189\n",
       "4   2064  50.695827\n",
       "5   2065  72.449592\n",
       "6   2066  36.971072\n",
       "7   2067  29.834021\n",
       "8   2068  41.032275\n",
       "9   2069  50.323830\n",
       "10  2070  25.599456"
      ]
     },
     "metadata": {},
     "output_type": "display_data"
    }
   ],
   "source": [
    "display('precipDF_current_AnnMax', precipDF_current_AnnMax)\n",
    "print()\n",
    "display('precipDF_future_AnnMax', precipDF_future_AnnMax)"
   ]
  },
  {
   "cell_type": "code",
   "execution_count": 29,
   "id": "da4b5f71",
   "metadata": {},
   "outputs": [
    {
     "data": {
      "text/plain": [
       "'windDF_current_AnnMax'"
      ]
     },
     "metadata": {},
     "output_type": "display_data"
    },
    {
     "data": {
      "text/html": [
       "<div>\n",
       "<style scoped>\n",
       "    .dataframe tbody tr th:only-of-type {\n",
       "        vertical-align: middle;\n",
       "    }\n",
       "\n",
       "    .dataframe tbody tr th {\n",
       "        vertical-align: top;\n",
       "    }\n",
       "\n",
       "    .dataframe thead th {\n",
       "        text-align: right;\n",
       "    }\n",
       "</style>\n",
       "<table border=\"1\" class=\"dataframe\">\n",
       "  <thead>\n",
       "    <tr style=\"text-align: right;\">\n",
       "      <th></th>\n",
       "      <th>year</th>\n",
       "      <th>MaxWind</th>\n",
       "    </tr>\n",
       "  </thead>\n",
       "  <tbody>\n",
       "    <tr>\n",
       "      <th>0</th>\n",
       "      <td>1968</td>\n",
       "      <td>12.347503</td>\n",
       "    </tr>\n",
       "    <tr>\n",
       "      <th>1</th>\n",
       "      <td>1969</td>\n",
       "      <td>11.888755</td>\n",
       "    </tr>\n",
       "    <tr>\n",
       "      <th>2</th>\n",
       "      <td>1970</td>\n",
       "      <td>13.238945</td>\n",
       "    </tr>\n",
       "    <tr>\n",
       "      <th>3</th>\n",
       "      <td>1971</td>\n",
       "      <td>12.928904</td>\n",
       "    </tr>\n",
       "    <tr>\n",
       "      <th>4</th>\n",
       "      <td>1972</td>\n",
       "      <td>13.468797</td>\n",
       "    </tr>\n",
       "    <tr>\n",
       "      <th>5</th>\n",
       "      <td>1973</td>\n",
       "      <td>11.172457</td>\n",
       "    </tr>\n",
       "    <tr>\n",
       "      <th>6</th>\n",
       "      <td>1974</td>\n",
       "      <td>13.335457</td>\n",
       "    </tr>\n",
       "    <tr>\n",
       "      <th>7</th>\n",
       "      <td>1975</td>\n",
       "      <td>10.251927</td>\n",
       "    </tr>\n",
       "  </tbody>\n",
       "</table>\n",
       "</div>"
      ],
      "text/plain": [
       "   year    MaxWind\n",
       "0  1968  12.347503\n",
       "1  1969  11.888755\n",
       "2  1970  13.238945\n",
       "3  1971  12.928904\n",
       "4  1972  13.468797\n",
       "5  1973  11.172457\n",
       "6  1974  13.335457\n",
       "7  1975  10.251927"
      ]
     },
     "metadata": {},
     "output_type": "display_data"
    },
    {
     "name": "stdout",
     "output_type": "stream",
     "text": [
      "\n"
     ]
    },
    {
     "data": {
      "text/plain": [
       "'windDF_future_AnnMax'"
      ]
     },
     "metadata": {},
     "output_type": "display_data"
    },
    {
     "data": {
      "text/html": [
       "<div>\n",
       "<style scoped>\n",
       "    .dataframe tbody tr th:only-of-type {\n",
       "        vertical-align: middle;\n",
       "    }\n",
       "\n",
       "    .dataframe tbody tr th {\n",
       "        vertical-align: top;\n",
       "    }\n",
       "\n",
       "    .dataframe thead th {\n",
       "        text-align: right;\n",
       "    }\n",
       "</style>\n",
       "<table border=\"1\" class=\"dataframe\">\n",
       "  <thead>\n",
       "    <tr style=\"text-align: right;\">\n",
       "      <th></th>\n",
       "      <th>year</th>\n",
       "      <th>MaxWind</th>\n",
       "    </tr>\n",
       "  </thead>\n",
       "  <tbody>\n",
       "    <tr>\n",
       "      <th>0</th>\n",
       "      <td>2060</td>\n",
       "      <td>9.371541</td>\n",
       "    </tr>\n",
       "    <tr>\n",
       "      <th>1</th>\n",
       "      <td>2061</td>\n",
       "      <td>11.011634</td>\n",
       "    </tr>\n",
       "    <tr>\n",
       "      <th>2</th>\n",
       "      <td>2062</td>\n",
       "      <td>12.598370</td>\n",
       "    </tr>\n",
       "    <tr>\n",
       "      <th>3</th>\n",
       "      <td>2063</td>\n",
       "      <td>13.698321</td>\n",
       "    </tr>\n",
       "    <tr>\n",
       "      <th>4</th>\n",
       "      <td>2064</td>\n",
       "      <td>13.343469</td>\n",
       "    </tr>\n",
       "    <tr>\n",
       "      <th>5</th>\n",
       "      <td>2065</td>\n",
       "      <td>12.348142</td>\n",
       "    </tr>\n",
       "    <tr>\n",
       "      <th>6</th>\n",
       "      <td>2066</td>\n",
       "      <td>11.584583</td>\n",
       "    </tr>\n",
       "    <tr>\n",
       "      <th>7</th>\n",
       "      <td>2067</td>\n",
       "      <td>12.152034</td>\n",
       "    </tr>\n",
       "    <tr>\n",
       "      <th>8</th>\n",
       "      <td>2068</td>\n",
       "      <td>11.803428</td>\n",
       "    </tr>\n",
       "    <tr>\n",
       "      <th>9</th>\n",
       "      <td>2069</td>\n",
       "      <td>11.688226</td>\n",
       "    </tr>\n",
       "    <tr>\n",
       "      <th>10</th>\n",
       "      <td>2070</td>\n",
       "      <td>11.545067</td>\n",
       "    </tr>\n",
       "  </tbody>\n",
       "</table>\n",
       "</div>"
      ],
      "text/plain": [
       "    year    MaxWind\n",
       "0   2060   9.371541\n",
       "1   2061  11.011634\n",
       "2   2062  12.598370\n",
       "3   2063  13.698321\n",
       "4   2064  13.343469\n",
       "5   2065  12.348142\n",
       "6   2066  11.584583\n",
       "7   2067  12.152034\n",
       "8   2068  11.803428\n",
       "9   2069  11.688226\n",
       "10  2070  11.545067"
      ]
     },
     "metadata": {},
     "output_type": "display_data"
    }
   ],
   "source": [
    "display('windDF_current_AnnMax', windDF_current_AnnMax)\n",
    "print()\n",
    "display('windDF_future_AnnMax', windDF_future_AnnMax)"
   ]
  },
  {
   "cell_type": "markdown",
   "id": "a683793e",
   "metadata": {},
   "source": [
    "### Concatenating data frames for plotting purposes"
   ]
  },
  {
   "cell_type": "code",
   "execution_count": 30,
   "id": "ba3a39d4",
   "metadata": {},
   "outputs": [],
   "source": [
    "precip_plot_df = pd.concat([precipDF_current_AnnMax, precipDF_future_AnnMax])\n",
    "precip_plot_df.loc[:,'period'] = np.concatenate([np.repeat('current',len(precipDF_current_AnnMax)), np.repeat('future', len(precipDF_future_AnnMax))])\n",
    "\n",
    "wind_plot_df = pd.concat([windDF_current_AnnMax, windDF_future_AnnMax])\n",
    "wind_plot_df.loc[:,'period'] = np.concatenate([np.repeat('current',len(windDF_current_AnnMax)), np.repeat('future', len(windDF_future_AnnMax))])"
   ]
  },
  {
   "cell_type": "code",
   "execution_count": 31,
   "id": "1a4f3cb0",
   "metadata": {},
   "outputs": [
    {
     "data": {
      "text/plain": [
       "'precip_plot_df'"
      ]
     },
     "metadata": {},
     "output_type": "display_data"
    },
    {
     "data": {
      "text/html": [
       "<div>\n",
       "<style scoped>\n",
       "    .dataframe tbody tr th:only-of-type {\n",
       "        vertical-align: middle;\n",
       "    }\n",
       "\n",
       "    .dataframe tbody tr th {\n",
       "        vertical-align: top;\n",
       "    }\n",
       "\n",
       "    .dataframe thead th {\n",
       "        text-align: right;\n",
       "    }\n",
       "</style>\n",
       "<table border=\"1\" class=\"dataframe\">\n",
       "  <thead>\n",
       "    <tr style=\"text-align: right;\">\n",
       "      <th></th>\n",
       "      <th>year</th>\n",
       "      <th>MaxPrecip</th>\n",
       "      <th>period</th>\n",
       "    </tr>\n",
       "  </thead>\n",
       "  <tbody>\n",
       "    <tr>\n",
       "      <th>0</th>\n",
       "      <td>1968</td>\n",
       "      <td>42.501412</td>\n",
       "      <td>current</td>\n",
       "    </tr>\n",
       "    <tr>\n",
       "      <th>1</th>\n",
       "      <td>1969</td>\n",
       "      <td>36.700666</td>\n",
       "      <td>current</td>\n",
       "    </tr>\n",
       "    <tr>\n",
       "      <th>2</th>\n",
       "      <td>1970</td>\n",
       "      <td>44.083391</td>\n",
       "      <td>current</td>\n",
       "    </tr>\n",
       "    <tr>\n",
       "      <th>3</th>\n",
       "      <td>1971</td>\n",
       "      <td>48.588123</td>\n",
       "      <td>current</td>\n",
       "    </tr>\n",
       "    <tr>\n",
       "      <th>4</th>\n",
       "      <td>1972</td>\n",
       "      <td>55.536589</td>\n",
       "      <td>current</td>\n",
       "    </tr>\n",
       "    <tr>\n",
       "      <th>5</th>\n",
       "      <td>1973</td>\n",
       "      <td>38.216397</td>\n",
       "      <td>current</td>\n",
       "    </tr>\n",
       "    <tr>\n",
       "      <th>6</th>\n",
       "      <td>1974</td>\n",
       "      <td>35.312244</td>\n",
       "      <td>current</td>\n",
       "    </tr>\n",
       "    <tr>\n",
       "      <th>7</th>\n",
       "      <td>1975</td>\n",
       "      <td>101.214143</td>\n",
       "      <td>current</td>\n",
       "    </tr>\n",
       "    <tr>\n",
       "      <th>0</th>\n",
       "      <td>2060</td>\n",
       "      <td>5.407188</td>\n",
       "      <td>future</td>\n",
       "    </tr>\n",
       "    <tr>\n",
       "      <th>1</th>\n",
       "      <td>2061</td>\n",
       "      <td>63.567408</td>\n",
       "      <td>future</td>\n",
       "    </tr>\n",
       "    <tr>\n",
       "      <th>2</th>\n",
       "      <td>2062</td>\n",
       "      <td>32.158403</td>\n",
       "      <td>future</td>\n",
       "    </tr>\n",
       "    <tr>\n",
       "      <th>3</th>\n",
       "      <td>2063</td>\n",
       "      <td>40.396189</td>\n",
       "      <td>future</td>\n",
       "    </tr>\n",
       "    <tr>\n",
       "      <th>4</th>\n",
       "      <td>2064</td>\n",
       "      <td>50.695827</td>\n",
       "      <td>future</td>\n",
       "    </tr>\n",
       "    <tr>\n",
       "      <th>5</th>\n",
       "      <td>2065</td>\n",
       "      <td>72.449592</td>\n",
       "      <td>future</td>\n",
       "    </tr>\n",
       "    <tr>\n",
       "      <th>6</th>\n",
       "      <td>2066</td>\n",
       "      <td>36.971072</td>\n",
       "      <td>future</td>\n",
       "    </tr>\n",
       "    <tr>\n",
       "      <th>7</th>\n",
       "      <td>2067</td>\n",
       "      <td>29.834021</td>\n",
       "      <td>future</td>\n",
       "    </tr>\n",
       "    <tr>\n",
       "      <th>8</th>\n",
       "      <td>2068</td>\n",
       "      <td>41.032275</td>\n",
       "      <td>future</td>\n",
       "    </tr>\n",
       "    <tr>\n",
       "      <th>9</th>\n",
       "      <td>2069</td>\n",
       "      <td>50.323830</td>\n",
       "      <td>future</td>\n",
       "    </tr>\n",
       "    <tr>\n",
       "      <th>10</th>\n",
       "      <td>2070</td>\n",
       "      <td>25.599456</td>\n",
       "      <td>future</td>\n",
       "    </tr>\n",
       "  </tbody>\n",
       "</table>\n",
       "</div>"
      ],
      "text/plain": [
       "    year   MaxPrecip   period\n",
       "0   1968   42.501412  current\n",
       "1   1969   36.700666  current\n",
       "2   1970   44.083391  current\n",
       "3   1971   48.588123  current\n",
       "4   1972   55.536589  current\n",
       "5   1973   38.216397  current\n",
       "6   1974   35.312244  current\n",
       "7   1975  101.214143  current\n",
       "0   2060    5.407188   future\n",
       "1   2061   63.567408   future\n",
       "2   2062   32.158403   future\n",
       "3   2063   40.396189   future\n",
       "4   2064   50.695827   future\n",
       "5   2065   72.449592   future\n",
       "6   2066   36.971072   future\n",
       "7   2067   29.834021   future\n",
       "8   2068   41.032275   future\n",
       "9   2069   50.323830   future\n",
       "10  2070   25.599456   future"
      ]
     },
     "metadata": {},
     "output_type": "display_data"
    },
    {
     "name": "stdout",
     "output_type": "stream",
     "text": [
      "\n"
     ]
    },
    {
     "data": {
      "text/plain": [
       "'wind_plot_df'"
      ]
     },
     "metadata": {},
     "output_type": "display_data"
    },
    {
     "data": {
      "text/html": [
       "<div>\n",
       "<style scoped>\n",
       "    .dataframe tbody tr th:only-of-type {\n",
       "        vertical-align: middle;\n",
       "    }\n",
       "\n",
       "    .dataframe tbody tr th {\n",
       "        vertical-align: top;\n",
       "    }\n",
       "\n",
       "    .dataframe thead th {\n",
       "        text-align: right;\n",
       "    }\n",
       "</style>\n",
       "<table border=\"1\" class=\"dataframe\">\n",
       "  <thead>\n",
       "    <tr style=\"text-align: right;\">\n",
       "      <th></th>\n",
       "      <th>year</th>\n",
       "      <th>MaxWind</th>\n",
       "      <th>period</th>\n",
       "    </tr>\n",
       "  </thead>\n",
       "  <tbody>\n",
       "    <tr>\n",
       "      <th>0</th>\n",
       "      <td>1968</td>\n",
       "      <td>12.347503</td>\n",
       "      <td>current</td>\n",
       "    </tr>\n",
       "    <tr>\n",
       "      <th>1</th>\n",
       "      <td>1969</td>\n",
       "      <td>11.888755</td>\n",
       "      <td>current</td>\n",
       "    </tr>\n",
       "    <tr>\n",
       "      <th>2</th>\n",
       "      <td>1970</td>\n",
       "      <td>13.238945</td>\n",
       "      <td>current</td>\n",
       "    </tr>\n",
       "    <tr>\n",
       "      <th>3</th>\n",
       "      <td>1971</td>\n",
       "      <td>12.928904</td>\n",
       "      <td>current</td>\n",
       "    </tr>\n",
       "    <tr>\n",
       "      <th>4</th>\n",
       "      <td>1972</td>\n",
       "      <td>13.468797</td>\n",
       "      <td>current</td>\n",
       "    </tr>\n",
       "    <tr>\n",
       "      <th>5</th>\n",
       "      <td>1973</td>\n",
       "      <td>11.172457</td>\n",
       "      <td>current</td>\n",
       "    </tr>\n",
       "    <tr>\n",
       "      <th>6</th>\n",
       "      <td>1974</td>\n",
       "      <td>13.335457</td>\n",
       "      <td>current</td>\n",
       "    </tr>\n",
       "    <tr>\n",
       "      <th>7</th>\n",
       "      <td>1975</td>\n",
       "      <td>10.251927</td>\n",
       "      <td>current</td>\n",
       "    </tr>\n",
       "    <tr>\n",
       "      <th>0</th>\n",
       "      <td>2060</td>\n",
       "      <td>9.371541</td>\n",
       "      <td>future</td>\n",
       "    </tr>\n",
       "    <tr>\n",
       "      <th>1</th>\n",
       "      <td>2061</td>\n",
       "      <td>11.011634</td>\n",
       "      <td>future</td>\n",
       "    </tr>\n",
       "    <tr>\n",
       "      <th>2</th>\n",
       "      <td>2062</td>\n",
       "      <td>12.598370</td>\n",
       "      <td>future</td>\n",
       "    </tr>\n",
       "    <tr>\n",
       "      <th>3</th>\n",
       "      <td>2063</td>\n",
       "      <td>13.698321</td>\n",
       "      <td>future</td>\n",
       "    </tr>\n",
       "    <tr>\n",
       "      <th>4</th>\n",
       "      <td>2064</td>\n",
       "      <td>13.343469</td>\n",
       "      <td>future</td>\n",
       "    </tr>\n",
       "    <tr>\n",
       "      <th>5</th>\n",
       "      <td>2065</td>\n",
       "      <td>12.348142</td>\n",
       "      <td>future</td>\n",
       "    </tr>\n",
       "    <tr>\n",
       "      <th>6</th>\n",
       "      <td>2066</td>\n",
       "      <td>11.584583</td>\n",
       "      <td>future</td>\n",
       "    </tr>\n",
       "    <tr>\n",
       "      <th>7</th>\n",
       "      <td>2067</td>\n",
       "      <td>12.152034</td>\n",
       "      <td>future</td>\n",
       "    </tr>\n",
       "    <tr>\n",
       "      <th>8</th>\n",
       "      <td>2068</td>\n",
       "      <td>11.803428</td>\n",
       "      <td>future</td>\n",
       "    </tr>\n",
       "    <tr>\n",
       "      <th>9</th>\n",
       "      <td>2069</td>\n",
       "      <td>11.688226</td>\n",
       "      <td>future</td>\n",
       "    </tr>\n",
       "    <tr>\n",
       "      <th>10</th>\n",
       "      <td>2070</td>\n",
       "      <td>11.545067</td>\n",
       "      <td>future</td>\n",
       "    </tr>\n",
       "  </tbody>\n",
       "</table>\n",
       "</div>"
      ],
      "text/plain": [
       "    year    MaxWind   period\n",
       "0   1968  12.347503  current\n",
       "1   1969  11.888755  current\n",
       "2   1970  13.238945  current\n",
       "3   1971  12.928904  current\n",
       "4   1972  13.468797  current\n",
       "5   1973  11.172457  current\n",
       "6   1974  13.335457  current\n",
       "7   1975  10.251927  current\n",
       "0   2060   9.371541   future\n",
       "1   2061  11.011634   future\n",
       "2   2062  12.598370   future\n",
       "3   2063  13.698321   future\n",
       "4   2064  13.343469   future\n",
       "5   2065  12.348142   future\n",
       "6   2066  11.584583   future\n",
       "7   2067  12.152034   future\n",
       "8   2068  11.803428   future\n",
       "9   2069  11.688226   future\n",
       "10  2070  11.545067   future"
      ]
     },
     "metadata": {},
     "output_type": "display_data"
    }
   ],
   "source": [
    "display('precip_plot_df', precip_plot_df)\n",
    "print()\n",
    "display('wind_plot_df', wind_plot_df)"
   ]
  },
  {
   "cell_type": "markdown",
   "id": "cd753273",
   "metadata": {},
   "source": [
    "# Fitting Data to Statistical Distributions"
   ]
  },
  {
   "cell_type": "code",
   "execution_count": 32,
   "id": "0e4aeb2d",
   "metadata": {},
   "outputs": [],
   "source": [
    "alpha = 0.95 \n",
    "#rp_critical = np.array([2500, 6500])\n",
    "rp_critical = np.array([10, 20])\n",
    "currentWindRLs = main.myextremes(windDF_current_AnnMax, rp_critical, 'MaxWind', alpha)"
   ]
  },
  {
   "cell_type": "code",
   "execution_count": 33,
   "id": "88d5a19b",
   "metadata": {},
   "outputs": [
    {
     "data": {
      "text/html": [
       "<div>\n",
       "<style scoped>\n",
       "    .dataframe tbody tr th:only-of-type {\n",
       "        vertical-align: middle;\n",
       "    }\n",
       "\n",
       "    .dataframe tbody tr th {\n",
       "        vertical-align: top;\n",
       "    }\n",
       "\n",
       "    .dataframe thead th {\n",
       "        text-align: right;\n",
       "    }\n",
       "</style>\n",
       "<table border=\"1\" class=\"dataframe\">\n",
       "  <thead>\n",
       "    <tr style=\"text-align: right;\">\n",
       "      <th></th>\n",
       "      <th>return value</th>\n",
       "      <th>lower ci</th>\n",
       "      <th>upper ci</th>\n",
       "    </tr>\n",
       "    <tr>\n",
       "      <th>return period</th>\n",
       "      <th></th>\n",
       "      <th></th>\n",
       "      <th></th>\n",
       "    </tr>\n",
       "  </thead>\n",
       "  <tbody>\n",
       "    <tr>\n",
       "      <th>10.0</th>\n",
       "      <td>13.420384</td>\n",
       "      <td>11.172457</td>\n",
       "      <td>13.458862</td>\n",
       "    </tr>\n",
       "    <tr>\n",
       "      <th>20.0</th>\n",
       "      <td>13.450531</td>\n",
       "      <td>11.172457</td>\n",
       "      <td>13.888487</td>\n",
       "    </tr>\n",
       "  </tbody>\n",
       "</table>\n",
       "</div>"
      ],
      "text/plain": [
       "               return value   lower ci   upper ci\n",
       "return period                                    \n",
       "10.0              13.420384  11.172457  13.458862\n",
       "20.0              13.450531  11.172457  13.888487"
      ]
     },
     "metadata": {},
     "output_type": "display_data"
    }
   ],
   "source": [
    "display(currentWindRLs)"
   ]
  },
  {
   "cell_type": "code",
   "execution_count": 34,
   "id": "94bfcd5d",
   "metadata": {},
   "outputs": [
    {
     "name": "stderr",
     "output_type": "stream",
     "text": [
      "C:\\Users\\hmendo\\AppData\\Local\\Continuum\\anaconda3\\envs\\py3109_clone\\lib\\site-packages\\numpy\\lib\\function_base.py:4009: RuntimeWarning: invalid value encountered in subtract\n",
      "  diff_b_a = subtract(b, a)\n"
     ]
    }
   ],
   "source": [
    "rp_array = np.arange(1,100)\n",
    "futureWindRLs = main.myextremes(windDF_future_AnnMax, rp_array, 'MaxWind', alpha)"
   ]
  },
  {
   "cell_type": "code",
   "execution_count": 35,
   "id": "0def6d42",
   "metadata": {},
   "outputs": [
    {
     "data": {
      "text/html": [
       "<div>\n",
       "<style scoped>\n",
       "    .dataframe tbody tr th:only-of-type {\n",
       "        vertical-align: middle;\n",
       "    }\n",
       "\n",
       "    .dataframe tbody tr th {\n",
       "        vertical-align: top;\n",
       "    }\n",
       "\n",
       "    .dataframe thead th {\n",
       "        text-align: right;\n",
       "    }\n",
       "</style>\n",
       "<table border=\"1\" class=\"dataframe\">\n",
       "  <thead>\n",
       "    <tr style=\"text-align: right;\">\n",
       "      <th></th>\n",
       "      <th>return value</th>\n",
       "      <th>lower ci</th>\n",
       "      <th>upper ci</th>\n",
       "    </tr>\n",
       "    <tr>\n",
       "      <th>return period</th>\n",
       "      <th></th>\n",
       "      <th></th>\n",
       "      <th></th>\n",
       "    </tr>\n",
       "  </thead>\n",
       "  <tbody>\n",
       "    <tr>\n",
       "      <th>1.0</th>\n",
       "      <td>-inf</td>\n",
       "      <td>NaN</td>\n",
       "      <td>1.154507e+01</td>\n",
       "    </tr>\n",
       "    <tr>\n",
       "      <th>2.0</th>\n",
       "      <td>12.059060</td>\n",
       "      <td>11.339281</td>\n",
       "      <td>1.307008e+01</td>\n",
       "    </tr>\n",
       "    <tr>\n",
       "      <th>3.0</th>\n",
       "      <td>12.531663</td>\n",
       "      <td>11.753989</td>\n",
       "      <td>1.343978e+01</td>\n",
       "    </tr>\n",
       "    <tr>\n",
       "      <th>4.0</th>\n",
       "      <td>12.773702</td>\n",
       "      <td>11.959952</td>\n",
       "      <td>1.354272e+01</td>\n",
       "    </tr>\n",
       "    <tr>\n",
       "      <th>5.0</th>\n",
       "      <td>12.927805</td>\n",
       "      <td>12.078174</td>\n",
       "      <td>1.394525e+01</td>\n",
       "    </tr>\n",
       "    <tr>\n",
       "      <th>...</th>\n",
       "      <td>...</td>\n",
       "      <td>...</td>\n",
       "      <td>...</td>\n",
       "    </tr>\n",
       "    <tr>\n",
       "      <th>95.0</th>\n",
       "      <td>13.814580</td>\n",
       "      <td>12.342852</td>\n",
       "      <td>2.201098e+08</td>\n",
       "    </tr>\n",
       "    <tr>\n",
       "      <th>96.0</th>\n",
       "      <td>13.815869</td>\n",
       "      <td>12.342909</td>\n",
       "      <td>2.346167e+08</td>\n",
       "    </tr>\n",
       "    <tr>\n",
       "      <th>97.0</th>\n",
       "      <td>13.817138</td>\n",
       "      <td>12.342965</td>\n",
       "      <td>2.499154e+08</td>\n",
       "    </tr>\n",
       "    <tr>\n",
       "      <th>98.0</th>\n",
       "      <td>13.818387</td>\n",
       "      <td>12.343019</td>\n",
       "      <td>2.660403e+08</td>\n",
       "    </tr>\n",
       "    <tr>\n",
       "      <th>99.0</th>\n",
       "      <td>13.819617</td>\n",
       "      <td>12.343073</td>\n",
       "      <td>2.830270e+08</td>\n",
       "    </tr>\n",
       "  </tbody>\n",
       "</table>\n",
       "<p>99 rows × 3 columns</p>\n",
       "</div>"
      ],
      "text/plain": [
       "               return value   lower ci      upper ci\n",
       "return period                                       \n",
       "1.0                    -inf        NaN  1.154507e+01\n",
       "2.0               12.059060  11.339281  1.307008e+01\n",
       "3.0               12.531663  11.753989  1.343978e+01\n",
       "4.0               12.773702  11.959952  1.354272e+01\n",
       "5.0               12.927805  12.078174  1.394525e+01\n",
       "...                     ...        ...           ...\n",
       "95.0              13.814580  12.342852  2.201098e+08\n",
       "96.0              13.815869  12.342909  2.346167e+08\n",
       "97.0              13.817138  12.342965  2.499154e+08\n",
       "98.0              13.818387  12.343019  2.660403e+08\n",
       "99.0              13.819617  12.343073  2.830270e+08\n",
       "\n",
       "[99 rows x 3 columns]"
      ]
     },
     "metadata": {},
     "output_type": "display_data"
    }
   ],
   "source": [
    "display(futureWindRLs)"
   ]
  },
  {
   "cell_type": "markdown",
   "id": "de16b80e",
   "metadata": {},
   "source": [
    "# Finding \"future return periods\" that correspond to return levels identified from \"current return periods\""
   ]
  },
  {
   "cell_type": "code",
   "execution_count": 37,
   "id": "5e8f15ab",
   "metadata": {},
   "outputs": [],
   "source": [
    "futureRP_from10currentRL = main.find_rl_location(futureWindRLs, currentWindRLs.loc[10.0, 'return value'])\n",
    "futureRP_from20currentRL = main.find_rl_location(futureWindRLs, currentWindRLs.loc[20.0, 'return value'])"
   ]
  },
  {
   "cell_type": "code",
   "execution_count": 38,
   "id": "b977aa60",
   "metadata": {},
   "outputs": [
    {
     "data": {
      "text/plain": [
       "14.0"
      ]
     },
     "execution_count": 38,
     "metadata": {},
     "output_type": "execute_result"
    }
   ],
   "source": [
    "futureRP_from10currentRL"
   ]
  },
  {
   "cell_type": "code",
   "execution_count": 39,
   "id": "2c8214cd",
   "metadata": {},
   "outputs": [
    {
     "data": {
      "text/plain": [
       "16.0"
      ]
     },
     "execution_count": 39,
     "metadata": {},
     "output_type": "execute_result"
    }
   ],
   "source": [
    "futureRP_from20currentRL"
   ]
  },
  {
   "cell_type": "code",
   "execution_count": null,
   "id": "37124631",
   "metadata": {},
   "outputs": [],
   "source": []
  }
 ],
 "metadata": {
  "kernelspec": {
   "display_name": "Python 3 (ipykernel)",
   "language": "python",
   "name": "python3"
  },
  "language_info": {
   "codemirror_mode": {
    "name": "ipython",
    "version": 3
   },
   "file_extension": ".py",
   "mimetype": "text/x-python",
   "name": "python",
   "nbconvert_exporter": "python",
   "pygments_lexer": "ipython3",
   "version": "3.10.9"
  }
 },
 "nbformat": 4,
 "nbformat_minor": 5
}
